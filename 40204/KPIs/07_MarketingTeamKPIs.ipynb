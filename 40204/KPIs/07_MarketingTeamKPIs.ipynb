{
 "cells": [
  {
   "attachments": {},
   "cell_type": "markdown",
   "metadata": {},
   "source": [
    "<div>\n",
    "    <h1 style=\"text-align:center; font-family: Vazirmatn, B Nazanin, Tahoma; font-size:14pt; font-weight: 900;\">\n",
    "        تیم هفتم؛ بازاریابی\n",
    "    </h1>\n",
    "    <p style=\"text-align:center; font-family: Vazirmatn, B Nazanin, Tahoma; font-size:13pt; line-height:2;\">\n",
    "        <span style=\"font-weight:700;\">تعریف شاخص‌های کلیدی عملکرد برای شرکت چارگون </span>\n",
    "    <br>\n",
    "        <span style=\"font-weight:700;\"> تدوین:</span> مصطفی کریمی\n",
    "    <br>\n",
    "        <span style=\"font-weight:700;\">کنترل:</span> مهدی عامری\n",
    "    <br>\n",
    "        <span style=\"color: #646464; font-size:11pt;\">نسخه اول - ویرایش اول - تاریخ ۱۴۰۲/۰۴/۰۳ </span>\n",
    "    </p>\n",
    "</div>\n",
    "\n",
    "\n",
    "\n",
    "<p style=\"text-align:center;\">\n",
    "    <a href=\"https://wakatime.com/badge/user/77c38c6e-61da-47be-8032-3396542aff6d/project/9d7b8c7d-6848-4ddc-a51c-c1fba9e5160e\" target=\"_blank\"><img src=\"https://wakatime.com/badge/user/77c38c6e-61da-47be-8032-3396542aff6d/project/9d7b8c7d-6848-4ddc-a51c-c1fba9e5160e.svg\" alt=\"wakatime\"></a> &nbsp;\n",
    "    <a href=\"https://wakatime.com/@mkarimi21/projects/icxncnrgsb\"><img src=\"https://badgen.net/static/Repo/Dashboard/red?icon=graphql&label/\" alt=\"wakatim_dashboard\" target=\"_blank\"></a>\n",
    "</p>"
   ]
  },
  {
   "attachments": {},
   "cell_type": "markdown",
   "metadata": {},
   "source": [
    "<div dir=\"rtl\">\n",
    "    <h2 style=\"text-align:right; font-family: Vazirmatn, B Nazanin, Tahoma; font-size:14pt; font-weight:700;\">\n",
    "    شاخص‌های علمکردی برای تیم بازاریابی\n",
    "    </h2>\n",
    "</div>\n",
    "\n"
   ]
  },
  {
   "attachments": {},
   "cell_type": "markdown",
   "metadata": {},
   "source": [
    "<div dir=\"rtl\">\n",
    "    <p style=\"text-align:right; font-family: Vazirmatn, B Nazanin, Tahoma; font-size:11pt; line-height:2; padding-right:10;\">\n",
    "        <b>منابع بازاریابی</b> منابعی که شما را به مشتریان بالقوه معرفی می‌کند. اولین قدم برای ارتباط با مشتریان است.\n",
    "    <br>\n",
    "    </p>\n",
    "</div>\n",
    "\n",
    "<div dir=\"rtl\">\n",
    "    <p style=\"text-align:right; font-family: Vazirmatn, B Nazanin, Tahoma; font-size:13pt; line-height:2;\">\n",
    "        لیست منابع بازاریابی\n",
    "    </p>\n",
    "    <span style=\"text-align:right; font-family: Vazirmatn, B Nazanin, Tahoma; font-size:11pt; line-height:2; color: #656565; padding-right:20px;\"> ۱. رسانه‌های سنتی مانند بیلبورد، تلوزیون و رادیو</span><br>\n",
    "    <span style=\"text-align:right; font-family: Vazirmatn, B Nazanin, Tahoma; font-size:11pt; line-height:2; color: #656565; padding-right:20px;\"> ۲. تماس تلفنی</span><br>\n",
    "    <span style=\"text-align:right; font-family: Vazirmatn, B Nazanin, Tahoma; font-size:11pt; line-height:2; color: #656565; padding-right:20px;\"> ۳. ایجاد تبلیعات در سایت‌هایی مانند شیپور، دیوار و غیره</span><br>\n",
    "    <span style=\"text-align:right; font-family: Vazirmatn, B Nazanin, Tahoma; font-size:11pt; line-height:2; color: #656565; padding-right:20px;\"> ۴. تشویق مشتریان وفادار به معرفی ما به سایر دوستانشان </span><br>\n",
    "    <span style=\"text-align:right; font-family: Vazirmatn, B Nazanin, Tahoma; font-size:11pt; line-height:2; color: #656565; padding-right:20px;\"> ۵. رویدادهایی مانند برگزاری نمایشگاه‌های تجاری، سمینارهای رایگان تبلیغاتی و... </span><br>\n",
    "    <span style=\"text-align:right; font-family: Vazirmatn, B Nazanin, Tahoma; font-size:11pt; line-height:2; color: #656565; padding-right:20px;\"> ۶. جستجوگرهایی مانند گوگل </span><br>\n",
    "    <span style=\"text-align:right; font-family: Vazirmatn, B Nazanin, Tahoma; font-size:11pt; line-height:2; color: #656565; padding-right:20px;\"> ۷. ارائه‌ی لینک در سایت‌ها</span><br>\n",
    "    <span style=\"text-align:right; font-family: Vazirmatn, B Nazanin, Tahoma; font-size:11pt; line-height:2; color: #656565; padding-right:20px;\"> ۸. نرخ کلیک </span><br>\n",
    "    <span style=\"text-align:right; font-family: Vazirmatn, B Nazanin, Tahoma; font-size:11pt; line-height:2; color: #656565; padding-right:20px;\"> ۹. شبکه‌های اجتماعی </span><br>\n",
    "    <span style=\"text-align:right; font-family: Vazirmatn, B Nazanin, Tahoma; font-size:11pt; line-height:2; color: #656565; padding-right:20px;\"> ۱۰. خبرنامه‌های ایمیل </span><br>\n",
    "</div>\n",
    "\n",
    "<div dir=\"rtl\">\n",
    "    <p style=\"text-align:right; font-family: Vazirmatn, B Nazanin, Tahoma; font-size:13pt; line-height:2;\">\n",
    "        روش‌های بازاریابی (شیوه‌هایی است که مشتری با ما تماس می‌گیرد و همچنین فرصتی برای ماست که ارزش خود و محصول را به مشتری نشان دهیم)\n",
    "    </p>\n",
    "    <span style=\"text-align:right; font-family: Vazirmatn, B Nazanin, Tahoma; font-size:11pt; line-height:2; color: #656565; padding-right:20px;\"> ۱. تلفن</span><br>\n",
    "    <span style=\"text-align:right; font-family: Vazirmatn, B Nazanin, Tahoma; font-size:11pt; line-height:2; color: #656565; padding-right:20px;\"> ۲. پست الکترونیک</span><br>\n",
    "    <span style=\"text-align:right; font-family: Vazirmatn, B Nazanin, Tahoma; font-size:11pt; line-height:2; color: #656565; padding-right:20px;\"> ۳. مکالمه‌ی حضوری و رودررو</span><br>\n",
    "    <span style=\"text-align:right; font-family: Vazirmatn, B Nazanin, Tahoma; font-size:11pt; line-height:2; color: #656565; padding-right:20px;\"> ۴. وب‌سایت‌ها</span><br>\n",
    "    <span style=\"text-align:right; font-family: Vazirmatn, B Nazanin, Tahoma; font-size:11pt; line-height:2; color: #656565; padding-right:20px;\"> ۵. رسانه‌های اجتماعی</span><br>\n",
    "    </p>\n",
    "</div>"
   ]
  },
  {
   "attachments": {},
   "cell_type": "markdown",
   "metadata": {},
   "source": [
    "<p style=\"text-align:center;\">\n",
    "    <img src=\"https://user-images.githubusercontent.com/85065799/204543278-26c507b6-400a-42e0-852f-2e09362f6e12.png\" alt=\"Line\" target=\"_blank\">\n",
    "</p>"
   ]
  }
 ],
 "metadata": {
  "language_info": {
   "name": "python"
  },
  "orig_nbformat": 4
 },
 "nbformat": 4,
 "nbformat_minor": 2
}
