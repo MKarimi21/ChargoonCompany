{
 "cells": [
  {
   "attachments": {},
   "cell_type": "markdown",
   "metadata": {},
   "source": [
    "<div>\n",
    "    <h1 style=\"text-align:center; font-family: Vazirmatn, B Nazanin, Tahoma; font-size:14pt;\">\n",
    "        ارزیابی راه‌کار؛ شاخص کلیدی عملکرد\n",
    "    </h1>\n",
    "    <p style=\"text-align:center; font-family: Vazirmatn, B Nazanin, Tahoma; font-size:11pt;\">\n",
    "        تعریف شاخص‌های کلیدی عملکرد برای شرکت چارگون\n",
    "    <br>\n",
    "        تدوین: مصطفی کریمی\n",
    "    <br>\n",
    "        کنترل: مهدی عامری\n",
    "    <br>\n",
    "        نسخه اول - ویرایش اول - تاریخ ۱۴۰۲/۰۴/۰۳    \n",
    "    </p>\n",
    "</div>\n",
    "\n",
    "\n",
    "<p align=\"center\">\n",
    "    <a href=\"https://wakatime.com/badge/user/77c38c6e-61da-47be-8032-3396542aff6d/project/9d7b8c7d-6848-4ddc-a51c-c1fba9e5160e\"><img src=\"https://wakatime.com/badge/user/77c38c6e-61da-47be-8032-3396542aff6d/project/9d7b8c7d-6848-4ddc-a51c-c1fba9e5160e.svg\" alt=\"wakatime\"></a>\n",
    "</p>"
   ]
  },
  {
   "attachments": {},
   "cell_type": "markdown",
   "metadata": {},
   "source": []
  }
 ],
 "metadata": {
  "language_info": {
   "name": "python"
  },
  "orig_nbformat": 4
 },
 "nbformat": 4,
 "nbformat_minor": 2
}
