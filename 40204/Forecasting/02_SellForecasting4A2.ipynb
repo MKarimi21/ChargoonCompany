{
 "cells": [
  {
   "cell_type": "code",
   "execution_count": 1,
   "id": "1141b68d",
   "metadata": {},
   "outputs": [],
   "source": [
    "import pycaret as pc\n",
    "import pandas as pd"
   ]
  },
  {
   "cell_type": "code",
   "execution_count": 2,
   "id": "9f82bfd2",
   "metadata": {},
   "outputs": [
    {
     "data": {
      "text/html": [
       "<div>\n",
       "<style scoped>\n",
       "    .dataframe tbody tr th:only-of-type {\n",
       "        vertical-align: middle;\n",
       "    }\n",
       "\n",
       "    .dataframe tbody tr th {\n",
       "        vertical-align: top;\n",
       "    }\n",
       "\n",
       "    .dataframe thead th {\n",
       "        text-align: right;\n",
       "    }\n",
       "</style>\n",
       "<table border=\"1\" class=\"dataframe\">\n",
       "  <thead>\n",
       "    <tr style=\"text-align: right;\">\n",
       "      <th></th>\n",
       "      <th>Date</th>\n",
       "      <th>A1</th>\n",
       "      <th>A2</th>\n",
       "      <th>A3</th>\n",
       "      <th>A4</th>\n",
       "      <th>A5</th>\n",
       "      <th>A6</th>\n",
       "      <th>A7</th>\n",
       "      <th>A8</th>\n",
       "      <th>A9</th>\n",
       "      <th>...</th>\n",
       "      <th>A15</th>\n",
       "      <th>A16</th>\n",
       "      <th>A17</th>\n",
       "      <th>A18</th>\n",
       "      <th>A19</th>\n",
       "      <th>A20</th>\n",
       "      <th>A21</th>\n",
       "      <th>A22</th>\n",
       "      <th>A23</th>\n",
       "      <th>A24</th>\n",
       "    </tr>\n",
       "  </thead>\n",
       "  <tbody>\n",
       "    <tr>\n",
       "      <th>0</th>\n",
       "      <td>2014-03-01</td>\n",
       "      <td>2</td>\n",
       "      <td>2</td>\n",
       "      <td>0</td>\n",
       "      <td>1</td>\n",
       "      <td>1</td>\n",
       "      <td>0</td>\n",
       "      <td>2</td>\n",
       "      <td>0</td>\n",
       "      <td>1</td>\n",
       "      <td>...</td>\n",
       "      <td>0</td>\n",
       "      <td>0</td>\n",
       "      <td>1</td>\n",
       "      <td>0</td>\n",
       "      <td>1</td>\n",
       "      <td>0</td>\n",
       "      <td>1</td>\n",
       "      <td>1</td>\n",
       "      <td>0</td>\n",
       "      <td>0</td>\n",
       "    </tr>\n",
       "    <tr>\n",
       "      <th>1</th>\n",
       "      <td>2014-04-01</td>\n",
       "      <td>6</td>\n",
       "      <td>4</td>\n",
       "      <td>0</td>\n",
       "      <td>2</td>\n",
       "      <td>4</td>\n",
       "      <td>0</td>\n",
       "      <td>1</td>\n",
       "      <td>1</td>\n",
       "      <td>0</td>\n",
       "      <td>...</td>\n",
       "      <td>0</td>\n",
       "      <td>1</td>\n",
       "      <td>0</td>\n",
       "      <td>2</td>\n",
       "      <td>6</td>\n",
       "      <td>3</td>\n",
       "      <td>5</td>\n",
       "      <td>5</td>\n",
       "      <td>2</td>\n",
       "      <td>2</td>\n",
       "    </tr>\n",
       "    <tr>\n",
       "      <th>2</th>\n",
       "      <td>2014-05-01</td>\n",
       "      <td>9</td>\n",
       "      <td>3</td>\n",
       "      <td>0</td>\n",
       "      <td>3</td>\n",
       "      <td>6</td>\n",
       "      <td>0</td>\n",
       "      <td>0</td>\n",
       "      <td>1</td>\n",
       "      <td>0</td>\n",
       "      <td>...</td>\n",
       "      <td>0</td>\n",
       "      <td>0</td>\n",
       "      <td>2</td>\n",
       "      <td>0</td>\n",
       "      <td>4</td>\n",
       "      <td>1</td>\n",
       "      <td>3</td>\n",
       "      <td>1</td>\n",
       "      <td>0</td>\n",
       "      <td>0</td>\n",
       "    </tr>\n",
       "    <tr>\n",
       "      <th>3</th>\n",
       "      <td>2014-06-01</td>\n",
       "      <td>8</td>\n",
       "      <td>3</td>\n",
       "      <td>2</td>\n",
       "      <td>6</td>\n",
       "      <td>6</td>\n",
       "      <td>0</td>\n",
       "      <td>2</td>\n",
       "      <td>2</td>\n",
       "      <td>4</td>\n",
       "      <td>...</td>\n",
       "      <td>0</td>\n",
       "      <td>0</td>\n",
       "      <td>2</td>\n",
       "      <td>0</td>\n",
       "      <td>6</td>\n",
       "      <td>2</td>\n",
       "      <td>6</td>\n",
       "      <td>3</td>\n",
       "      <td>0</td>\n",
       "      <td>0</td>\n",
       "    </tr>\n",
       "    <tr>\n",
       "      <th>4</th>\n",
       "      <td>2014-07-01</td>\n",
       "      <td>11</td>\n",
       "      <td>4</td>\n",
       "      <td>0</td>\n",
       "      <td>6</td>\n",
       "      <td>4</td>\n",
       "      <td>0</td>\n",
       "      <td>2</td>\n",
       "      <td>3</td>\n",
       "      <td>3</td>\n",
       "      <td>...</td>\n",
       "      <td>0</td>\n",
       "      <td>0</td>\n",
       "      <td>2</td>\n",
       "      <td>0</td>\n",
       "      <td>9</td>\n",
       "      <td>0</td>\n",
       "      <td>6</td>\n",
       "      <td>5</td>\n",
       "      <td>0</td>\n",
       "      <td>0</td>\n",
       "    </tr>\n",
       "  </tbody>\n",
       "</table>\n",
       "<p>5 rows × 25 columns</p>\n",
       "</div>"
      ],
      "text/plain": [
       "        Date  A1  A2  A3  A4  A5  A6  A7  A8  A9  ...  A15  A16  A17  A18  \\\n",
       "0 2014-03-01   2   2   0   1   1   0   2   0   1  ...    0    0    1    0   \n",
       "1 2014-04-01   6   4   0   2   4   0   1   1   0  ...    0    1    0    2   \n",
       "2 2014-05-01   9   3   0   3   6   0   0   1   0  ...    0    0    2    0   \n",
       "3 2014-06-01   8   3   2   6   6   0   2   2   4  ...    0    0    2    0   \n",
       "4 2014-07-01  11   4   0   6   4   0   2   3   3  ...    0    0    2    0   \n",
       "\n",
       "   A19  A20  A21  A22  A23  A24  \n",
       "0    1    0    1    1    0    0  \n",
       "1    6    3    5    5    2    2  \n",
       "2    4    1    3    1    0    0  \n",
       "3    6    2    6    3    0    0  \n",
       "4    9    0    6    5    0    0  \n",
       "\n",
       "[5 rows x 25 columns]"
      ]
     },
     "execution_count": 2,
     "metadata": {},
     "output_type": "execute_result"
    }
   ],
   "source": [
    "sell_data = pd.read_excel('./HistoryOfSell_Rev02.xlsx', sheet_name='Sell')\n",
    "\n",
    "sell_data.head()"
   ]
  },
  {
   "cell_type": "code",
   "execution_count": 13,
   "id": "b8c0eaff",
   "metadata": {},
   "outputs": [
    {
     "data": {
      "text/html": [
       "<style type=\"text/css\">\n",
       "#T_3c5e3 thead>tr>th {\n",
       "  text-align: left;\n",
       "}\n",
       "#T_3c5e3_row0_col0, #T_3c5e3_row1_col0, #T_3c5e3_row2_col0, #T_3c5e3_row3_col0, #T_3c5e3_row4_col0, #T_3c5e3_row5_col0, #T_3c5e3_row6_col0, #T_3c5e3_row7_col0, #T_3c5e3_row8_col0, #T_3c5e3_row9_col0, #T_3c5e3_row10_col0, #T_3c5e3_row11_col0, #T_3c5e3_row12_col0, #T_3c5e3_row13_col0, #T_3c5e3_row14_col0, #T_3c5e3_row15_col0, #T_3c5e3_row16_col0, #T_3c5e3_row17_col0, #T_3c5e3_row18_col0, #T_3c5e3_row19_col0, #T_3c5e3_row20_col0, #T_3c5e3_row21_col0, #T_3c5e3_row22_col0, #T_3c5e3_row23_col0, #T_3c5e3_row24_col0 {\n",
       "  text-align: left;\n",
       "  font-size: 12px;\n",
       "  vertical-align: middle;\n",
       "  width: 5%;\n",
       "  max-width: 50px;\n",
       "  min-width: 20px;\n",
       "}\n",
       "#T_3c5e3_row0_col1, #T_3c5e3_row1_col1, #T_3c5e3_row2_col1, #T_3c5e3_row3_col1, #T_3c5e3_row4_col1, #T_3c5e3_row5_col1, #T_3c5e3_row6_col1, #T_3c5e3_row7_col1, #T_3c5e3_row8_col1, #T_3c5e3_row9_col1, #T_3c5e3_row10_col1, #T_3c5e3_row11_col1, #T_3c5e3_row12_col1, #T_3c5e3_row13_col1, #T_3c5e3_row14_col1, #T_3c5e3_row15_col1, #T_3c5e3_row16_col1, #T_3c5e3_row17_col1, #T_3c5e3_row18_col1, #T_3c5e3_row19_col1, #T_3c5e3_row20_col1, #T_3c5e3_row21_col1, #T_3c5e3_row22_col1, #T_3c5e3_row23_col1, #T_3c5e3_row24_col1 {\n",
       "  text-align: left;\n",
       "  font-size: 12px;\n",
       "  vertical-align: middle;\n",
       "  width: 15%;\n",
       "  max-width: 200px;\n",
       "  min-width: 100px;\n",
       "  word-break: break-word;\n",
       "}\n",
       "#T_3c5e3_row0_col2, #T_3c5e3_row1_col2, #T_3c5e3_row2_col2, #T_3c5e3_row3_col2, #T_3c5e3_row4_col2, #T_3c5e3_row5_col2, #T_3c5e3_row6_col2, #T_3c5e3_row7_col2, #T_3c5e3_row8_col2, #T_3c5e3_row9_col2, #T_3c5e3_row10_col2, #T_3c5e3_row11_col2, #T_3c5e3_row12_col2, #T_3c5e3_row13_col2, #T_3c5e3_row14_col2, #T_3c5e3_row15_col2, #T_3c5e3_row16_col2, #T_3c5e3_row17_col2, #T_3c5e3_row18_col2, #T_3c5e3_row19_col2, #T_3c5e3_row20_col2, #T_3c5e3_row21_col2, #T_3c5e3_row22_col2, #T_3c5e3_row23_col2, #T_3c5e3_row24_col2 {\n",
       "  text-align: left;\n",
       "  font-size: 12px;\n",
       "  vertical-align: middle;\n",
       "  width: 30%;\n",
       "  min-width: 100px;\n",
       "}\n",
       "#T_3c5e3_row0_col3, #T_3c5e3_row1_col3, #T_3c5e3_row2_col3, #T_3c5e3_row3_col3, #T_3c5e3_row4_col3, #T_3c5e3_row5_col3, #T_3c5e3_row6_col3, #T_3c5e3_row7_col3, #T_3c5e3_row8_col3, #T_3c5e3_row9_col3, #T_3c5e3_row10_col3, #T_3c5e3_row11_col3, #T_3c5e3_row12_col3, #T_3c5e3_row13_col3, #T_3c5e3_row14_col3, #T_3c5e3_row15_col3, #T_3c5e3_row16_col3, #T_3c5e3_row17_col3, #T_3c5e3_row18_col3, #T_3c5e3_row19_col3, #T_3c5e3_row20_col3, #T_3c5e3_row21_col3, #T_3c5e3_row22_col3, #T_3c5e3_row23_col3, #T_3c5e3_row24_col3 {\n",
       "  text-align: left;\n",
       "  font-size: 12px;\n",
       "  vertical-align: middle;\n",
       "  width: 25%;\n",
       "  min-width: 100px;\n",
       "}\n",
       "#T_3c5e3_row0_col4, #T_3c5e3_row1_col4, #T_3c5e3_row2_col4, #T_3c5e3_row3_col4, #T_3c5e3_row4_col4, #T_3c5e3_row5_col4, #T_3c5e3_row6_col4, #T_3c5e3_row7_col4, #T_3c5e3_row8_col4, #T_3c5e3_row9_col4, #T_3c5e3_row10_col4, #T_3c5e3_row11_col4, #T_3c5e3_row12_col4, #T_3c5e3_row13_col4, #T_3c5e3_row14_col4, #T_3c5e3_row15_col4, #T_3c5e3_row16_col4, #T_3c5e3_row17_col4, #T_3c5e3_row18_col4, #T_3c5e3_row19_col4, #T_3c5e3_row20_col4, #T_3c5e3_row21_col4, #T_3c5e3_row22_col4, #T_3c5e3_row23_col4, #T_3c5e3_row24_col4 {\n",
       "  text-align: left;\n",
       "  font-size: 12px;\n",
       "  vertical-align: middle;\n",
       "  width: 20%;\n",
       "  min-width: 150px;\n",
       "}\n",
       "#T_3c5e3_row0_col5, #T_3c5e3_row1_col5, #T_3c5e3_row2_col5, #T_3c5e3_row3_col5, #T_3c5e3_row4_col5, #T_3c5e3_row5_col5, #T_3c5e3_row6_col5, #T_3c5e3_row7_col5, #T_3c5e3_row8_col5, #T_3c5e3_row9_col5, #T_3c5e3_row10_col5, #T_3c5e3_row11_col5, #T_3c5e3_row12_col5, #T_3c5e3_row13_col5, #T_3c5e3_row14_col5, #T_3c5e3_row15_col5, #T_3c5e3_row16_col5, #T_3c5e3_row17_col5, #T_3c5e3_row18_col5, #T_3c5e3_row19_col5, #T_3c5e3_row20_col5, #T_3c5e3_row21_col5, #T_3c5e3_row22_col5, #T_3c5e3_row23_col5, #T_3c5e3_row24_col5 {\n",
       "  text-align: left;\n",
       "  font-size: 12px;\n",
       "  vertical-align: middle;\n",
       "  width: 10%;\n",
       "}\n",
       "</style>\n",
       "<table id=\"T_3c5e3\">\n",
       "  <caption><strong>Data Frame Summary</strong><br>sell_data<br>Dimensions: 111 x 25<br>Duplicates: 0</caption>\n",
       "  <thead>\n",
       "    <tr>\n",
       "      <th id=\"T_3c5e3_level0_col0\" class=\"col_heading level0 col0\" >No</th>\n",
       "      <th id=\"T_3c5e3_level0_col1\" class=\"col_heading level0 col1\" >Variable</th>\n",
       "      <th id=\"T_3c5e3_level0_col2\" class=\"col_heading level0 col2\" >Stats / Values</th>\n",
       "      <th id=\"T_3c5e3_level0_col3\" class=\"col_heading level0 col3\" >Freqs / (% of Valid)</th>\n",
       "      <th id=\"T_3c5e3_level0_col4\" class=\"col_heading level0 col4\" >Graph</th>\n",
       "      <th id=\"T_3c5e3_level0_col5\" class=\"col_heading level0 col5\" >Missing</th>\n",
       "    </tr>\n",
       "  </thead>\n",
       "  <tbody>\n",
       "    <tr>\n",
       "      <td id=\"T_3c5e3_row0_col0\" class=\"data row0 col0\" >1</td>\n",
       "      <td id=\"T_3c5e3_row0_col1\" class=\"data row0 col1\" ><strong>Date</strong><br>[datetime64[ns]]</td>\n",
       "      <td id=\"T_3c5e3_row0_col2\" class=\"data row0 col2\" >Min: 2014-03-01<br>Max: 2023-05-01<br>Duration: 3,348 days</td>\n",
       "      <td id=\"T_3c5e3_row0_col3\" class=\"data row0 col3\" >111 distinct values</td>\n",
       "      <td id=\"T_3c5e3_row0_col4\" class=\"data row0 col4\" ><img src = \"data:image/png;base64, iVBORw0KGgoAAAANSUhEUgAAAG8AAAA2CAYAAADJRMdfAAAAOXRFWHRTb2Z0d2FyZQBNYXRwbG90bGliIHZlcnNpb24zLjUuMSwgaHR0cHM6Ly9tYXRwbG90bGliLm9yZy/YYfK9AAAACXBIWXMAAAsTAAALEwEAmpwYAAABCElEQVR4nO3VsQkCMRSA4VMsX31X2LiBEziEE2S2TOAU7mFj4dUpD85KEDkxiHL++H9d4BECP+QtxnFsxLSc+wF632ruB/y7tm33EdHVzJZSLn3fH25n480sIrqU0rlmNue8vj/7bYIZD8x4YJM7r3aJllI2EXH61Nw37vz1uWEYtk3TVO28R5PxapdoznmXUjp+au4bdxLmXs0847cJZjww44EZD8x4YMYDMx6Y8cCMB2Y8MOOBGQ/MeGDGAzMemPHAjAdmPDDjgRkPzHhgxgMzHpjxwIwHZjww44EZD8x4YMYDMx6Y8cCMB2Y8MOOBGQ/MeGDGAzMemPHAjAdmPDDjgRkPzHhgV7PYWO+hYbPBAAAAAElFTkSuQmCC\"></img></td>\n",
       "      <td id=\"T_3c5e3_row0_col5\" class=\"data row0 col5\" >0<br>(0.0%)</td>\n",
       "    </tr>\n",
       "    <tr>\n",
       "      <td id=\"T_3c5e3_row1_col0\" class=\"data row1 col0\" >2</td>\n",
       "      <td id=\"T_3c5e3_row1_col1\" class=\"data row1 col1\" ><strong>A1</strong><br>[int64]</td>\n",
       "      <td id=\"T_3c5e3_row1_col2\" class=\"data row1 col2\" >Mean (sd) : 9.7 (5.7)<br>min < med < max:<br>0.0 < 8.0 < 28.0<br>IQR (CV) : 6.0 (1.7)</td>\n",
       "      <td id=\"T_3c5e3_row1_col3\" class=\"data row1 col3\" >22 distinct values</td>\n",
       "      <td id=\"T_3c5e3_row1_col4\" class=\"data row1 col4\" ><img src = \"data:image/png;base64, iVBORw0KGgoAAAANSUhEUgAAAHoAAAAyCAYAAACTUs/lAAAAOXRFWHRTb2Z0d2FyZQBNYXRwbG90bGliIHZlcnNpb24zLjUuMSwgaHR0cHM6Ly9tYXRwbG90bGliLm9yZy/YYfK9AAAACXBIWXMAAAsTAAALEwEAmpwYAAABUklEQVR4nO3cMWqEQBhA4UkI2Exat0gTvEBygRwiJ5g21/IEOUXukSZFrG0EwRQpl934gxrxva8eUHwwOL/gzTRNScd3+983oG3cbX3Buq5fc86nOWv7vv/uuu597Xsi2Dx0zvlUSvmas7Zt24e174fCrRvC0BCGhjA0hKEhDA2xyPEqcjYex/EppTTreKXlLBI6eDZ+WeKainHrhjA0xOYj0IhhGJ6bpnmbs9a5+HW7Dl1V1b1z8WW4dUMYGsLQEIaGMDSEoSEMDWFoCENDGBrC0BCGhtj1R40Iv3Rdd5jQfum6zq0bwtAQhoYwNIShIQ7z1h1BPIohQxOPYm7dEIaGMDSEoSEMDWFoCENDGBri4sDE31XERZ5ZSin1ff+Yc/5cYe3ZNO9iaH9XERd5Zin9PrdSyscKa8+mecgRaERkLr7nnc3QfwjOxXe7s/kyBvEDwd14SZmlYqUAAAAASUVORK5CYII=\"></img></td>\n",
       "      <td id=\"T_3c5e3_row1_col5\" class=\"data row1 col5\" >0<br>(0.0%)</td>\n",
       "    </tr>\n",
       "    <tr>\n",
       "      <td id=\"T_3c5e3_row2_col0\" class=\"data row2 col0\" >3</td>\n",
       "      <td id=\"T_3c5e3_row2_col1\" class=\"data row2 col1\" ><strong>A2</strong><br>[int64]</td>\n",
       "      <td id=\"T_3c5e3_row2_col2\" class=\"data row2 col2\" >Mean (sd) : 5.7 (3.3)<br>min < med < max:<br>0.0 < 5.0 < 23.0<br>IQR (CV) : 4.0 (1.7)</td>\n",
       "      <td id=\"T_3c5e3_row2_col3\" class=\"data row2 col3\" >16 distinct values</td>\n",
       "      <td id=\"T_3c5e3_row2_col4\" class=\"data row2 col4\" ><img src = \"data:image/png;base64, iVBORw0KGgoAAAANSUhEUgAAAHoAAAAyCAYAAACTUs/lAAAAOXRFWHRTb2Z0d2FyZQBNYXRwbG90bGliIHZlcnNpb24zLjUuMSwgaHR0cHM6Ly9tYXRwbG90bGliLm9yZy/YYfK9AAAACXBIWXMAAAsTAAALEwEAmpwYAAABO0lEQVR4nO3cMWrDMBhAYacUvKirM3QpvkB6gRyiJ9Daa/kEOUXu0aVDPGsxGNwTJEhUcYLf+2YRGx4WRvjPblmWRtv38ugb0Dpea/xI13VfIYR9ztqU0mUcx1ON6ypfldAhhH2M8Tdn7TAM7zWuqTJu3RCGhjA0hKEhDA1haAhDQxgaosqBSYlpmj77vv/OWZtS+ggh/GSu9cTthtVDt237VnCKdowxnjPXeuJ2g1s3hKEhDA1haAhDQxgawtAQhoYwNIShIQwNYWgIQ0MYGsLQEIaGMDTE1S9MSgbn5nk+NE2T9dWIHuNq6MLBuWO9W9I9uHVDGBrC0BCGhjA0hKEhDA1haIjVZ6/upXB4DzeQt5nQhcN7uIG8zYQuQXz6kaGJT78vYxCGhjA0hKEhkC9jJZ7lDf2/f5X9Bx8ZYbkcOqFGAAAAAElFTkSuQmCC\"></img></td>\n",
       "      <td id=\"T_3c5e3_row2_col5\" class=\"data row2 col5\" >0<br>(0.0%)</td>\n",
       "    </tr>\n",
       "    <tr>\n",
       "      <td id=\"T_3c5e3_row3_col0\" class=\"data row3 col0\" >4</td>\n",
       "      <td id=\"T_3c5e3_row3_col1\" class=\"data row3 col1\" ><strong>A3</strong><br>[int64]</td>\n",
       "      <td id=\"T_3c5e3_row3_col2\" class=\"data row3 col2\" >Mean (sd) : 2.6 (2.3)<br>min < med < max:<br>0.0 < 2.0 < 14.0<br>IQR (CV) : 2.5 (1.1)</td>\n",
       "      <td id=\"T_3c5e3_row3_col3\" class=\"data row3 col3\" >10 distinct values</td>\n",
       "      <td id=\"T_3c5e3_row3_col4\" class=\"data row3 col4\" ><img src = \"data:image/png;base64, iVBORw0KGgoAAAANSUhEUgAAAHoAAAAyCAYAAACTUs/lAAAAOXRFWHRTb2Z0d2FyZQBNYXRwbG90bGliIHZlcnNpb24zLjUuMSwgaHR0cHM6Ly9tYXRwbG90bGliLm9yZy/YYfK9AAAACXBIWXMAAAsTAAALEwEAmpwYAAABHElEQVR4nO3csQ2CQBhAYTQmNGcLhR0TuIoT0LoWEziVhdQ0VDgBhIsnR3jvazWE5IUfuFw4TdNU6PjOuU9A27jM/VBV1SOEUK85yDAMn77vX+lOS6nNhg4h1G3bvtccpOu6W7pT0j84uiEMDWFoCENDGBrC0BCGhjA0hKEhZlfGYozjeG+a5rnmvy6X5pEkdFmWV5dL983RDWFoCENDGBrC0BBJnrpj+CqWx+ahfRXLw9ENYWgIQ0MYGsLQEIaGMDSEoSEMDWFoCENDGBrC0BCGhjA0hKEhDA2x+Q6TGG47SmfXod12lI6jG2LXV3QMx/yyw4R2zC9zdEMYGuIwozsG8X6ODE28nzu6IZBX9L/EfPq6KOJuC79+VvsLeP1r53DWwkkAAAAASUVORK5CYII=\"></img></td>\n",
       "      <td id=\"T_3c5e3_row3_col5\" class=\"data row3 col5\" >0<br>(0.0%)</td>\n",
       "    </tr>\n",
       "    <tr>\n",
       "      <td id=\"T_3c5e3_row4_col0\" class=\"data row4 col0\" >5</td>\n",
       "      <td id=\"T_3c5e3_row4_col1\" class=\"data row4 col1\" ><strong>A4</strong><br>[int64]</td>\n",
       "      <td id=\"T_3c5e3_row4_col2\" class=\"data row4 col2\" >Mean (sd) : 3.6 (3.5)<br>min < med < max:<br>0.0 < 3.0 < 22.0<br>IQR (CV) : 4.0 (1.0)</td>\n",
       "      <td id=\"T_3c5e3_row4_col3\" class=\"data row4 col3\" >14 distinct values</td>\n",
       "      <td id=\"T_3c5e3_row4_col4\" class=\"data row4 col4\" ><img src = \"data:image/png;base64, iVBORw0KGgoAAAANSUhEUgAAAHoAAAAyCAYAAACTUs/lAAAAOXRFWHRTb2Z0d2FyZQBNYXRwbG90bGliIHZlcnNpb24zLjUuMSwgaHR0cHM6Ly9tYXRwbG90bGliLm9yZy/YYfK9AAAACXBIWXMAAAsTAAALEwEAmpwYAAABIklEQVR4nO3cvY3CMBxA8eOElBSmDQVdFoBVmMDtrZUJ6NiIgtRpUoUJgmKd86G892uJIksP/pIti8MwDD/av9+1F6BlHMc+qKrqHkI4T3lJ13Xvtm0f+Zal3EZDhxDOMcbXlJc0TXPJtyTNwdENYWgIQ0MYGsLQEIaGMDSEoSEMDWFoCENDGBrC0BCGhjA0hKEhDA1haAhDQxgawtAQo7dAU/R9f6vr+m/Ks14NXkeW0EVRnLwavG2ObghDQxgawtAQhoYwNESW7VUK99zrWDy0e+51OLohDA1haAhDQxgawtAQhoYwNMTiByYpPEXLZ9OhPUXLx9ENselfdArH/He7Ce2Y/243oeeyl385RoZOGfNlWV5jjM8pz845Kf77hfsAtJpkqYGcv8kAAAAASUVORK5CYII=\"></img></td>\n",
       "      <td id=\"T_3c5e3_row4_col5\" class=\"data row4 col5\" >0<br>(0.0%)</td>\n",
       "    </tr>\n",
       "    <tr>\n",
       "      <td id=\"T_3c5e3_row5_col0\" class=\"data row5 col0\" >6</td>\n",
       "      <td id=\"T_3c5e3_row5_col1\" class=\"data row5 col1\" ><strong>A5</strong><br>[int64]</td>\n",
       "      <td id=\"T_3c5e3_row5_col2\" class=\"data row5 col2\" >Mean (sd) : 4.6 (3.3)<br>min < med < max:<br>0.0 < 4.0 < 19.0<br>IQR (CV) : 4.0 (1.4)</td>\n",
       "      <td id=\"T_3c5e3_row5_col3\" class=\"data row5 col3\" >15 distinct values</td>\n",
       "      <td id=\"T_3c5e3_row5_col4\" class=\"data row5 col4\" ><img src = \"data:image/png;base64, iVBORw0KGgoAAAANSUhEUgAAAHoAAAAyCAYAAACTUs/lAAAAOXRFWHRTb2Z0d2FyZQBNYXRwbG90bGliIHZlcnNpb24zLjUuMSwgaHR0cHM6Ly9tYXRwbG90bGliLm9yZy/YYfK9AAAACXBIWXMAAAsTAAALEwEAmpwYAAABSklEQVR4nO3csWnDQBSH8UswqHlp5SJN0ALOAh4iE1ybtTSBp8geblxYtRqBQJnA5h5+Ohv9v199WIIPzrrjpLdlWRK27/3ZN4A6dhE/0rbtj5ntS8aO43gdhuEUcV2UCwltZvuc86VkbN/3nxHXhA9TtwhCiyC0iJD/aI9pmr67rvstGcuDW5zqoZum+eDBrT6mbhGEFkFoEYQWQWgRhBZBaBGEFkFoEYQWQWgRhBZBaBGEFkFoEYQWQWgRhBZR/SiRB+fL4rx0aM6XxWHqFkFoEYQWQWgRhBZBaBE3l1eel9vneT6klIqWQXiOm6GdL7cf424Ja2DqFkFoES+9BerBvvh9mwnNvvh9TN0iCC2C0CIILYLQIggtYjPLKw/nmvvLzM6FY1dbnz/6YV3J0M419zHn/Fc4drX1+aMf1pUMvRbPTJFS3R26fxfZdTWMOO5rAAAAAElFTkSuQmCC\"></img></td>\n",
       "      <td id=\"T_3c5e3_row5_col5\" class=\"data row5 col5\" >0<br>(0.0%)</td>\n",
       "    </tr>\n",
       "    <tr>\n",
       "      <td id=\"T_3c5e3_row6_col0\" class=\"data row6 col0\" >7</td>\n",
       "      <td id=\"T_3c5e3_row6_col1\" class=\"data row6 col1\" ><strong>A6</strong><br>[int64]</td>\n",
       "      <td id=\"T_3c5e3_row6_col2\" class=\"data row6 col2\" >Mean (sd) : 0.1 (0.3)<br>min < med < max:<br>0.0 < 0.0 < 2.0<br>IQR (CV) : 0.0 (0.3)</td>\n",
       "      <td id=\"T_3c5e3_row6_col3\" class=\"data row6 col3\" >3 distinct values</td>\n",
       "      <td id=\"T_3c5e3_row6_col4\" class=\"data row6 col4\" ><img src = \"data:image/png;base64, iVBORw0KGgoAAAANSUhEUgAAAHoAAAAyCAYAAACTUs/lAAAAOXRFWHRTb2Z0d2FyZQBNYXRwbG90bGliIHZlcnNpb24zLjUuMSwgaHR0cHM6Ly9tYXRwbG90bGliLm9yZy/YYfK9AAAACXBIWXMAAAsTAAALEwEAmpwYAAAA1ElEQVR4nO3csQnDMBBAUcekvFouPFUm0GyawFOliGr1ygQCF0oM/v+1AnHw4cp79N4X3d969QD6j+foIaX0iojtzCettU+t9Zg3lmYbho6ILef8PvNJKWWfN5J+wdUNYWgIQ0MYGsLQEIaGMDSEoSEMDWFoCENDGBrC0BCGhjA0hKEhDA1haAhDQxgawtAQhoYwNIShIQwNYWgIQ0MYGsLQEIaGMDSEoSEMDWFoCENDGBrC0BCGhjA0hKEhDA0xvBx4Z8Tzl8jQxPOXrm4IQ0MYGuIL9Qwb32DyyKMAAAAASUVORK5CYII=\"></img></td>\n",
       "      <td id=\"T_3c5e3_row6_col5\" class=\"data row6 col5\" >0<br>(0.0%)</td>\n",
       "    </tr>\n",
       "    <tr>\n",
       "      <td id=\"T_3c5e3_row7_col0\" class=\"data row7 col0\" >8</td>\n",
       "      <td id=\"T_3c5e3_row7_col1\" class=\"data row7 col1\" ><strong>A7</strong><br>[int64]</td>\n",
       "      <td id=\"T_3c5e3_row7_col2\" class=\"data row7 col2\" >Mean (sd) : 0.2 (0.6)<br>min < med < max:<br>0.0 < 0.0 < 3.0<br>IQR (CV) : 0.0 (0.4)</td>\n",
       "      <td id=\"T_3c5e3_row7_col3\" class=\"data row7 col3\" >4 distinct values</td>\n",
       "      <td id=\"T_3c5e3_row7_col4\" class=\"data row7 col4\" ><img src = \"data:image/png;base64, iVBORw0KGgoAAAANSUhEUgAAAHoAAAAyCAYAAACTUs/lAAAAOXRFWHRTb2Z0d2FyZQBNYXRwbG90bGliIHZlcnNpb24zLjUuMSwgaHR0cHM6Ly9tYXRwbG90bGliLm9yZy/YYfK9AAAACXBIWXMAAAsTAAALEwEAmpwYAAAA4klEQVR4nO3csQ1CIRRAUTWW1PzCqZyA2ZjAqSykpscJiD8RFbn3tCSE5CYvVO/YWjtofadfP0Dfce4dxBivIYRtzyW11kcp5TbuWRqtGzqEsKWU7nsuyTlfxj1Jn+DohjA0hKEhDA1haAhDQxgawtAQhoYwNIShIQwNYWgIQ0MYGsLQEIaGMDSEoSEMDWFoCENDGBrC0BCGhjA0hKEhDA1haAhDQxgawtAQhoYwNIShIQwNYWgIQ0MYGqK7Z2wGLrUbZ+rQLrUbx9ENYWiIqUf3DFb5Jxj6hVX+CYb+E+9Olics/TAgO6OQlQAAAABJRU5ErkJggg==\"></img></td>\n",
       "      <td id=\"T_3c5e3_row7_col5\" class=\"data row7 col5\" >0<br>(0.0%)</td>\n",
       "    </tr>\n",
       "    <tr>\n",
       "      <td id=\"T_3c5e3_row8_col0\" class=\"data row8 col0\" >9</td>\n",
       "      <td id=\"T_3c5e3_row8_col1\" class=\"data row8 col1\" ><strong>A8</strong><br>[int64]</td>\n",
       "      <td id=\"T_3c5e3_row8_col2\" class=\"data row8 col2\" >Mean (sd) : 0.7 (0.7)<br>min < med < max:<br>0.0 < 1.0 < 4.0<br>IQR (CV) : 1.0 (0.9)</td>\n",
       "      <td id=\"T_3c5e3_row8_col3\" class=\"data row8 col3\" >5 distinct values</td>\n",
       "      <td id=\"T_3c5e3_row8_col4\" class=\"data row8 col4\" ><img src = \"data:image/png;base64, iVBORw0KGgoAAAANSUhEUgAAAHoAAAAyCAYAAACTUs/lAAAAOXRFWHRTb2Z0d2FyZQBNYXRwbG90bGliIHZlcnNpb24zLjUuMSwgaHR0cHM6Ly9tYXRwbG90bGliLm9yZy/YYfK9AAAACXBIWXMAAAsTAAALEwEAmpwYAAAA7ElEQVR4nO3csQ3CMBQAUYMof+0UTMUEni0TMBUFqdOHCSwlwrERd6+NZFk66TtufNm2Len/XUdvQH3cah9yzo+ImPYssq7re1mWZ7ttqbVq6IiYSimvPYvM83xvtyWdwdENYWiI6ug+i2f/GN1De/aP4eiGMDSEoSEMDWFoCENDGBrC0BCGhjA0hKEhDA1haAhDQxgawtAQhoYwNIShIQwNYWgIQ0MYGsLQEIaGMDSEoSEMDWFoCENDGBrC0BCGhjA0RPenLX4B8R0VZGjiOyqObghDQxgawtAQhoZA/nWf5ci1LaVjV7dvr4QffY04IBMmtIgAAAAASUVORK5CYII=\"></img></td>\n",
       "      <td id=\"T_3c5e3_row8_col5\" class=\"data row8 col5\" >0<br>(0.0%)</td>\n",
       "    </tr>\n",
       "    <tr>\n",
       "      <td id=\"T_3c5e3_row9_col0\" class=\"data row9 col0\" >10</td>\n",
       "      <td id=\"T_3c5e3_row9_col1\" class=\"data row9 col1\" ><strong>A9</strong><br>[int64]</td>\n",
       "      <td id=\"T_3c5e3_row9_col2\" class=\"data row9 col2\" >Mean (sd) : 0.9 (1.0)<br>min < med < max:<br>0.0 < 1.0 < 4.0<br>IQR (CV) : 1.0 (0.9)</td>\n",
       "      <td id=\"T_3c5e3_row9_col3\" class=\"data row9 col3\" >5 distinct values</td>\n",
       "      <td id=\"T_3c5e3_row9_col4\" class=\"data row9 col4\" ><img src = \"data:image/png;base64, iVBORw0KGgoAAAANSUhEUgAAAHoAAAAyCAYAAACTUs/lAAAAOXRFWHRTb2Z0d2FyZQBNYXRwbG90bGliIHZlcnNpb24zLjUuMSwgaHR0cHM6Ly9tYXRwbG90bGliLm9yZy/YYfK9AAAACXBIWXMAAAsTAAALEwEAmpwYAAAA+ElEQVR4nO3bsQnDMBQAUSWkVC0XmSoTaDZNkKlSxLV6ZwKDjSU5yd1rDUZw8AUfdFmWJej/Xc8+gMa4rX1IKT1ijNOWn9Ra3/M8P9sdS62tho4xTjnn15aflFLu7Y6kHhzdEIaGWB3dvXj3n2N4aO/+czi6IQwNYWgIQ0MYGsLQEIaGMDSEoSEMDWFoCENDGBrC0BCGhjA0hKEhDA1haAhDQxgawtAQhoYwNIShIQwNYWgIQ0MMf2T3DYgvOpGhiS86Hd0QhoYwNIShIQwNYWgIQ0MYGgK5MOllz8YthLFbN0M3tGfjFsK+rdvRta2hf8TRta13NMQHeRZAmuDiaBcAAAAASUVORK5CYII=\"></img></td>\n",
       "      <td id=\"T_3c5e3_row9_col5\" class=\"data row9 col5\" >0<br>(0.0%)</td>\n",
       "    </tr>\n",
       "    <tr>\n",
       "      <td id=\"T_3c5e3_row10_col0\" class=\"data row10 col0\" >11</td>\n",
       "      <td id=\"T_3c5e3_row10_col1\" class=\"data row10 col1\" ><strong>A10</strong><br>[int64]</td>\n",
       "      <td id=\"T_3c5e3_row10_col2\" class=\"data row10 col2\" >Mean (sd) : 0.6 (0.8)<br>min < med < max:<br>0.0 < 0.0 < 5.0<br>IQR (CV) : 1.0 (0.7)</td>\n",
       "      <td id=\"T_3c5e3_row10_col3\" class=\"data row10 col3\" >5 distinct values</td>\n",
       "      <td id=\"T_3c5e3_row10_col4\" class=\"data row10 col4\" ><img src = \"data:image/png;base64, iVBORw0KGgoAAAANSUhEUgAAAHoAAAAyCAYAAACTUs/lAAAAOXRFWHRTb2Z0d2FyZQBNYXRwbG90bGliIHZlcnNpb24zLjUuMSwgaHR0cHM6Ly9tYXRwbG90bGliLm9yZy/YYfK9AAAACXBIWXMAAAsTAAALEwEAmpwYAAAA7UlEQVR4nO3aMQrDIBhA4bZ0dE6GnKonyNk8QU/VoZnd7QlMA9VYfO9bA/LDCyLoNed80fhuvQfQOe6lD9M0PUII85FFUkrvbdue9cZSbcXQIYR5XdfXkUVijEu9kdSCWzeEoSEMDWFoCENDGBrC0BCGhjA0hKEhDA1haAhDQxgaonhN2Yr33H2cHtp77j7cuiEMDWFoCENDGBrC0BCGhjA0hKEhDA1haAhDQxgawtAQhoYwNIShIQwNYWgIQ0MYGsLQEKc/923F9+L7hgnte/F9bt0QhoYwNIShIYY5jLUyymne0F/8y2n+1x/uA4jbPF0Dv+uJAAAAAElFTkSuQmCC\"></img></td>\n",
       "      <td id=\"T_3c5e3_row10_col5\" class=\"data row10 col5\" >0<br>(0.0%)</td>\n",
       "    </tr>\n",
       "    <tr>\n",
       "      <td id=\"T_3c5e3_row11_col0\" class=\"data row11 col0\" >12</td>\n",
       "      <td id=\"T_3c5e3_row11_col1\" class=\"data row11 col1\" ><strong>A11</strong><br>[int64]</td>\n",
       "      <td id=\"T_3c5e3_row11_col2\" class=\"data row11 col2\" >Mean (sd) : 0.5 (0.7)<br>min < med < max:<br>0.0 < 0.0 < 3.0<br>IQR (CV) : 1.0 (0.7)</td>\n",
       "      <td id=\"T_3c5e3_row11_col3\" class=\"data row11 col3\" >4 distinct values</td>\n",
       "      <td id=\"T_3c5e3_row11_col4\" class=\"data row11 col4\" ><img src = \"data:image/png;base64, iVBORw0KGgoAAAANSUhEUgAAAHoAAAAyCAYAAACTUs/lAAAAOXRFWHRTb2Z0d2FyZQBNYXRwbG90bGliIHZlcnNpb24zLjUuMSwgaHR0cHM6Ly9tYXRwbG90bGliLm9yZy/YYfK9AAAACXBIWXMAAAsTAAALEwEAmpwYAAAA50lEQVR4nO3aMQ7CIBhAYTWOzHToqTwBZ+MEnspBZnY8AbFJUbHvfWsT8ieP0OU/t9ZOOr7LrwfQd1x7H2KMtxDCsuWQWuuzlHIfN5ZG64YOISwppceWQ3LO67iR9Ak+3RCGhjA0hKEhDA1haAhDQxgawtAQhoYwNIShIQwNYWgIQ0MYGsLQEIaG6K4SzcC9tXGmDu3e2jg+3RCGhjA0hKEhDA1haAhDQxgawtAQhoYwNIShIQwNYWgIQ0MYGsLQEIaGMDSEoSEMDWFoiKnXfWdwlN1yQ78xy2753gtn6D+x98L5j4Z4AT4ZNFsRz0zMAAAAAElFTkSuQmCC\"></img></td>\n",
       "      <td id=\"T_3c5e3_row11_col5\" class=\"data row11 col5\" >0<br>(0.0%)</td>\n",
       "    </tr>\n",
       "    <tr>\n",
       "      <td id=\"T_3c5e3_row12_col0\" class=\"data row12 col0\" >13</td>\n",
       "      <td id=\"T_3c5e3_row12_col1\" class=\"data row12 col1\" ><strong>A12</strong><br>[int64]</td>\n",
       "      <td id=\"T_3c5e3_row12_col2\" class=\"data row12 col2\" >Mean (sd) : 0.7 (1.0)<br>min < med < max:<br>0.0 < 0.0 < 6.0<br>IQR (CV) : 1.0 (0.7)</td>\n",
       "      <td id=\"T_3c5e3_row12_col3\" class=\"data row12 col3\" >6 distinct values</td>\n",
       "      <td id=\"T_3c5e3_row12_col4\" class=\"data row12 col4\" ><img src = \"data:image/png;base64, iVBORw0KGgoAAAANSUhEUgAAAHoAAAAyCAYAAACTUs/lAAAAOXRFWHRTb2Z0d2FyZQBNYXRwbG90bGliIHZlcnNpb24zLjUuMSwgaHR0cHM6Ly9tYXRwbG90bGliLm9yZy/YYfK9AAAACXBIWXMAAAsTAAALEwEAmpwYAAABBUlEQVR4nO3cMQ6CMBhAYTUmLHWFwY0TeBVPwOq1OIGncpCZhQlPQALxrzS+962QpslLGpqUHud5Puj/nfaegH7jvPSgrut7SqlZM8g4ju9hGJ5x01K0xdAppabruteaQfq+v8ZNSTm4dEMYGsLQEIaGMDSEoSEMDWFoCENDGBrC0BCGhjA0hKEhDA1haIjFgwdbTNN0a9v2seZdT6PsIyR0VVUXT6OUzaUbwtAQhoYwNIShIQwNYWgIQ0MYGsLQEIaGMDSEoSEMDWFoCENDGBrC0BAhR4ly8WakOEWH9makOC7dEIaGMDSEoSEMDVH0V3cuxG0bMjRx24YMvUUpPxB+uwp9AFMBSny6CT+BAAAAAElFTkSuQmCC\"></img></td>\n",
       "      <td id=\"T_3c5e3_row12_col5\" class=\"data row12 col5\" >0<br>(0.0%)</td>\n",
       "    </tr>\n",
       "    <tr>\n",
       "      <td id=\"T_3c5e3_row13_col0\" class=\"data row13 col0\" >14</td>\n",
       "      <td id=\"T_3c5e3_row13_col1\" class=\"data row13 col1\" ><strong>A13</strong><br>[int64]</td>\n",
       "      <td id=\"T_3c5e3_row13_col2\" class=\"data row13 col2\" >Mean (sd) : 0.2 (0.4)<br>min < med < max:<br>0.0 < 0.0 < 2.0<br>IQR (CV) : 0.0 (0.4)</td>\n",
       "      <td id=\"T_3c5e3_row13_col3\" class=\"data row13 col3\" >3 distinct values</td>\n",
       "      <td id=\"T_3c5e3_row13_col4\" class=\"data row13 col4\" ><img src = \"data:image/png;base64, iVBORw0KGgoAAAANSUhEUgAAAHoAAAAyCAYAAACTUs/lAAAAOXRFWHRTb2Z0d2FyZQBNYXRwbG90bGliIHZlcnNpb24zLjUuMSwgaHR0cHM6Ly9tYXRwbG90bGliLm9yZy/YYfK9AAAACXBIWXMAAAsTAAALEwEAmpwYAAAA20lEQVR4nO3csQnDMBBA0SS4vFouPFUm0GyaIFOliGr1ygQCg5WE+P/XCsTBB4Gau/beLzq/268H0Hcso4OU0j0i1j2XtNZetdbHvLE02zB0RKw55+eeS0op27yR9Ak+3RCGhjA0hKEhDA1haAhDQxgawtAQhoYwNIShIQwNYWgIQ0MYGsLQEIaGMDSEoSEMDWFoCENDGBrC0BCGhjA0hKEhDA1haAhDQxgawtAQhoYwNIShIQwNMdxKdGbE1VrI0MTVWj7dEIaGMDSEoSEMDWFoCOT36h8d/fu/ATiTI+EHqNtVAAAAAElFTkSuQmCC\"></img></td>\n",
       "      <td id=\"T_3c5e3_row13_col5\" class=\"data row13 col5\" >0<br>(0.0%)</td>\n",
       "    </tr>\n",
       "    <tr>\n",
       "      <td id=\"T_3c5e3_row14_col0\" class=\"data row14 col0\" >15</td>\n",
       "      <td id=\"T_3c5e3_row14_col1\" class=\"data row14 col1\" ><strong>A14</strong><br>[int64]</td>\n",
       "      <td id=\"T_3c5e3_row14_col2\" class=\"data row14 col2\" >Mean (sd) : 0.4 (0.6)<br>min < med < max:<br>0.0 < 0.0 < 2.0<br>IQR (CV) : 1.0 (0.7)</td>\n",
       "      <td id=\"T_3c5e3_row14_col3\" class=\"data row14 col3\" >3 distinct values</td>\n",
       "      <td id=\"T_3c5e3_row14_col4\" class=\"data row14 col4\" ><img src = \"data:image/png;base64, iVBORw0KGgoAAAANSUhEUgAAAHoAAAAyCAYAAACTUs/lAAAAOXRFWHRTb2Z0d2FyZQBNYXRwbG90bGliIHZlcnNpb24zLjUuMSwgaHR0cHM6Ly9tYXRwbG90bGliLm9yZy/YYfK9AAAACXBIWXMAAAsTAAALEwEAmpwYAAAA3klEQVR4nO3bsQnDMBBA0SSkvFouPFUm0GyaIFOliGr1ygQCg5UE+//XCsTBB1Wna+/9ovO7/XsA/cZ9dJBSekTEsuWS1tq71vqcN5ZmG4aOiCXn/NpySSllnTeSvsGnG8LQEIaGMDSEoSEMDWFoCENDGBrC0BCGhjA0hKEhDA1haAhDQxgawtAQhoYwNIShIQwNYWiI4V73mRE/JyBDEz8n+HRDGBrC0BCGhjA0hKEhDA1haAhDQxgawtAQhoYwNIShIQwNYWgI5OLBEe3dijH0QezdivHphjA0hKEhPvLYKB70kftoAAAAAElFTkSuQmCC\"></img></td>\n",
       "      <td id=\"T_3c5e3_row14_col5\" class=\"data row14 col5\" >0<br>(0.0%)</td>\n",
       "    </tr>\n",
       "    <tr>\n",
       "      <td id=\"T_3c5e3_row15_col0\" class=\"data row15 col0\" >16</td>\n",
       "      <td id=\"T_3c5e3_row15_col1\" class=\"data row15 col1\" ><strong>A15</strong><br>[int64]</td>\n",
       "      <td id=\"T_3c5e3_row15_col2\" class=\"data row15 col2\" >Mean (sd) : 1.0 (1.6)<br>min < med < max:<br>0.0 < 0.0 < 9.0<br>IQR (CV) : 2.0 (0.7)</td>\n",
       "      <td id=\"T_3c5e3_row15_col3\" class=\"data row15 col3\" >7 distinct values</td>\n",
       "      <td id=\"T_3c5e3_row15_col4\" class=\"data row15 col4\" ><img src = \"data:image/png;base64, iVBORw0KGgoAAAANSUhEUgAAAHoAAAAyCAYAAACTUs/lAAAAOXRFWHRTb2Z0d2FyZQBNYXRwbG90bGliIHZlcnNpb24zLjUuMSwgaHR0cHM6Ly9tYXRwbG90bGliLm9yZy/YYfK9AAAACXBIWXMAAAsTAAALEwEAmpwYAAABHklEQVR4nO3cMa6CQBgAYXwxodnXYmHHBfQCHsIT0HotTuCpLKSmISHB3gTCxhXUma/VrJtM9odY7GYYhky/72/tDWgZ27EPiqI4hxB2cxZp2/beNM013baU2mjoEMKuqqrbnEXqut6n25LewdENYWgIQ0MYGsLQEIaGMDSEoSEMDWFoCENDGBrC0BCGhjA0hKEhDA1haAhDQxgawtAQhoYwNIShIQwNYWgIQ0MYGsLQEIaGMDSEoSEMDWFoCENDjN5h8i5egrOOxUN7Cc46HN0Qi5/oGF3XHcuyvMz5rmN+2keHzvP83zGfRpLQMSev7/tDlmWz4imdJKEjT94pxW8+c8xP++jRHcMxP823bghDQ/zM6I7xjc/zV/9RfAAoUVm1oSSHcAAAAABJRU5ErkJggg==\"></img></td>\n",
       "      <td id=\"T_3c5e3_row15_col5\" class=\"data row15 col5\" >0<br>(0.0%)</td>\n",
       "    </tr>\n",
       "    <tr>\n",
       "      <td id=\"T_3c5e3_row16_col0\" class=\"data row16 col0\" >17</td>\n",
       "      <td id=\"T_3c5e3_row16_col1\" class=\"data row16 col1\" ><strong>A16</strong><br>[int64]</td>\n",
       "      <td id=\"T_3c5e3_row16_col2\" class=\"data row16 col2\" >Mean (sd) : 0.7 (0.9)<br>min < med < max:<br>0.0 < 0.0 < 3.0<br>IQR (CV) : 1.0 (0.8)</td>\n",
       "      <td id=\"T_3c5e3_row16_col3\" class=\"data row16 col3\" >4 distinct values</td>\n",
       "      <td id=\"T_3c5e3_row16_col4\" class=\"data row16 col4\" ><img src = \"data:image/png;base64, iVBORw0KGgoAAAANSUhEUgAAAHoAAAAyCAYAAACTUs/lAAAAOXRFWHRTb2Z0d2FyZQBNYXRwbG90bGliIHZlcnNpb24zLjUuMSwgaHR0cHM6Ly9tYXRwbG90bGliLm9yZy/YYfK9AAAACXBIWXMAAAsTAAALEwEAmpwYAAAA6UlEQVR4nO3aMQ4CIRQAUTWW1GzhqTwBZ+MEnspCano8AXGTRWV35rUkhGSSX/xwbq2ddHyXfz9Av3HtHcQY7yGEZc0ltdZXKeUx7lkarRs6hLCklJ5rLsk538Y9Sd/g6IYwNIShIQwNYWgIQ0MYGsLQEIaGMDSEoSEMDWFoCENDGBrC0BCGhjA0hKEhDA1haAhDQ3S/+87Av+XjTB3av+XjOLohDA1haAhDQxgawtAQhoYwNMTUC5MZHGU7Z+gPjrKdc3RDGBrC0BCGhjA0hKEhDA1haAhDQ7gZ24mtq1hD78TWVayjG+INq800XRuPapsAAAAASUVORK5CYII=\"></img></td>\n",
       "      <td id=\"T_3c5e3_row16_col5\" class=\"data row16 col5\" >0<br>(0.0%)</td>\n",
       "    </tr>\n",
       "    <tr>\n",
       "      <td id=\"T_3c5e3_row17_col0\" class=\"data row17 col0\" >18</td>\n",
       "      <td id=\"T_3c5e3_row17_col1\" class=\"data row17 col1\" ><strong>A17</strong><br>[int64]</td>\n",
       "      <td id=\"T_3c5e3_row17_col2\" class=\"data row17 col2\" >Mean (sd) : 0.5 (0.7)<br>min < med < max:<br>0.0 < 0.0 < 4.0<br>IQR (CV) : 1.0 (0.7)</td>\n",
       "      <td id=\"T_3c5e3_row17_col3\" class=\"data row17 col3\" >4 distinct values</td>\n",
       "      <td id=\"T_3c5e3_row17_col4\" class=\"data row17 col4\" ><img src = \"data:image/png;base64, iVBORw0KGgoAAAANSUhEUgAAAHoAAAAyCAYAAACTUs/lAAAAOXRFWHRTb2Z0d2FyZQBNYXRwbG90bGliIHZlcnNpb24zLjUuMSwgaHR0cHM6Ly9tYXRwbG90bGliLm9yZy/YYfK9AAAACXBIWXMAAAsTAAALEwEAmpwYAAAA5UlEQVR4nO3bMQ7CIBhAYTWOzHTwVJ6As3ECT+UgMzuegKSJFNT3vrUJIXkJafOXc2vtpP93Wb0BzXHtPYgx3kMI255Faq2vUspj3LY0Wjd0CGFLKT33LJJzvo3bko7g0Q1haAhDQxgawtAQhoYwNIShIQwNYWgIQ0MYGsLQEIaGMDSEoSEMDWFoCENDGBrC0BCGhjA0hKEhuj/wH8UbIGtMD+0NkDU8uiEMDWFoCENDGBrC0BCGhjA0hKEhDA1haAhDQ0wfanwD4gQNGZo4QfPohjA0hKEhDA1haAjkW/cv+vST8A1TuTAgdfC6wQAAAABJRU5ErkJggg==\"></img></td>\n",
       "      <td id=\"T_3c5e3_row17_col5\" class=\"data row17 col5\" >0<br>(0.0%)</td>\n",
       "    </tr>\n",
       "    <tr>\n",
       "      <td id=\"T_3c5e3_row18_col0\" class=\"data row18 col0\" >19</td>\n",
       "      <td id=\"T_3c5e3_row18_col1\" class=\"data row18 col1\" ><strong>A18</strong><br>[int64]</td>\n",
       "      <td id=\"T_3c5e3_row18_col2\" class=\"data row18 col2\" >Mean (sd) : 0.4 (0.7)<br>min < med < max:<br>0.0 < 0.0 < 3.0<br>IQR (CV) : 1.0 (0.5)</td>\n",
       "      <td id=\"T_3c5e3_row18_col3\" class=\"data row18 col3\" >4 distinct values</td>\n",
       "      <td id=\"T_3c5e3_row18_col4\" class=\"data row18 col4\" ><img src = \"data:image/png;base64, iVBORw0KGgoAAAANSUhEUgAAAHoAAAAyCAYAAACTUs/lAAAAOXRFWHRTb2Z0d2FyZQBNYXRwbG90bGliIHZlcnNpb24zLjUuMSwgaHR0cHM6Ly9tYXRwbG90bGliLm9yZy/YYfK9AAAACXBIWXMAAAsTAAALEwEAmpwYAAAA5ElEQVR4nO3csQ1CIRgAYTWW1LzCqZyA2ZjAqSykpscJiC8RFbn7WhJCcskfaDi21g5a3+nXB9B3nHsLMcZrCGHbs0mt9VFKuY07lkbrhg4hbCml+55Ncs6XcUfSJzi6IQwNYWgIQ0MYGsLQEIaGMDSEoSEMDWFoCENDGBrC0BCGhjA0hKEhDA1haAhDQxgawtAQhoYwNIShIQwNYWgIQ0MYGsLQEIaGMDSEoSEMDdH92mIG/qMyztSh/UdlHEc3hKEhDA1haAhDQ0x9657BKk88Q7+wyhPP0Q1haAhH9594967wBPTrMCBLgPmRAAAAAElFTkSuQmCC\"></img></td>\n",
       "      <td id=\"T_3c5e3_row18_col5\" class=\"data row18 col5\" >0<br>(0.0%)</td>\n",
       "    </tr>\n",
       "    <tr>\n",
       "      <td id=\"T_3c5e3_row19_col0\" class=\"data row19 col0\" >20</td>\n",
       "      <td id=\"T_3c5e3_row19_col1\" class=\"data row19 col1\" ><strong>A19</strong><br>[int64]</td>\n",
       "      <td id=\"T_3c5e3_row19_col2\" class=\"data row19 col2\" >Mean (sd) : 2.6 (2.1)<br>min < med < max:<br>0.0 < 2.0 < 9.0<br>IQR (CV) : 3.0 (1.2)</td>\n",
       "      <td id=\"T_3c5e3_row19_col3\" class=\"data row19 col3\" >10 distinct values</td>\n",
       "      <td id=\"T_3c5e3_row19_col4\" class=\"data row19 col4\" ><img src = \"data:image/png;base64, iVBORw0KGgoAAAANSUhEUgAAAHoAAAAyCAYAAACTUs/lAAAAOXRFWHRTb2Z0d2FyZQBNYXRwbG90bGliIHZlcnNpb24zLjUuMSwgaHR0cHM6Ly9tYXRwbG90bGliLm9yZy/YYfK9AAAACXBIWXMAAAsTAAALEwEAmpwYAAABWklEQVR4nO3bMU7DQBBG4QEhuVlap6BBvgBcgENwgm25lk/AKbgHDQWut7FkyRTUCTvy4CT7v69eJZGeMru25Zt1XQ3tuz33D8A+7iI+pO/715TSoWZtKeV7mqb3iO9FvZDQKaVDzvmrZu04jg8R3wkfRrcIQosgtAhCiyC0iJBTt8c8z8/DMLzVrOVSLM7uobuuu+dSbH+MbhGEFkFoEYQWQWgRhBZBaBGEFkFoEYQWQWgRhBZBaBG7P73y4JFmnIsOzSPNOIxuEYQWQWgRhBZx9DDmeZ9qWZYnM6s6NOE8joZ2vk/1EveT8B8Y3SIu+jrag5srpzUTmpsrpzG6RRBaBKFFNLNHeyge3CRDKx7cGN0iCC1CcnR7tLKfE/oPreznjG4R/KMDeca8mVkp5TGl9Fm5dtO2QOhAnjFv9vt4N+f8Ubl207bA6BbBP/pKbD39E/pKbD39/wCHzIugWP0j5wAAAABJRU5ErkJggg==\"></img></td>\n",
       "      <td id=\"T_3c5e3_row19_col5\" class=\"data row19 col5\" >0<br>(0.0%)</td>\n",
       "    </tr>\n",
       "    <tr>\n",
       "      <td id=\"T_3c5e3_row20_col0\" class=\"data row20 col0\" >21</td>\n",
       "      <td id=\"T_3c5e3_row20_col1\" class=\"data row20 col1\" ><strong>A20</strong><br>[int64]</td>\n",
       "      <td id=\"T_3c5e3_row20_col2\" class=\"data row20 col2\" >Mean (sd) : 1.2 (1.9)<br>min < med < max:<br>0.0 < 1.0 < 16.0<br>IQR (CV) : 2.0 (0.6)</td>\n",
       "      <td id=\"T_3c5e3_row20_col3\" class=\"data row20 col3\" >8 distinct values</td>\n",
       "      <td id=\"T_3c5e3_row20_col4\" class=\"data row20 col4\" ><img src = \"data:image/png;base64, iVBORw0KGgoAAAANSUhEUgAAAHoAAAAyCAYAAACTUs/lAAAAOXRFWHRTb2Z0d2FyZQBNYXRwbG90bGliIHZlcnNpb24zLjUuMSwgaHR0cHM6Ly9tYXRwbG90bGliLm9yZy/YYfK9AAAACXBIWXMAAAsTAAALEwEAmpwYAAABBUlEQVR4nO3csQ2CQBhAYTUmNGd7FHY3gXtYOQGtM9ExgVNZSE1DhROQQDxAfe9rIZc/eQnFJfz7YRh2+n+HrQfQOo5jD2KMtxBCOeWQrutebds+8o2l3EZDhxDKqqqeUw5pmuacbyQtwU83hKEhDA1haAhDQxgawtAQhoYwNIShIQwNYWgIQ0MYGsLQEIaGMDSEoSEMDWFoCENDGBrC0BCGhjA0hKEhDA1haAhDQxgawtAQhoYY/RF+jr7vLyml+5R33Y6wjSyhi6I4uR3hu/nphjA0hKEhDA1haAhDQxgawtAQhoYwNESWK9A5vBffxuqh59yL13V9TSllXyX9iyuqP535DVglRezl7FreAAAAAElFTkSuQmCC\"></img></td>\n",
       "      <td id=\"T_3c5e3_row20_col5\" class=\"data row20 col5\" >0<br>(0.0%)</td>\n",
       "    </tr>\n",
       "    <tr>\n",
       "      <td id=\"T_3c5e3_row21_col0\" class=\"data row21 col0\" >22</td>\n",
       "      <td id=\"T_3c5e3_row21_col1\" class=\"data row21 col1\" ><strong>A21</strong><br>[int64]</td>\n",
       "      <td id=\"T_3c5e3_row21_col2\" class=\"data row21 col2\" >Mean (sd) : 2.5 (2.2)<br>min < med < max:<br>0.0 < 2.0 < 14.0<br>IQR (CV) : 2.0 (1.2)</td>\n",
       "      <td id=\"T_3c5e3_row21_col3\" class=\"data row21 col3\" >9 distinct values</td>\n",
       "      <td id=\"T_3c5e3_row21_col4\" class=\"data row21 col4\" ><img src = \"data:image/png;base64, iVBORw0KGgoAAAANSUhEUgAAAHoAAAAyCAYAAACTUs/lAAAAOXRFWHRTb2Z0d2FyZQBNYXRwbG90bGliIHZlcnNpb24zLjUuMSwgaHR0cHM6Ly9tYXRwbG90bGliLm9yZy/YYfK9AAAACXBIWXMAAAsTAAALEwEAmpwYAAABJ0lEQVR4nO3aMa6CMACAYTQvYakrDm5cQC/gITwBq9fiBO9Ub3jMLCQkODphILZA+P9v1dQmf6ik7WEYhkz7d1x7AlrGz9gHRVE8QgjnKYO0bfvfNM1vvGkpttHQIYRzVVV/Uwap6/oSb0pKwaUbwtAQhoYwNIShIQwNYWgIQ0MYGsLQEIaGMDSEoSFGT69S8fhzHYuH9vhzHS7dEIaGMDSEoSEMDWFoCENDGBoiyoZJ13W3siyfU77b9/01y7JJGyaKJ0roPM9PM3a77jF+U/O4dEMYGsLQEIaGMDSEoSEMDWFoCENDGBrC0BCGhlj8um8q3hf/bDehvS/+mUs3hKEhDA2x6f/oVFeU5oy7lxe3TYdOdUVp5ri7eHFz6YbY9BOtt2/3CV5yPlfPrGb7TQAAAABJRU5ErkJggg==\"></img></td>\n",
       "      <td id=\"T_3c5e3_row21_col5\" class=\"data row21 col5\" >0<br>(0.0%)</td>\n",
       "    </tr>\n",
       "    <tr>\n",
       "      <td id=\"T_3c5e3_row22_col0\" class=\"data row22 col0\" >23</td>\n",
       "      <td id=\"T_3c5e3_row22_col1\" class=\"data row22 col1\" ><strong>A22</strong><br>[int64]</td>\n",
       "      <td id=\"T_3c5e3_row22_col2\" class=\"data row22 col2\" >Mean (sd) : 1.6 (1.9)<br>min < med < max:<br>0.0 < 1.0 < 14.0<br>IQR (CV) : 1.0 (0.9)</td>\n",
       "      <td id=\"T_3c5e3_row22_col3\" class=\"data row22 col3\" >9 distinct values</td>\n",
       "      <td id=\"T_3c5e3_row22_col4\" class=\"data row22 col4\" ><img src = \"data:image/png;base64, iVBORw0KGgoAAAANSUhEUgAAAHoAAAAyCAYAAACTUs/lAAAAOXRFWHRTb2Z0d2FyZQBNYXRwbG90bGliIHZlcnNpb24zLjUuMSwgaHR0cHM6Ly9tYXRwbG90bGliLm9yZy/YYfK9AAAACXBIWXMAAAsTAAALEwEAmpwYAAABGUlEQVR4nO3cMW6DMBhA4SSqxPJ3JUOWyCfIPTr1BKw9ExsnyJWyZAgzCxM9AZJRXEB971tBlqWHLHswx2maDvr/TltPQOv4mHtQ1/V3RJxzBhmG4dX3/b3ctFTabOiIODdN88wZpOu6S7kp6S+4dEMYGsLQEIaGMDSEoSEMDWFoCENDGBrC0BCGhjA0hKEhDA1haAhDQxgawtAQhoYwNIShIQwNYWgIQ0MYGsLQEIaGMDSEoSFmr80uMY7jLaX0k/Oud6m3USR0VVWf3qXeN5duCENDGBrC0BBFNmNLuEPfxuqh3aFvw6UbwtAQhoYwNIShIQwNsfrxagnP3OXsOvSSM3fbtl8ppdzfTl8j4pH57i4+oHd/q/0L9txRLRYj9gAAAAAASUVORK5CYII=\"></img></td>\n",
       "      <td id=\"T_3c5e3_row22_col5\" class=\"data row22 col5\" >0<br>(0.0%)</td>\n",
       "    </tr>\n",
       "    <tr>\n",
       "      <td id=\"T_3c5e3_row23_col0\" class=\"data row23 col0\" >24</td>\n",
       "      <td id=\"T_3c5e3_row23_col1\" class=\"data row23 col1\" ><strong>A23</strong><br>[int64]</td>\n",
       "      <td id=\"T_3c5e3_row23_col2\" class=\"data row23 col2\" >Mean (sd) : 0.2 (0.4)<br>min < med < max:<br>0.0 < 0.0 < 2.0<br>IQR (CV) : 0.0 (0.4)</td>\n",
       "      <td id=\"T_3c5e3_row23_col3\" class=\"data row23 col3\" >3 distinct values</td>\n",
       "      <td id=\"T_3c5e3_row23_col4\" class=\"data row23 col4\" ><img src = \"data:image/png;base64, iVBORw0KGgoAAAANSUhEUgAAAHoAAAAyCAYAAACTUs/lAAAAOXRFWHRTb2Z0d2FyZQBNYXRwbG90bGliIHZlcnNpb24zLjUuMSwgaHR0cHM6Ly9tYXRwbG90bGliLm9yZy/YYfK9AAAACXBIWXMAAAsTAAALEwEAmpwYAAAA20lEQVR4nO3csQnDMBBA0SS4vFouPFUm0GyaIFOliGr1ygQCg5WE+P/XGsTBB2E1d+29X3R+t18PoO9YRh9SSveIWPcc0lp71Vof88bSbMPQEbHmnJ97DimlbPNG0id4dUMYGsLQEIaGMDSEoSEMDWFoCENDGBrC0BCGhjA0hKEhDA1haAhDQxgawtAQhoYwNIShIQwNYWgIQ0MYGsLQEIaGMDSEoSEMDWFoCENDGBrC0BCGhjA0hKEhhuunzoy4Qw0ZmrhDzasbwtAQhoYwNIShIZB/3f/o6JPwDdLUI+Gw28spAAAAAElFTkSuQmCC\"></img></td>\n",
       "      <td id=\"T_3c5e3_row23_col5\" class=\"data row23 col5\" >0<br>(0.0%)</td>\n",
       "    </tr>\n",
       "    <tr>\n",
       "      <td id=\"T_3c5e3_row24_col0\" class=\"data row24 col0\" >25</td>\n",
       "      <td id=\"T_3c5e3_row24_col1\" class=\"data row24 col1\" ><strong>A24</strong><br>[int64]</td>\n",
       "      <td id=\"T_3c5e3_row24_col2\" class=\"data row24 col2\" >Mean (sd) : 0.3 (0.5)<br>min < med < max:<br>0.0 < 0.0 < 2.0<br>IQR (CV) : 0.0 (0.5)</td>\n",
       "      <td id=\"T_3c5e3_row24_col3\" class=\"data row24 col3\" >3 distinct values</td>\n",
       "      <td id=\"T_3c5e3_row24_col4\" class=\"data row24 col4\" ><img src = \"data:image/png;base64, iVBORw0KGgoAAAANSUhEUgAAAHoAAAAyCAYAAACTUs/lAAAAOXRFWHRTb2Z0d2FyZQBNYXRwbG90bGliIHZlcnNpb24zLjUuMSwgaHR0cHM6Ly9tYXRwbG90bGliLm9yZy/YYfK9AAAACXBIWXMAAAsTAAALEwEAmpwYAAAA30lEQVR4nO3csQnDMBBA0SSkvFouPFUm0GyaIFOliGr1ygQCg5UE+//XCoTgwxVX6Np7v+j8bv9+gH7jPjpIKT0iYtlySWvtXWt9znuWZhuGjogl5/zackkpZZ33JH2DoxvC0BCGhjA0hKEhDA1haAhDQxgawtAQhoYwNIShIQwNYWgIQ0MYGsLQEIaGMDSEoSEMDWFoCENDGBrC0BCGhjA0hKEhDA1haAhDQxgaYvjjwZkRv+1AhiZ+2+HohjA0hKEhDA1haAhDQxgawtAQyIXJEe3d5hn6IPZu8xzdEB8uXCgenMtV4QAAAABJRU5ErkJggg==\"></img></td>\n",
       "      <td id=\"T_3c5e3_row24_col5\" class=\"data row24 col5\" >0<br>(0.0%)</td>\n",
       "    </tr>\n",
       "  </tbody>\n",
       "</table>\n"
      ],
      "text/plain": [
       "<pandas.io.formats.style.Styler at 0x1c9c00d1700>"
      ]
     },
     "execution_count": 13,
     "metadata": {},
     "output_type": "execute_result"
    }
   ],
   "source": [
    "from summarytools import dfSummary\n",
    "\n",
    "dfSummary(sell_data)"
   ]
  },
  {
   "cell_type": "code",
   "execution_count": 5,
   "id": "1bcb4853",
   "metadata": {},
   "outputs": [
    {
     "data": {
      "application/vnd.plotly.v1+json": {
       "config": {
        "plotlyServerURL": "https://plot.ly"
       },
       "data": [
        {
         "hovertemplate": "variable=A2<br>Date=%{x}<br>value=%{y}<extra></extra>",
         "legendgroup": "A2",
         "line": {
          "color": "#636efa",
          "dash": "solid"
         },
         "marker": {
          "symbol": "circle"
         },
         "mode": "lines",
         "name": "A2",
         "orientation": "v",
         "showlegend": true,
         "type": "scatter",
         "x": [
          "2014-03-01T00:00:00",
          "2014-04-01T00:00:00",
          "2014-05-01T00:00:00",
          "2014-06-01T00:00:00",
          "2014-07-01T00:00:00",
          "2014-08-01T00:00:00",
          "2014-09-01T00:00:00",
          "2014-10-01T00:00:00",
          "2014-11-01T00:00:00",
          "2014-12-01T00:00:00",
          "2015-01-01T00:00:00",
          "2015-02-01T00:00:00",
          "2015-03-01T00:00:00",
          "2015-04-01T00:00:00",
          "2015-05-01T00:00:00",
          "2015-06-01T00:00:00",
          "2015-07-01T00:00:00",
          "2015-08-01T00:00:00",
          "2015-09-01T00:00:00",
          "2015-10-01T00:00:00",
          "2015-11-01T00:00:00",
          "2015-12-01T00:00:00",
          "2016-01-01T00:00:00",
          "2016-02-01T00:00:00",
          "2016-03-01T00:00:00",
          "2016-04-01T00:00:00",
          "2016-05-01T00:00:00",
          "2016-06-01T00:00:00",
          "2016-07-01T00:00:00",
          "2016-08-01T00:00:00",
          "2016-09-01T00:00:00",
          "2016-10-01T00:00:00",
          "2016-11-01T00:00:00",
          "2016-12-01T00:00:00",
          "2017-01-01T00:00:00",
          "2017-02-01T00:00:00",
          "2017-03-01T00:00:00",
          "2017-04-01T00:00:00",
          "2017-05-01T00:00:00",
          "2017-06-01T00:00:00",
          "2017-07-01T00:00:00",
          "2017-08-01T00:00:00",
          "2017-09-01T00:00:00",
          "2017-10-01T00:00:00",
          "2017-11-01T00:00:00",
          "2017-12-01T00:00:00",
          "2018-01-01T00:00:00",
          "2018-02-01T00:00:00",
          "2018-03-01T00:00:00",
          "2018-04-01T00:00:00",
          "2018-05-01T00:00:00",
          "2018-06-01T00:00:00",
          "2018-07-01T00:00:00",
          "2018-08-01T00:00:00",
          "2018-09-01T00:00:00",
          "2018-10-01T00:00:00",
          "2018-11-01T00:00:00",
          "2018-12-01T00:00:00",
          "2019-01-01T00:00:00",
          "2019-02-01T00:00:00",
          "2019-03-01T00:00:00",
          "2019-04-01T00:00:00",
          "2019-05-01T00:00:00",
          "2019-06-01T00:00:00",
          "2019-07-01T00:00:00",
          "2019-08-01T00:00:00",
          "2019-09-01T00:00:00",
          "2019-10-01T00:00:00",
          "2019-11-01T00:00:00",
          "2019-12-01T00:00:00",
          "2020-01-01T00:00:00",
          "2020-02-01T00:00:00",
          "2020-03-01T00:00:00",
          "2020-04-01T00:00:00",
          "2020-05-01T00:00:00",
          "2020-06-01T00:00:00",
          "2020-07-01T00:00:00",
          "2020-08-01T00:00:00",
          "2020-09-01T00:00:00",
          "2020-10-01T00:00:00",
          "2020-11-01T00:00:00",
          "2020-12-01T00:00:00",
          "2021-01-01T00:00:00",
          "2021-02-01T00:00:00",
          "2021-03-01T00:00:00",
          "2021-04-01T00:00:00",
          "2021-05-01T00:00:00",
          "2021-06-01T00:00:00",
          "2021-07-01T00:00:00",
          "2021-08-01T00:00:00",
          "2021-09-01T00:00:00",
          "2021-10-01T00:00:00",
          "2021-11-01T00:00:00",
          "2021-12-01T00:00:00",
          "2022-01-01T00:00:00",
          "2022-02-01T00:00:00",
          "2022-03-01T00:00:00",
          "2022-04-01T00:00:00",
          "2022-05-01T00:00:00",
          "2022-06-01T00:00:00",
          "2022-07-01T00:00:00",
          "2022-08-01T00:00:00",
          "2022-09-01T00:00:00",
          "2022-10-01T00:00:00",
          "2022-11-01T00:00:00",
          "2022-12-01T00:00:00",
          "2023-01-01T00:00:00",
          "2023-02-01T00:00:00",
          "2023-03-01T00:00:00",
          "2023-04-01T00:00:00",
          "2023-05-01T00:00:00"
         ],
         "xaxis": "x",
         "y": [
          2,
          4,
          3,
          3,
          4,
          10,
          8,
          6,
          6,
          5,
          14,
          23,
          2,
          9,
          7,
          6,
          6,
          3,
          12,
          5,
          10,
          6,
          6,
          10,
          3,
          7,
          4,
          3,
          10,
          8,
          3,
          4,
          3,
          3,
          7,
          7,
          4,
          4,
          7,
          5,
          8,
          4,
          8,
          2,
          3,
          5,
          2,
          8,
          1,
          7,
          5,
          8,
          3,
          4,
          5,
          7,
          5,
          8,
          12,
          12,
          0,
          8,
          8,
          4,
          4,
          7,
          5,
          3,
          3,
          7,
          8,
          3,
          3,
          8,
          4,
          5,
          6,
          7,
          4,
          11,
          6,
          4,
          4,
          12,
          3,
          2,
          10,
          5,
          3,
          1,
          6,
          7,
          5,
          3,
          7,
          6,
          2,
          6,
          5,
          6,
          13,
          2,
          5,
          9,
          4,
          3,
          1,
          7,
          1,
          5,
          2
         ],
         "yaxis": "y"
        },
        {
         "hovertemplate": "variable=A2_Mean<br>Date=%{x}<br>value=%{y}<extra></extra>",
         "legendgroup": "A2_Mean",
         "line": {
          "color": "#EF553B",
          "dash": "solid"
         },
         "marker": {
          "symbol": "circle"
         },
         "mode": "lines",
         "name": "A2_Mean",
         "orientation": "v",
         "showlegend": true,
         "type": "scatter",
         "x": [
          "2014-03-01T00:00:00",
          "2014-04-01T00:00:00",
          "2014-05-01T00:00:00",
          "2014-06-01T00:00:00",
          "2014-07-01T00:00:00",
          "2014-08-01T00:00:00",
          "2014-09-01T00:00:00",
          "2014-10-01T00:00:00",
          "2014-11-01T00:00:00",
          "2014-12-01T00:00:00",
          "2015-01-01T00:00:00",
          "2015-02-01T00:00:00",
          "2015-03-01T00:00:00",
          "2015-04-01T00:00:00",
          "2015-05-01T00:00:00",
          "2015-06-01T00:00:00",
          "2015-07-01T00:00:00",
          "2015-08-01T00:00:00",
          "2015-09-01T00:00:00",
          "2015-10-01T00:00:00",
          "2015-11-01T00:00:00",
          "2015-12-01T00:00:00",
          "2016-01-01T00:00:00",
          "2016-02-01T00:00:00",
          "2016-03-01T00:00:00",
          "2016-04-01T00:00:00",
          "2016-05-01T00:00:00",
          "2016-06-01T00:00:00",
          "2016-07-01T00:00:00",
          "2016-08-01T00:00:00",
          "2016-09-01T00:00:00",
          "2016-10-01T00:00:00",
          "2016-11-01T00:00:00",
          "2016-12-01T00:00:00",
          "2017-01-01T00:00:00",
          "2017-02-01T00:00:00",
          "2017-03-01T00:00:00",
          "2017-04-01T00:00:00",
          "2017-05-01T00:00:00",
          "2017-06-01T00:00:00",
          "2017-07-01T00:00:00",
          "2017-08-01T00:00:00",
          "2017-09-01T00:00:00",
          "2017-10-01T00:00:00",
          "2017-11-01T00:00:00",
          "2017-12-01T00:00:00",
          "2018-01-01T00:00:00",
          "2018-02-01T00:00:00",
          "2018-03-01T00:00:00",
          "2018-04-01T00:00:00",
          "2018-05-01T00:00:00",
          "2018-06-01T00:00:00",
          "2018-07-01T00:00:00",
          "2018-08-01T00:00:00",
          "2018-09-01T00:00:00",
          "2018-10-01T00:00:00",
          "2018-11-01T00:00:00",
          "2018-12-01T00:00:00",
          "2019-01-01T00:00:00",
          "2019-02-01T00:00:00",
          "2019-03-01T00:00:00",
          "2019-04-01T00:00:00",
          "2019-05-01T00:00:00",
          "2019-06-01T00:00:00",
          "2019-07-01T00:00:00",
          "2019-08-01T00:00:00",
          "2019-09-01T00:00:00",
          "2019-10-01T00:00:00",
          "2019-11-01T00:00:00",
          "2019-12-01T00:00:00",
          "2020-01-01T00:00:00",
          "2020-02-01T00:00:00",
          "2020-03-01T00:00:00",
          "2020-04-01T00:00:00",
          "2020-05-01T00:00:00",
          "2020-06-01T00:00:00",
          "2020-07-01T00:00:00",
          "2020-08-01T00:00:00",
          "2020-09-01T00:00:00",
          "2020-10-01T00:00:00",
          "2020-11-01T00:00:00",
          "2020-12-01T00:00:00",
          "2021-01-01T00:00:00",
          "2021-02-01T00:00:00",
          "2021-03-01T00:00:00",
          "2021-04-01T00:00:00",
          "2021-05-01T00:00:00",
          "2021-06-01T00:00:00",
          "2021-07-01T00:00:00",
          "2021-08-01T00:00:00",
          "2021-09-01T00:00:00",
          "2021-10-01T00:00:00",
          "2021-11-01T00:00:00",
          "2021-12-01T00:00:00",
          "2022-01-01T00:00:00",
          "2022-02-01T00:00:00",
          "2022-03-01T00:00:00",
          "2022-04-01T00:00:00",
          "2022-05-01T00:00:00",
          "2022-06-01T00:00:00",
          "2022-07-01T00:00:00",
          "2022-08-01T00:00:00",
          "2022-09-01T00:00:00",
          "2022-10-01T00:00:00",
          "2022-11-01T00:00:00",
          "2022-12-01T00:00:00",
          "2023-01-01T00:00:00",
          "2023-02-01T00:00:00",
          "2023-03-01T00:00:00",
          "2023-04-01T00:00:00",
          "2023-05-01T00:00:00"
         ],
         "xaxis": "x",
         "y": [
          null,
          null,
          null,
          null,
          null,
          null,
          null,
          null,
          null,
          null,
          null,
          7.333333333333333,
          7.333333333333333,
          7.75,
          8.083333333333334,
          8.333333333333334,
          8.5,
          7.916666666666667,
          8.25,
          8.166666666666666,
          8.5,
          8.583333333333334,
          7.916666666666667,
          6.833333333333333,
          6.916666666666667,
          6.75,
          6.5,
          6.25,
          6.583333333333333,
          7,
          6.25,
          6.166666666666667,
          5.583333333333333,
          5.333333333333333,
          5.416666666666667,
          5.166666666666667,
          5.25,
          5,
          5.25,
          5.416666666666667,
          5.25,
          4.916666666666667,
          5.333333333333333,
          5.166666666666667,
          5.166666666666667,
          5.333333333333333,
          4.916666666666667,
          5,
          4.75,
          5,
          4.833333333333333,
          5.083333333333333,
          4.666666666666667,
          4.666666666666667,
          4.416666666666667,
          4.833333333333333,
          5,
          5.25,
          6.083333333333333,
          6.416666666666667,
          6.333333333333333,
          6.416666666666667,
          6.666666666666667,
          6.333333333333333,
          6.416666666666667,
          6.666666666666667,
          6.666666666666667,
          6.333333333333333,
          6.166666666666667,
          6.083333333333333,
          5.75,
          5,
          5.25,
          5.25,
          4.916666666666667,
          5,
          5.166666666666667,
          5.166666666666667,
          5.083333333333333,
          5.75,
          6,
          5.75,
          5.416666666666667,
          6.166666666666667,
          6.166666666666667,
          5.666666666666667,
          6.166666666666667,
          6.166666666666667,
          5.916666666666667,
          5.416666666666667,
          5.583333333333333,
          5.25,
          5.166666666666667,
          5.083333333333333,
          5.333333333333333,
          4.833333333333333,
          4.75,
          5.083333333333333,
          4.666666666666667,
          4.75,
          5.583333333333333,
          5.666666666666667,
          5.583333333333333,
          5.75,
          5.666666666666667,
          5.666666666666667,
          5.166666666666667,
          5.25,
          5.166666666666667,
          5.083333333333333,
          4.833333333333333
         ],
         "yaxis": "y"
        }
       ],
       "layout": {
        "legend": {
         "title": {
          "text": "variable"
         },
         "tracegroupgap": 0
        },
        "margin": {
         "t": 60
        },
        "template": {
         "data": {
          "bar": [
           {
            "error_x": {
             "color": "#f2f5fa"
            },
            "error_y": {
             "color": "#f2f5fa"
            },
            "marker": {
             "line": {
              "color": "rgb(17,17,17)",
              "width": 0.5
             },
             "pattern": {
              "fillmode": "overlay",
              "size": 10,
              "solidity": 0.2
             }
            },
            "type": "bar"
           }
          ],
          "barpolar": [
           {
            "marker": {
             "line": {
              "color": "rgb(17,17,17)",
              "width": 0.5
             },
             "pattern": {
              "fillmode": "overlay",
              "size": 10,
              "solidity": 0.2
             }
            },
            "type": "barpolar"
           }
          ],
          "carpet": [
           {
            "aaxis": {
             "endlinecolor": "#A2B1C6",
             "gridcolor": "#506784",
             "linecolor": "#506784",
             "minorgridcolor": "#506784",
             "startlinecolor": "#A2B1C6"
            },
            "baxis": {
             "endlinecolor": "#A2B1C6",
             "gridcolor": "#506784",
             "linecolor": "#506784",
             "minorgridcolor": "#506784",
             "startlinecolor": "#A2B1C6"
            },
            "type": "carpet"
           }
          ],
          "choropleth": [
           {
            "colorbar": {
             "outlinewidth": 0,
             "ticks": ""
            },
            "type": "choropleth"
           }
          ],
          "contour": [
           {
            "colorbar": {
             "outlinewidth": 0,
             "ticks": ""
            },
            "colorscale": [
             [
              0,
              "#0d0887"
             ],
             [
              0.1111111111111111,
              "#46039f"
             ],
             [
              0.2222222222222222,
              "#7201a8"
             ],
             [
              0.3333333333333333,
              "#9c179e"
             ],
             [
              0.4444444444444444,
              "#bd3786"
             ],
             [
              0.5555555555555556,
              "#d8576b"
             ],
             [
              0.6666666666666666,
              "#ed7953"
             ],
             [
              0.7777777777777778,
              "#fb9f3a"
             ],
             [
              0.8888888888888888,
              "#fdca26"
             ],
             [
              1,
              "#f0f921"
             ]
            ],
            "type": "contour"
           }
          ],
          "contourcarpet": [
           {
            "colorbar": {
             "outlinewidth": 0,
             "ticks": ""
            },
            "type": "contourcarpet"
           }
          ],
          "heatmap": [
           {
            "colorbar": {
             "outlinewidth": 0,
             "ticks": ""
            },
            "colorscale": [
             [
              0,
              "#0d0887"
             ],
             [
              0.1111111111111111,
              "#46039f"
             ],
             [
              0.2222222222222222,
              "#7201a8"
             ],
             [
              0.3333333333333333,
              "#9c179e"
             ],
             [
              0.4444444444444444,
              "#bd3786"
             ],
             [
              0.5555555555555556,
              "#d8576b"
             ],
             [
              0.6666666666666666,
              "#ed7953"
             ],
             [
              0.7777777777777778,
              "#fb9f3a"
             ],
             [
              0.8888888888888888,
              "#fdca26"
             ],
             [
              1,
              "#f0f921"
             ]
            ],
            "type": "heatmap"
           }
          ],
          "heatmapgl": [
           {
            "colorbar": {
             "outlinewidth": 0,
             "ticks": ""
            },
            "colorscale": [
             [
              0,
              "#0d0887"
             ],
             [
              0.1111111111111111,
              "#46039f"
             ],
             [
              0.2222222222222222,
              "#7201a8"
             ],
             [
              0.3333333333333333,
              "#9c179e"
             ],
             [
              0.4444444444444444,
              "#bd3786"
             ],
             [
              0.5555555555555556,
              "#d8576b"
             ],
             [
              0.6666666666666666,
              "#ed7953"
             ],
             [
              0.7777777777777778,
              "#fb9f3a"
             ],
             [
              0.8888888888888888,
              "#fdca26"
             ],
             [
              1,
              "#f0f921"
             ]
            ],
            "type": "heatmapgl"
           }
          ],
          "histogram": [
           {
            "marker": {
             "pattern": {
              "fillmode": "overlay",
              "size": 10,
              "solidity": 0.2
             }
            },
            "type": "histogram"
           }
          ],
          "histogram2d": [
           {
            "colorbar": {
             "outlinewidth": 0,
             "ticks": ""
            },
            "colorscale": [
             [
              0,
              "#0d0887"
             ],
             [
              0.1111111111111111,
              "#46039f"
             ],
             [
              0.2222222222222222,
              "#7201a8"
             ],
             [
              0.3333333333333333,
              "#9c179e"
             ],
             [
              0.4444444444444444,
              "#bd3786"
             ],
             [
              0.5555555555555556,
              "#d8576b"
             ],
             [
              0.6666666666666666,
              "#ed7953"
             ],
             [
              0.7777777777777778,
              "#fb9f3a"
             ],
             [
              0.8888888888888888,
              "#fdca26"
             ],
             [
              1,
              "#f0f921"
             ]
            ],
            "type": "histogram2d"
           }
          ],
          "histogram2dcontour": [
           {
            "colorbar": {
             "outlinewidth": 0,
             "ticks": ""
            },
            "colorscale": [
             [
              0,
              "#0d0887"
             ],
             [
              0.1111111111111111,
              "#46039f"
             ],
             [
              0.2222222222222222,
              "#7201a8"
             ],
             [
              0.3333333333333333,
              "#9c179e"
             ],
             [
              0.4444444444444444,
              "#bd3786"
             ],
             [
              0.5555555555555556,
              "#d8576b"
             ],
             [
              0.6666666666666666,
              "#ed7953"
             ],
             [
              0.7777777777777778,
              "#fb9f3a"
             ],
             [
              0.8888888888888888,
              "#fdca26"
             ],
             [
              1,
              "#f0f921"
             ]
            ],
            "type": "histogram2dcontour"
           }
          ],
          "mesh3d": [
           {
            "colorbar": {
             "outlinewidth": 0,
             "ticks": ""
            },
            "type": "mesh3d"
           }
          ],
          "parcoords": [
           {
            "line": {
             "colorbar": {
              "outlinewidth": 0,
              "ticks": ""
             }
            },
            "type": "parcoords"
           }
          ],
          "pie": [
           {
            "automargin": true,
            "type": "pie"
           }
          ],
          "scatter": [
           {
            "marker": {
             "line": {
              "color": "#283442"
             }
            },
            "type": "scatter"
           }
          ],
          "scatter3d": [
           {
            "line": {
             "colorbar": {
              "outlinewidth": 0,
              "ticks": ""
             }
            },
            "marker": {
             "colorbar": {
              "outlinewidth": 0,
              "ticks": ""
             }
            },
            "type": "scatter3d"
           }
          ],
          "scattercarpet": [
           {
            "marker": {
             "colorbar": {
              "outlinewidth": 0,
              "ticks": ""
             }
            },
            "type": "scattercarpet"
           }
          ],
          "scattergeo": [
           {
            "marker": {
             "colorbar": {
              "outlinewidth": 0,
              "ticks": ""
             }
            },
            "type": "scattergeo"
           }
          ],
          "scattergl": [
           {
            "marker": {
             "line": {
              "color": "#283442"
             }
            },
            "type": "scattergl"
           }
          ],
          "scattermapbox": [
           {
            "marker": {
             "colorbar": {
              "outlinewidth": 0,
              "ticks": ""
             }
            },
            "type": "scattermapbox"
           }
          ],
          "scatterpolar": [
           {
            "marker": {
             "colorbar": {
              "outlinewidth": 0,
              "ticks": ""
             }
            },
            "type": "scatterpolar"
           }
          ],
          "scatterpolargl": [
           {
            "marker": {
             "colorbar": {
              "outlinewidth": 0,
              "ticks": ""
             }
            },
            "type": "scatterpolargl"
           }
          ],
          "scatterternary": [
           {
            "marker": {
             "colorbar": {
              "outlinewidth": 0,
              "ticks": ""
             }
            },
            "type": "scatterternary"
           }
          ],
          "surface": [
           {
            "colorbar": {
             "outlinewidth": 0,
             "ticks": ""
            },
            "colorscale": [
             [
              0,
              "#0d0887"
             ],
             [
              0.1111111111111111,
              "#46039f"
             ],
             [
              0.2222222222222222,
              "#7201a8"
             ],
             [
              0.3333333333333333,
              "#9c179e"
             ],
             [
              0.4444444444444444,
              "#bd3786"
             ],
             [
              0.5555555555555556,
              "#d8576b"
             ],
             [
              0.6666666666666666,
              "#ed7953"
             ],
             [
              0.7777777777777778,
              "#fb9f3a"
             ],
             [
              0.8888888888888888,
              "#fdca26"
             ],
             [
              1,
              "#f0f921"
             ]
            ],
            "type": "surface"
           }
          ],
          "table": [
           {
            "cells": {
             "fill": {
              "color": "#506784"
             },
             "line": {
              "color": "rgb(17,17,17)"
             }
            },
            "header": {
             "fill": {
              "color": "#2a3f5f"
             },
             "line": {
              "color": "rgb(17,17,17)"
             }
            },
            "type": "table"
           }
          ]
         },
         "layout": {
          "annotationdefaults": {
           "arrowcolor": "#f2f5fa",
           "arrowhead": 0,
           "arrowwidth": 1
          },
          "autotypenumbers": "strict",
          "coloraxis": {
           "colorbar": {
            "outlinewidth": 0,
            "ticks": ""
           }
          },
          "colorscale": {
           "diverging": [
            [
             0,
             "#8e0152"
            ],
            [
             0.1,
             "#c51b7d"
            ],
            [
             0.2,
             "#de77ae"
            ],
            [
             0.3,
             "#f1b6da"
            ],
            [
             0.4,
             "#fde0ef"
            ],
            [
             0.5,
             "#f7f7f7"
            ],
            [
             0.6,
             "#e6f5d0"
            ],
            [
             0.7,
             "#b8e186"
            ],
            [
             0.8,
             "#7fbc41"
            ],
            [
             0.9,
             "#4d9221"
            ],
            [
             1,
             "#276419"
            ]
           ],
           "sequential": [
            [
             0,
             "#0d0887"
            ],
            [
             0.1111111111111111,
             "#46039f"
            ],
            [
             0.2222222222222222,
             "#7201a8"
            ],
            [
             0.3333333333333333,
             "#9c179e"
            ],
            [
             0.4444444444444444,
             "#bd3786"
            ],
            [
             0.5555555555555556,
             "#d8576b"
            ],
            [
             0.6666666666666666,
             "#ed7953"
            ],
            [
             0.7777777777777778,
             "#fb9f3a"
            ],
            [
             0.8888888888888888,
             "#fdca26"
            ],
            [
             1,
             "#f0f921"
            ]
           ],
           "sequentialminus": [
            [
             0,
             "#0d0887"
            ],
            [
             0.1111111111111111,
             "#46039f"
            ],
            [
             0.2222222222222222,
             "#7201a8"
            ],
            [
             0.3333333333333333,
             "#9c179e"
            ],
            [
             0.4444444444444444,
             "#bd3786"
            ],
            [
             0.5555555555555556,
             "#d8576b"
            ],
            [
             0.6666666666666666,
             "#ed7953"
            ],
            [
             0.7777777777777778,
             "#fb9f3a"
            ],
            [
             0.8888888888888888,
             "#fdca26"
            ],
            [
             1,
             "#f0f921"
            ]
           ]
          },
          "colorway": [
           "#636efa",
           "#EF553B",
           "#00cc96",
           "#ab63fa",
           "#FFA15A",
           "#19d3f3",
           "#FF6692",
           "#B6E880",
           "#FF97FF",
           "#FECB52"
          ],
          "font": {
           "color": "#f2f5fa"
          },
          "geo": {
           "bgcolor": "rgb(17,17,17)",
           "lakecolor": "rgb(17,17,17)",
           "landcolor": "rgb(17,17,17)",
           "showlakes": true,
           "showland": true,
           "subunitcolor": "#506784"
          },
          "hoverlabel": {
           "align": "left"
          },
          "hovermode": "closest",
          "mapbox": {
           "style": "dark"
          },
          "paper_bgcolor": "rgb(17,17,17)",
          "plot_bgcolor": "rgb(17,17,17)",
          "polar": {
           "angularaxis": {
            "gridcolor": "#506784",
            "linecolor": "#506784",
            "ticks": ""
           },
           "bgcolor": "rgb(17,17,17)",
           "radialaxis": {
            "gridcolor": "#506784",
            "linecolor": "#506784",
            "ticks": ""
           }
          },
          "scene": {
           "xaxis": {
            "backgroundcolor": "rgb(17,17,17)",
            "gridcolor": "#506784",
            "gridwidth": 2,
            "linecolor": "#506784",
            "showbackground": true,
            "ticks": "",
            "zerolinecolor": "#C8D4E3"
           },
           "yaxis": {
            "backgroundcolor": "rgb(17,17,17)",
            "gridcolor": "#506784",
            "gridwidth": 2,
            "linecolor": "#506784",
            "showbackground": true,
            "ticks": "",
            "zerolinecolor": "#C8D4E3"
           },
           "zaxis": {
            "backgroundcolor": "rgb(17,17,17)",
            "gridcolor": "#506784",
            "gridwidth": 2,
            "linecolor": "#506784",
            "showbackground": true,
            "ticks": "",
            "zerolinecolor": "#C8D4E3"
           }
          },
          "shapedefaults": {
           "line": {
            "color": "#f2f5fa"
           }
          },
          "sliderdefaults": {
           "bgcolor": "#C8D4E3",
           "bordercolor": "rgb(17,17,17)",
           "borderwidth": 1,
           "tickwidth": 0
          },
          "ternary": {
           "aaxis": {
            "gridcolor": "#506784",
            "linecolor": "#506784",
            "ticks": ""
           },
           "baxis": {
            "gridcolor": "#506784",
            "linecolor": "#506784",
            "ticks": ""
           },
           "bgcolor": "rgb(17,17,17)",
           "caxis": {
            "gridcolor": "#506784",
            "linecolor": "#506784",
            "ticks": ""
           }
          },
          "title": {
           "x": 0.05
          },
          "updatemenudefaults": {
           "bgcolor": "#506784",
           "borderwidth": 0
          },
          "xaxis": {
           "automargin": true,
           "gridcolor": "#283442",
           "linecolor": "#506784",
           "ticks": "",
           "title": {
            "standoff": 15
           },
           "zerolinecolor": "#283442",
           "zerolinewidth": 2
          },
          "yaxis": {
           "automargin": true,
           "gridcolor": "#283442",
           "linecolor": "#506784",
           "ticks": "",
           "title": {
            "standoff": 15
           },
           "zerolinecolor": "#283442",
           "zerolinewidth": 2
          }
         }
        },
        "xaxis": {
         "anchor": "y",
         "domain": [
          0,
          1
         ],
         "title": {
          "text": "Date"
         }
        },
        "yaxis": {
         "anchor": "x",
         "domain": [
          0,
          1
         ],
         "title": {
          "text": "value"
         }
        }
       }
      }
     },
     "metadata": {},
     "output_type": "display_data"
    }
   ],
   "source": [
    "import plotly.express as px\n",
    "\n",
    "\n",
    "sell_data['A2_Mean'] = sell_data['A2'].rolling(12).mean()\n",
    "\n",
    "fig = px.line(sell_data, x='Date', y=['A2', 'A2_Mean'], template='plotly_dark')\n",
    "fig.show()"
   ]
  },
  {
   "cell_type": "markdown",
   "id": "41504797",
   "metadata": {},
   "source": [
    "# A2"
   ]
  },
  {
   "cell_type": "code",
   "execution_count": 6,
   "id": "16ffcac9",
   "metadata": {},
   "outputs": [
    {
     "data": {
      "text/html": [
       "<div>\n",
       "<style scoped>\n",
       "    .dataframe tbody tr th:only-of-type {\n",
       "        vertical-align: middle;\n",
       "    }\n",
       "\n",
       "    .dataframe tbody tr th {\n",
       "        vertical-align: top;\n",
       "    }\n",
       "\n",
       "    .dataframe thead th {\n",
       "        text-align: right;\n",
       "    }\n",
       "</style>\n",
       "<table border=\"1\" class=\"dataframe\">\n",
       "  <thead>\n",
       "    <tr style=\"text-align: right;\">\n",
       "      <th></th>\n",
       "      <th>Series</th>\n",
       "      <th>Year</th>\n",
       "      <th>Month</th>\n",
       "      <th>A2</th>\n",
       "    </tr>\n",
       "  </thead>\n",
       "  <tbody>\n",
       "    <tr>\n",
       "      <th>0</th>\n",
       "      <td>1</td>\n",
       "      <td>2014</td>\n",
       "      <td>3</td>\n",
       "      <td>2</td>\n",
       "    </tr>\n",
       "    <tr>\n",
       "      <th>1</th>\n",
       "      <td>2</td>\n",
       "      <td>2014</td>\n",
       "      <td>4</td>\n",
       "      <td>4</td>\n",
       "    </tr>\n",
       "    <tr>\n",
       "      <th>2</th>\n",
       "      <td>3</td>\n",
       "      <td>2014</td>\n",
       "      <td>5</td>\n",
       "      <td>3</td>\n",
       "    </tr>\n",
       "    <tr>\n",
       "      <th>3</th>\n",
       "      <td>4</td>\n",
       "      <td>2014</td>\n",
       "      <td>6</td>\n",
       "      <td>3</td>\n",
       "    </tr>\n",
       "    <tr>\n",
       "      <th>4</th>\n",
       "      <td>5</td>\n",
       "      <td>2014</td>\n",
       "      <td>7</td>\n",
       "      <td>4</td>\n",
       "    </tr>\n",
       "  </tbody>\n",
       "</table>\n",
       "</div>"
      ],
      "text/plain": [
       "   Series  Year  Month  A2\n",
       "0       1  2014      3   2\n",
       "1       2  2014      4   4\n",
       "2       3  2014      5   3\n",
       "3       4  2014      6   3\n",
       "4       5  2014      7   4"
      ]
     },
     "execution_count": 6,
     "metadata": {},
     "output_type": "execute_result"
    }
   ],
   "source": [
    "import numpy as np\n",
    "\n",
    "# extract month and year from dates\n",
    "sell_data['Month'] = [i.month for i in sell_data['Date']]\n",
    "sell_data['Year'] = [i.year for i in sell_data['Date']]\n",
    "\n",
    "# create a sequence of numbers\n",
    "sell_data['Series'] = np.arange(1,len(sell_data)+1)\n",
    "\n",
    "# drop unnecessary columns and re-arrange\n",
    "\n",
    "sell_data.drop(['Date', 'A2_Mean'], axis=1, inplace=True)\n",
    "sell_data = sell_data[['Series', 'Year', 'Month', 'A2']] \n",
    "\n",
    "# check the head of the dataset\n",
    "sell_data.head()"
   ]
  },
  {
   "cell_type": "code",
   "execution_count": 7,
   "id": "814eaaa8",
   "metadata": {},
   "outputs": [
    {
     "data": {
      "text/plain": [
       "((94, 4), (17, 4))"
      ]
     },
     "execution_count": 7,
     "metadata": {},
     "output_type": "execute_result"
    }
   ],
   "source": [
    "# split data into train-test set\n",
    "train = sell_data[sell_data['Year'] < 2022]\n",
    "test = sell_data[sell_data['Year'] >= 2022]\n",
    "\n",
    "# check shape\n",
    "train.shape, test.shape\n"
   ]
  },
  {
   "cell_type": "code",
   "execution_count": 9,
   "id": "883b10dd",
   "metadata": {},
   "outputs": [
    {
     "data": {
      "text/html": [
       "<style type=\"text/css\">\n",
       "#T_0ad1b_row8_col1, #T_0ad1b_row12_col1 {\n",
       "  background-color: lightgreen;\n",
       "}\n",
       "</style>\n",
       "<table id=\"T_0ad1b\">\n",
       "  <thead>\n",
       "    <tr>\n",
       "      <th class=\"blank level0\" >&nbsp;</th>\n",
       "      <th id=\"T_0ad1b_level0_col0\" class=\"col_heading level0 col0\" >Description</th>\n",
       "      <th id=\"T_0ad1b_level0_col1\" class=\"col_heading level0 col1\" >Value</th>\n",
       "    </tr>\n",
       "  </thead>\n",
       "  <tbody>\n",
       "    <tr>\n",
       "      <th id=\"T_0ad1b_level0_row0\" class=\"row_heading level0 row0\" >0</th>\n",
       "      <td id=\"T_0ad1b_row0_col0\" class=\"data row0 col0\" >Session id</td>\n",
       "      <td id=\"T_0ad1b_row0_col1\" class=\"data row0 col1\" >123</td>\n",
       "    </tr>\n",
       "    <tr>\n",
       "      <th id=\"T_0ad1b_level0_row1\" class=\"row_heading level0 row1\" >1</th>\n",
       "      <td id=\"T_0ad1b_row1_col0\" class=\"data row1 col0\" >Target</td>\n",
       "      <td id=\"T_0ad1b_row1_col1\" class=\"data row1 col1\" >A2</td>\n",
       "    </tr>\n",
       "    <tr>\n",
       "      <th id=\"T_0ad1b_level0_row2\" class=\"row_heading level0 row2\" >2</th>\n",
       "      <td id=\"T_0ad1b_row2_col0\" class=\"data row2 col0\" >Target type</td>\n",
       "      <td id=\"T_0ad1b_row2_col1\" class=\"data row2 col1\" >Regression</td>\n",
       "    </tr>\n",
       "    <tr>\n",
       "      <th id=\"T_0ad1b_level0_row3\" class=\"row_heading level0 row3\" >3</th>\n",
       "      <td id=\"T_0ad1b_row3_col0\" class=\"data row3 col0\" >Original data shape</td>\n",
       "      <td id=\"T_0ad1b_row3_col1\" class=\"data row3 col1\" >(111, 4)</td>\n",
       "    </tr>\n",
       "    <tr>\n",
       "      <th id=\"T_0ad1b_level0_row4\" class=\"row_heading level0 row4\" >4</th>\n",
       "      <td id=\"T_0ad1b_row4_col0\" class=\"data row4 col0\" >Transformed data shape</td>\n",
       "      <td id=\"T_0ad1b_row4_col1\" class=\"data row4 col1\" >(111, 4)</td>\n",
       "    </tr>\n",
       "    <tr>\n",
       "      <th id=\"T_0ad1b_level0_row5\" class=\"row_heading level0 row5\" >5</th>\n",
       "      <td id=\"T_0ad1b_row5_col0\" class=\"data row5 col0\" >Transformed train set shape</td>\n",
       "      <td id=\"T_0ad1b_row5_col1\" class=\"data row5 col1\" >(94, 4)</td>\n",
       "    </tr>\n",
       "    <tr>\n",
       "      <th id=\"T_0ad1b_level0_row6\" class=\"row_heading level0 row6\" >6</th>\n",
       "      <td id=\"T_0ad1b_row6_col0\" class=\"data row6 col0\" >Transformed test set shape</td>\n",
       "      <td id=\"T_0ad1b_row6_col1\" class=\"data row6 col1\" >(17, 4)</td>\n",
       "    </tr>\n",
       "    <tr>\n",
       "      <th id=\"T_0ad1b_level0_row7\" class=\"row_heading level0 row7\" >7</th>\n",
       "      <td id=\"T_0ad1b_row7_col0\" class=\"data row7 col0\" >Numeric features</td>\n",
       "      <td id=\"T_0ad1b_row7_col1\" class=\"data row7 col1\" >2</td>\n",
       "    </tr>\n",
       "    <tr>\n",
       "      <th id=\"T_0ad1b_level0_row8\" class=\"row_heading level0 row8\" >8</th>\n",
       "      <td id=\"T_0ad1b_row8_col0\" class=\"data row8 col0\" >Preprocess</td>\n",
       "      <td id=\"T_0ad1b_row8_col1\" class=\"data row8 col1\" >1</td>\n",
       "    </tr>\n",
       "    <tr>\n",
       "      <th id=\"T_0ad1b_level0_row9\" class=\"row_heading level0 row9\" >9</th>\n",
       "      <td id=\"T_0ad1b_row9_col0\" class=\"data row9 col0\" >Imputation type</td>\n",
       "      <td id=\"T_0ad1b_row9_col1\" class=\"data row9 col1\" >simple</td>\n",
       "    </tr>\n",
       "    <tr>\n",
       "      <th id=\"T_0ad1b_level0_row10\" class=\"row_heading level0 row10\" >10</th>\n",
       "      <td id=\"T_0ad1b_row10_col0\" class=\"data row10 col0\" >Numeric imputation</td>\n",
       "      <td id=\"T_0ad1b_row10_col1\" class=\"data row10 col1\" >mean</td>\n",
       "    </tr>\n",
       "    <tr>\n",
       "      <th id=\"T_0ad1b_level0_row11\" class=\"row_heading level0 row11\" >11</th>\n",
       "      <td id=\"T_0ad1b_row11_col0\" class=\"data row11 col0\" >Categorical imputation</td>\n",
       "      <td id=\"T_0ad1b_row11_col1\" class=\"data row11 col1\" >mode</td>\n",
       "    </tr>\n",
       "    <tr>\n",
       "      <th id=\"T_0ad1b_level0_row12\" class=\"row_heading level0 row12\" >12</th>\n",
       "      <td id=\"T_0ad1b_row12_col0\" class=\"data row12 col0\" >Transform target</td>\n",
       "      <td id=\"T_0ad1b_row12_col1\" class=\"data row12 col1\" >1</td>\n",
       "    </tr>\n",
       "    <tr>\n",
       "      <th id=\"T_0ad1b_level0_row13\" class=\"row_heading level0 row13\" >13</th>\n",
       "      <td id=\"T_0ad1b_row13_col0\" class=\"data row13 col0\" >Transform target method</td>\n",
       "      <td id=\"T_0ad1b_row13_col1\" class=\"data row13 col1\" >yeo-johnson</td>\n",
       "    </tr>\n",
       "    <tr>\n",
       "      <th id=\"T_0ad1b_level0_row14\" class=\"row_heading level0 row14\" >14</th>\n",
       "      <td id=\"T_0ad1b_row14_col0\" class=\"data row14 col0\" >Fold Generator</td>\n",
       "      <td id=\"T_0ad1b_row14_col1\" class=\"data row14 col1\" >TimeSeriesSplit</td>\n",
       "    </tr>\n",
       "    <tr>\n",
       "      <th id=\"T_0ad1b_level0_row15\" class=\"row_heading level0 row15\" >15</th>\n",
       "      <td id=\"T_0ad1b_row15_col0\" class=\"data row15 col0\" >Fold Number</td>\n",
       "      <td id=\"T_0ad1b_row15_col1\" class=\"data row15 col1\" >10</td>\n",
       "    </tr>\n",
       "    <tr>\n",
       "      <th id=\"T_0ad1b_level0_row16\" class=\"row_heading level0 row16\" >16</th>\n",
       "      <td id=\"T_0ad1b_row16_col0\" class=\"data row16 col0\" >CPU Jobs</td>\n",
       "      <td id=\"T_0ad1b_row16_col1\" class=\"data row16 col1\" >-1</td>\n",
       "    </tr>\n",
       "    <tr>\n",
       "      <th id=\"T_0ad1b_level0_row17\" class=\"row_heading level0 row17\" >17</th>\n",
       "      <td id=\"T_0ad1b_row17_col0\" class=\"data row17 col0\" >Use GPU</td>\n",
       "      <td id=\"T_0ad1b_row17_col1\" class=\"data row17 col1\" >0</td>\n",
       "    </tr>\n",
       "    <tr>\n",
       "      <th id=\"T_0ad1b_level0_row18\" class=\"row_heading level0 row18\" >18</th>\n",
       "      <td id=\"T_0ad1b_row18_col0\" class=\"data row18 col0\" >Log Experiment</td>\n",
       "      <td id=\"T_0ad1b_row18_col1\" class=\"data row18 col1\" >0</td>\n",
       "    </tr>\n",
       "    <tr>\n",
       "      <th id=\"T_0ad1b_level0_row19\" class=\"row_heading level0 row19\" >19</th>\n",
       "      <td id=\"T_0ad1b_row19_col0\" class=\"data row19 col0\" >Experiment Name</td>\n",
       "      <td id=\"T_0ad1b_row19_col1\" class=\"data row19 col1\" >reg-default-name</td>\n",
       "    </tr>\n",
       "    <tr>\n",
       "      <th id=\"T_0ad1b_level0_row20\" class=\"row_heading level0 row20\" >20</th>\n",
       "      <td id=\"T_0ad1b_row20_col0\" class=\"data row20 col0\" >USI</td>\n",
       "      <td id=\"T_0ad1b_row20_col1\" class=\"data row20 col1\" >9f6a</td>\n",
       "    </tr>\n",
       "  </tbody>\n",
       "</table>\n"
      ],
      "text/plain": [
       "<pandas.io.formats.style.Styler at 0x1b5258896d0>"
      ]
     },
     "metadata": {},
     "output_type": "display_data"
    }
   ],
   "source": [
    "# import the regression module\n",
    "from pycaret.regression import *\n",
    "\n",
    "# initialize setup\n",
    "s = setup(data = train, test_data = test, target = 'A2', fold_strategy = 'timeseries', numeric_features = ['Year', 'Series'], fold = 10, transform_target = True, session_id = 123)"
   ]
  },
  {
   "cell_type": "code",
   "execution_count": 10,
   "id": "5e7f12f4",
   "metadata": {},
   "outputs": [
    {
     "data": {
      "text/html": [
       "<div>\n",
       "<style scoped>\n",
       "    .dataframe tbody tr th:only-of-type {\n",
       "        vertical-align: middle;\n",
       "    }\n",
       "\n",
       "    .dataframe tbody tr th {\n",
       "        vertical-align: top;\n",
       "    }\n",
       "\n",
       "    .dataframe thead th {\n",
       "        text-align: right;\n",
       "    }\n",
       "</style>\n",
       "<table border=\"1\" class=\"dataframe\">\n",
       "  <thead>\n",
       "    <tr style=\"text-align: right;\">\n",
       "      <th></th>\n",
       "      <th></th>\n",
       "      <th></th>\n",
       "    </tr>\n",
       "    <tr>\n",
       "      <th></th>\n",
       "      <th></th>\n",
       "      <th></th>\n",
       "    </tr>\n",
       "  </thead>\n",
       "  <tbody>\n",
       "    <tr>\n",
       "      <th>Initiated</th>\n",
       "      <td>. . . . . . . . . . . . . . . . . .</td>\n",
       "      <td>17:20:50</td>\n",
       "    </tr>\n",
       "    <tr>\n",
       "      <th>Status</th>\n",
       "      <td>. . . . . . . . . . . . . . . . . .</td>\n",
       "      <td>Loading Estimator</td>\n",
       "    </tr>\n",
       "    <tr>\n",
       "      <th>Estimator</th>\n",
       "      <td>. . . . . . . . . . . . . . . . . .</td>\n",
       "      <td>Compiling Library</td>\n",
       "    </tr>\n",
       "  </tbody>\n",
       "</table>\n",
       "</div>"
      ],
      "text/plain": [
       "                                                                 \n",
       "                                                                 \n",
       "Initiated  . . . . . . . . . . . . . . . . . .           17:20:50\n",
       "Status     . . . . . . . . . . . . . . . . . .  Loading Estimator\n",
       "Estimator  . . . . . . . . . . . . . . . . . .  Compiling Library"
      ]
     },
     "metadata": {},
     "output_type": "display_data"
    },
    {
     "data": {
      "text/html": [
       "<style type=\"text/css\">\n",
       "#T_a0955 th {\n",
       "  text-align: left;\n",
       "}\n",
       "#T_a0955_row0_col0, #T_a0955_row0_col1, #T_a0955_row0_col5, #T_a0955_row0_col6, #T_a0955_row1_col0, #T_a0955_row1_col1, #T_a0955_row1_col5, #T_a0955_row1_col6, #T_a0955_row2_col0, #T_a0955_row2_col1, #T_a0955_row2_col2, #T_a0955_row2_col3, #T_a0955_row2_col4, #T_a0955_row2_col5, #T_a0955_row2_col6, #T_a0955_row3_col0, #T_a0955_row3_col1, #T_a0955_row3_col2, #T_a0955_row3_col3, #T_a0955_row3_col4, #T_a0955_row4_col0, #T_a0955_row4_col2, #T_a0955_row4_col3, #T_a0955_row4_col4, #T_a0955_row4_col5, #T_a0955_row4_col6, #T_a0955_row5_col0, #T_a0955_row5_col1, #T_a0955_row5_col2, #T_a0955_row5_col3, #T_a0955_row5_col4, #T_a0955_row5_col5, #T_a0955_row5_col6, #T_a0955_row6_col0, #T_a0955_row6_col1, #T_a0955_row6_col2, #T_a0955_row6_col3, #T_a0955_row6_col4, #T_a0955_row6_col5, #T_a0955_row6_col6, #T_a0955_row7_col0, #T_a0955_row7_col1, #T_a0955_row7_col2, #T_a0955_row7_col3, #T_a0955_row7_col4, #T_a0955_row7_col5, #T_a0955_row7_col6, #T_a0955_row8_col0, #T_a0955_row8_col1, #T_a0955_row8_col2, #T_a0955_row8_col3, #T_a0955_row8_col4, #T_a0955_row8_col5, #T_a0955_row8_col6, #T_a0955_row9_col0, #T_a0955_row9_col1, #T_a0955_row9_col2, #T_a0955_row9_col3, #T_a0955_row9_col4, #T_a0955_row9_col5, #T_a0955_row9_col6, #T_a0955_row10_col0, #T_a0955_row10_col1, #T_a0955_row10_col2, #T_a0955_row10_col3, #T_a0955_row10_col4, #T_a0955_row10_col5, #T_a0955_row10_col6, #T_a0955_row11_col0, #T_a0955_row11_col1, #T_a0955_row11_col2, #T_a0955_row11_col3, #T_a0955_row11_col4, #T_a0955_row11_col5, #T_a0955_row11_col6, #T_a0955_row12_col0, #T_a0955_row12_col1, #T_a0955_row12_col2, #T_a0955_row12_col3, #T_a0955_row12_col4, #T_a0955_row12_col5, #T_a0955_row12_col6, #T_a0955_row13_col0, #T_a0955_row13_col1, #T_a0955_row13_col2, #T_a0955_row13_col3, #T_a0955_row13_col4, #T_a0955_row13_col5, #T_a0955_row13_col6, #T_a0955_row14_col0, #T_a0955_row14_col1, #T_a0955_row14_col2, #T_a0955_row14_col3, #T_a0955_row14_col4, #T_a0955_row14_col5, #T_a0955_row14_col6, #T_a0955_row15_col0, #T_a0955_row15_col1, #T_a0955_row15_col2, #T_a0955_row15_col3, #T_a0955_row15_col4, #T_a0955_row15_col5, #T_a0955_row15_col6, #T_a0955_row16_col0, #T_a0955_row16_col1, #T_a0955_row16_col2, #T_a0955_row16_col3, #T_a0955_row16_col4, #T_a0955_row16_col5, #T_a0955_row16_col6, #T_a0955_row17_col0, #T_a0955_row17_col1, #T_a0955_row17_col2, #T_a0955_row17_col3, #T_a0955_row17_col4, #T_a0955_row17_col5, #T_a0955_row17_col6 {\n",
       "  text-align: left;\n",
       "}\n",
       "#T_a0955_row0_col2, #T_a0955_row0_col3, #T_a0955_row0_col4, #T_a0955_row1_col2, #T_a0955_row1_col3, #T_a0955_row1_col4, #T_a0955_row3_col5, #T_a0955_row3_col6, #T_a0955_row4_col1 {\n",
       "  text-align: left;\n",
       "  background-color: yellow;\n",
       "}\n",
       "#T_a0955_row0_col7, #T_a0955_row1_col7, #T_a0955_row2_col7, #T_a0955_row3_col7, #T_a0955_row4_col7, #T_a0955_row5_col7, #T_a0955_row6_col7, #T_a0955_row7_col7, #T_a0955_row8_col7, #T_a0955_row9_col7, #T_a0955_row11_col7, #T_a0955_row12_col7, #T_a0955_row13_col7, #T_a0955_row14_col7, #T_a0955_row15_col7, #T_a0955_row16_col7, #T_a0955_row17_col7 {\n",
       "  text-align: left;\n",
       "  background-color: lightgrey;\n",
       "}\n",
       "#T_a0955_row10_col7 {\n",
       "  text-align: left;\n",
       "  background-color: yellow;\n",
       "  background-color: lightgrey;\n",
       "}\n",
       "</style>\n",
       "<table id=\"T_a0955\">\n",
       "  <thead>\n",
       "    <tr>\n",
       "      <th class=\"blank level0\" >&nbsp;</th>\n",
       "      <th id=\"T_a0955_level0_col0\" class=\"col_heading level0 col0\" >Model</th>\n",
       "      <th id=\"T_a0955_level0_col1\" class=\"col_heading level0 col1\" >MAE</th>\n",
       "      <th id=\"T_a0955_level0_col2\" class=\"col_heading level0 col2\" >MSE</th>\n",
       "      <th id=\"T_a0955_level0_col3\" class=\"col_heading level0 col3\" >RMSE</th>\n",
       "      <th id=\"T_a0955_level0_col4\" class=\"col_heading level0 col4\" >R2</th>\n",
       "      <th id=\"T_a0955_level0_col5\" class=\"col_heading level0 col5\" >RMSLE</th>\n",
       "      <th id=\"T_a0955_level0_col6\" class=\"col_heading level0 col6\" >MAPE</th>\n",
       "      <th id=\"T_a0955_level0_col7\" class=\"col_heading level0 col7\" >TT (Sec)</th>\n",
       "    </tr>\n",
       "  </thead>\n",
       "  <tbody>\n",
       "    <tr>\n",
       "      <th id=\"T_a0955_level0_row0\" class=\"row_heading level0 row0\" >llar</th>\n",
       "      <td id=\"T_a0955_row0_col0\" class=\"data row0 col0\" >Lasso Least Angle Regression</td>\n",
       "      <td id=\"T_a0955_row0_col1\" class=\"data row0 col1\" >2.2548</td>\n",
       "      <td id=\"T_a0955_row0_col2\" class=\"data row0 col2\" >7.6872</td>\n",
       "      <td id=\"T_a0955_row0_col3\" class=\"data row0 col3\" >2.6789</td>\n",
       "      <td id=\"T_a0955_row0_col4\" class=\"data row0 col4\" >-0.1579</td>\n",
       "      <td id=\"T_a0955_row0_col5\" class=\"data row0 col5\" >0.4473</td>\n",
       "      <td id=\"T_a0955_row0_col6\" class=\"data row0 col6\" >0.5275</td>\n",
       "      <td id=\"T_a0955_row0_col7\" class=\"data row0 col7\" >0.0910</td>\n",
       "    </tr>\n",
       "    <tr>\n",
       "      <th id=\"T_a0955_level0_row1\" class=\"row_heading level0 row1\" >dummy</th>\n",
       "      <td id=\"T_a0955_row1_col0\" class=\"data row1 col0\" >Dummy Regressor</td>\n",
       "      <td id=\"T_a0955_row1_col1\" class=\"data row1 col1\" >2.2548</td>\n",
       "      <td id=\"T_a0955_row1_col2\" class=\"data row1 col2\" >7.6872</td>\n",
       "      <td id=\"T_a0955_row1_col3\" class=\"data row1 col3\" >2.6789</td>\n",
       "      <td id=\"T_a0955_row1_col4\" class=\"data row1 col4\" >-0.1579</td>\n",
       "      <td id=\"T_a0955_row1_col5\" class=\"data row1 col5\" >0.4473</td>\n",
       "      <td id=\"T_a0955_row1_col6\" class=\"data row1 col6\" >0.5275</td>\n",
       "      <td id=\"T_a0955_row1_col7\" class=\"data row1 col7\" >0.1050</td>\n",
       "    </tr>\n",
       "    <tr>\n",
       "      <th id=\"T_a0955_level0_row2\" class=\"row_heading level0 row2\" >lasso</th>\n",
       "      <td id=\"T_a0955_row2_col0\" class=\"data row2 col0\" >Lasso Regression</td>\n",
       "      <td id=\"T_a0955_row2_col1\" class=\"data row2 col1\" >2.2437</td>\n",
       "      <td id=\"T_a0955_row2_col2\" class=\"data row2 col2\" >7.6957</td>\n",
       "      <td id=\"T_a0955_row2_col3\" class=\"data row2 col3\" >2.6800</td>\n",
       "      <td id=\"T_a0955_row2_col4\" class=\"data row2 col4\" >-0.1585</td>\n",
       "      <td id=\"T_a0955_row2_col5\" class=\"data row2 col5\" >0.4456</td>\n",
       "      <td id=\"T_a0955_row2_col6\" class=\"data row2 col6\" >0.5187</td>\n",
       "      <td id=\"T_a0955_row2_col7\" class=\"data row2 col7\" >0.0960</td>\n",
       "    </tr>\n",
       "    <tr>\n",
       "      <th id=\"T_a0955_level0_row3\" class=\"row_heading level0 row3\" >knn</th>\n",
       "      <td id=\"T_a0955_row3_col0\" class=\"data row3 col0\" >K Neighbors Regressor</td>\n",
       "      <td id=\"T_a0955_row3_col1\" class=\"data row3 col1\" >2.2756</td>\n",
       "      <td id=\"T_a0955_row3_col2\" class=\"data row3 col2\" >7.7677</td>\n",
       "      <td id=\"T_a0955_row3_col3\" class=\"data row3 col3\" >2.7011</td>\n",
       "      <td id=\"T_a0955_row3_col4\" class=\"data row3 col4\" >-0.1851</td>\n",
       "      <td id=\"T_a0955_row3_col5\" class=\"data row3 col5\" >0.4453</td>\n",
       "      <td id=\"T_a0955_row3_col6\" class=\"data row3 col6\" >0.5119</td>\n",
       "      <td id=\"T_a0955_row3_col7\" class=\"data row3 col7\" >0.0850</td>\n",
       "    </tr>\n",
       "    <tr>\n",
       "      <th id=\"T_a0955_level0_row4\" class=\"row_heading level0 row4\" >en</th>\n",
       "      <td id=\"T_a0955_row4_col0\" class=\"data row4 col0\" >Elastic Net</td>\n",
       "      <td id=\"T_a0955_row4_col1\" class=\"data row4 col1\" >2.2415</td>\n",
       "      <td id=\"T_a0955_row4_col2\" class=\"data row4 col2\" >7.8348</td>\n",
       "      <td id=\"T_a0955_row4_col3\" class=\"data row4 col3\" >2.6940</td>\n",
       "      <td id=\"T_a0955_row4_col4\" class=\"data row4 col4\" >-0.1714</td>\n",
       "      <td id=\"T_a0955_row4_col5\" class=\"data row4 col5\" >0.4456</td>\n",
       "      <td id=\"T_a0955_row4_col6\" class=\"data row4 col6\" >0.5193</td>\n",
       "      <td id=\"T_a0955_row4_col7\" class=\"data row4 col7\" >0.0900</td>\n",
       "    </tr>\n",
       "    <tr>\n",
       "      <th id=\"T_a0955_level0_row5\" class=\"row_heading level0 row5\" >lightgbm</th>\n",
       "      <td id=\"T_a0955_row5_col0\" class=\"data row5 col0\" >Light Gradient Boosting Machine</td>\n",
       "      <td id=\"T_a0955_row5_col1\" class=\"data row5 col1\" >2.2858</td>\n",
       "      <td id=\"T_a0955_row5_col2\" class=\"data row5 col2\" >8.0769</td>\n",
       "      <td id=\"T_a0955_row5_col3\" class=\"data row5 col3\" >2.7311</td>\n",
       "      <td id=\"T_a0955_row5_col4\" class=\"data row5 col4\" >-0.1949</td>\n",
       "      <td id=\"T_a0955_row5_col5\" class=\"data row5 col5\" >0.4481</td>\n",
       "      <td id=\"T_a0955_row5_col6\" class=\"data row5 col6\" >0.5175</td>\n",
       "      <td id=\"T_a0955_row5_col7\" class=\"data row5 col7\" >0.1550</td>\n",
       "    </tr>\n",
       "    <tr>\n",
       "      <th id=\"T_a0955_level0_row6\" class=\"row_heading level0 row6\" >br</th>\n",
       "      <td id=\"T_a0955_row6_col0\" class=\"data row6 col0\" >Bayesian Ridge</td>\n",
       "      <td id=\"T_a0955_row6_col1\" class=\"data row6 col1\" >2.3786</td>\n",
       "      <td id=\"T_a0955_row6_col2\" class=\"data row6 col2\" >8.5778</td>\n",
       "      <td id=\"T_a0955_row6_col3\" class=\"data row6 col3\" >2.8158</td>\n",
       "      <td id=\"T_a0955_row6_col4\" class=\"data row6 col4\" >-0.3072</td>\n",
       "      <td id=\"T_a0955_row6_col5\" class=\"data row6 col5\" >0.4657</td>\n",
       "      <td id=\"T_a0955_row6_col6\" class=\"data row6 col6\" >0.5730</td>\n",
       "      <td id=\"T_a0955_row6_col7\" class=\"data row6 col7\" >0.0790</td>\n",
       "    </tr>\n",
       "    <tr>\n",
       "      <th id=\"T_a0955_level0_row7\" class=\"row_heading level0 row7\" >ada</th>\n",
       "      <td id=\"T_a0955_row7_col0\" class=\"data row7 col0\" >AdaBoost Regressor</td>\n",
       "      <td id=\"T_a0955_row7_col1\" class=\"data row7 col1\" >2.5172</td>\n",
       "      <td id=\"T_a0955_row7_col2\" class=\"data row7 col2\" >9.6772</td>\n",
       "      <td id=\"T_a0955_row7_col3\" class=\"data row7 col3\" >3.0198</td>\n",
       "      <td id=\"T_a0955_row7_col4\" class=\"data row7 col4\" >-0.6396</td>\n",
       "      <td id=\"T_a0955_row7_col5\" class=\"data row7 col5\" >0.4709</td>\n",
       "      <td id=\"T_a0955_row7_col6\" class=\"data row7 col6\" >0.5606</td>\n",
       "      <td id=\"T_a0955_row7_col7\" class=\"data row7 col7\" >0.2650</td>\n",
       "    </tr>\n",
       "    <tr>\n",
       "      <th id=\"T_a0955_level0_row8\" class=\"row_heading level0 row8\" >rf</th>\n",
       "      <td id=\"T_a0955_row8_col0\" class=\"data row8 col0\" >Random Forest Regressor</td>\n",
       "      <td id=\"T_a0955_row8_col1\" class=\"data row8 col1\" >2.5301</td>\n",
       "      <td id=\"T_a0955_row8_col2\" class=\"data row8 col2\" >10.1238</td>\n",
       "      <td id=\"T_a0955_row8_col3\" class=\"data row8 col3\" >3.0918</td>\n",
       "      <td id=\"T_a0955_row8_col4\" class=\"data row8 col4\" >-0.7212</td>\n",
       "      <td id=\"T_a0955_row8_col5\" class=\"data row8 col5\" >0.4827</td>\n",
       "      <td id=\"T_a0955_row8_col6\" class=\"data row8 col6\" >0.5696</td>\n",
       "      <td id=\"T_a0955_row8_col7\" class=\"data row8 col7\" >0.2660</td>\n",
       "    </tr>\n",
       "    <tr>\n",
       "      <th id=\"T_a0955_level0_row9\" class=\"row_heading level0 row9\" >et</th>\n",
       "      <td id=\"T_a0955_row9_col0\" class=\"data row9 col0\" >Extra Trees Regressor</td>\n",
       "      <td id=\"T_a0955_row9_col1\" class=\"data row9 col1\" >2.6383</td>\n",
       "      <td id=\"T_a0955_row9_col2\" class=\"data row9 col2\" >10.5156</td>\n",
       "      <td id=\"T_a0955_row9_col3\" class=\"data row9 col3\" >3.1530</td>\n",
       "      <td id=\"T_a0955_row9_col4\" class=\"data row9 col4\" >-0.7986</td>\n",
       "      <td id=\"T_a0955_row9_col5\" class=\"data row9 col5\" >0.5105</td>\n",
       "      <td id=\"T_a0955_row9_col6\" class=\"data row9 col6\" >0.6024</td>\n",
       "      <td id=\"T_a0955_row9_col7\" class=\"data row9 col7\" >0.2370</td>\n",
       "    </tr>\n",
       "    <tr>\n",
       "      <th id=\"T_a0955_level0_row10\" class=\"row_heading level0 row10\" >omp</th>\n",
       "      <td id=\"T_a0955_row10_col0\" class=\"data row10 col0\" >Orthogonal Matching Pursuit</td>\n",
       "      <td id=\"T_a0955_row10_col1\" class=\"data row10 col1\" >3.1305</td>\n",
       "      <td id=\"T_a0955_row10_col2\" class=\"data row10 col2\" >18.0623</td>\n",
       "      <td id=\"T_a0955_row10_col3\" class=\"data row10 col3\" >3.6519</td>\n",
       "      <td id=\"T_a0955_row10_col4\" class=\"data row10 col4\" >-1.7620</td>\n",
       "      <td id=\"T_a0955_row10_col5\" class=\"data row10 col5\" >0.5323</td>\n",
       "      <td id=\"T_a0955_row10_col6\" class=\"data row10 col6\" >0.7298</td>\n",
       "      <td id=\"T_a0955_row10_col7\" class=\"data row10 col7\" >0.0780</td>\n",
       "    </tr>\n",
       "    <tr>\n",
       "      <th id=\"T_a0955_level0_row11\" class=\"row_heading level0 row11\" >ridge</th>\n",
       "      <td id=\"T_a0955_row11_col0\" class=\"data row11 col0\" >Ridge Regression</td>\n",
       "      <td id=\"T_a0955_row11_col1\" class=\"data row11 col1\" >3.2413</td>\n",
       "      <td id=\"T_a0955_row11_col2\" class=\"data row11 col2\" >19.9028</td>\n",
       "      <td id=\"T_a0955_row11_col3\" class=\"data row11 col3\" >3.7924</td>\n",
       "      <td id=\"T_a0955_row11_col4\" class=\"data row11 col4\" >-2.0437</td>\n",
       "      <td id=\"T_a0955_row11_col5\" class=\"data row11 col5\" >0.5399</td>\n",
       "      <td id=\"T_a0955_row11_col6\" class=\"data row11 col6\" >0.7382</td>\n",
       "      <td id=\"T_a0955_row11_col7\" class=\"data row11 col7\" >0.0910</td>\n",
       "    </tr>\n",
       "    <tr>\n",
       "      <th id=\"T_a0955_level0_row12\" class=\"row_heading level0 row12\" >lar</th>\n",
       "      <td id=\"T_a0955_row12_col0\" class=\"data row12 col0\" >Least Angle Regression</td>\n",
       "      <td id=\"T_a0955_row12_col1\" class=\"data row12 col1\" >3.2528</td>\n",
       "      <td id=\"T_a0955_row12_col2\" class=\"data row12 col2\" >20.1413</td>\n",
       "      <td id=\"T_a0955_row12_col3\" class=\"data row12 col3\" >3.8048</td>\n",
       "      <td id=\"T_a0955_row12_col4\" class=\"data row12 col4\" >-2.0774</td>\n",
       "      <td id=\"T_a0955_row12_col5\" class=\"data row12 col5\" >0.5405</td>\n",
       "      <td id=\"T_a0955_row12_col6\" class=\"data row12 col6\" >0.7401</td>\n",
       "      <td id=\"T_a0955_row12_col7\" class=\"data row12 col7\" >0.1060</td>\n",
       "    </tr>\n",
       "    <tr>\n",
       "      <th id=\"T_a0955_level0_row13\" class=\"row_heading level0 row13\" >lr</th>\n",
       "      <td id=\"T_a0955_row13_col0\" class=\"data row13 col0\" >Linear Regression</td>\n",
       "      <td id=\"T_a0955_row13_col1\" class=\"data row13 col1\" >3.2491</td>\n",
       "      <td id=\"T_a0955_row13_col2\" class=\"data row13 col2\" >20.1994</td>\n",
       "      <td id=\"T_a0955_row13_col3\" class=\"data row13 col3\" >3.8089</td>\n",
       "      <td id=\"T_a0955_row13_col4\" class=\"data row13 col4\" >-2.0859</td>\n",
       "      <td id=\"T_a0955_row13_col5\" class=\"data row13 col5\" >0.5408</td>\n",
       "      <td id=\"T_a0955_row13_col6\" class=\"data row13 col6\" >0.7385</td>\n",
       "      <td id=\"T_a0955_row13_col7\" class=\"data row13 col7\" >1.1820</td>\n",
       "    </tr>\n",
       "    <tr>\n",
       "      <th id=\"T_a0955_level0_row14\" class=\"row_heading level0 row14\" >dt</th>\n",
       "      <td id=\"T_a0955_row14_col0\" class=\"data row14 col0\" >Decision Tree Regressor</td>\n",
       "      <td id=\"T_a0955_row14_col1\" class=\"data row14 col1\" >3.5750</td>\n",
       "      <td id=\"T_a0955_row14_col2\" class=\"data row14 col2\" >22.0250</td>\n",
       "      <td id=\"T_a0955_row14_col3\" class=\"data row14 col3\" >4.3820</td>\n",
       "      <td id=\"T_a0955_row14_col4\" class=\"data row14 col4\" >-2.7352</td>\n",
       "      <td id=\"T_a0955_row14_col5\" class=\"data row14 col5\" >0.6356</td>\n",
       "      <td id=\"T_a0955_row14_col6\" class=\"data row14 col6\" >0.7929</td>\n",
       "      <td id=\"T_a0955_row14_col7\" class=\"data row14 col7\" >0.0890</td>\n",
       "    </tr>\n",
       "    <tr>\n",
       "      <th id=\"T_a0955_level0_row15\" class=\"row_heading level0 row15\" >par</th>\n",
       "      <td id=\"T_a0955_row15_col0\" class=\"data row15 col0\" >Passive Aggressive Regressor</td>\n",
       "      <td id=\"T_a0955_row15_col1\" class=\"data row15 col1\" >3.6752</td>\n",
       "      <td id=\"T_a0955_row15_col2\" class=\"data row15 col2\" >27.0503</td>\n",
       "      <td id=\"T_a0955_row15_col3\" class=\"data row15 col3\" >4.2150</td>\n",
       "      <td id=\"T_a0955_row15_col4\" class=\"data row15 col4\" >-2.9095</td>\n",
       "      <td id=\"T_a0955_row15_col5\" class=\"data row15 col5\" >0.7054</td>\n",
       "      <td id=\"T_a0955_row15_col6\" class=\"data row15 col6\" >0.8847</td>\n",
       "      <td id=\"T_a0955_row15_col7\" class=\"data row15 col7\" >0.1070</td>\n",
       "    </tr>\n",
       "    <tr>\n",
       "      <th id=\"T_a0955_level0_row16\" class=\"row_heading level0 row16\" >gbr</th>\n",
       "      <td id=\"T_a0955_row16_col0\" class=\"data row16 col0\" >Gradient Boosting Regressor</td>\n",
       "      <td id=\"T_a0955_row16_col1\" class=\"data row16 col1\" >3.7516</td>\n",
       "      <td id=\"T_a0955_row16_col2\" class=\"data row16 col2\" >31.3252</td>\n",
       "      <td id=\"T_a0955_row16_col3\" class=\"data row16 col3\" >4.8252</td>\n",
       "      <td id=\"T_a0955_row16_col4\" class=\"data row16 col4\" >-4.3418</td>\n",
       "      <td id=\"T_a0955_row16_col5\" class=\"data row16 col5\" >0.6303</td>\n",
       "      <td id=\"T_a0955_row16_col6\" class=\"data row16 col6\" >0.8530</td>\n",
       "      <td id=\"T_a0955_row16_col7\" class=\"data row16 col7\" >0.2320</td>\n",
       "    </tr>\n",
       "    <tr>\n",
       "      <th id=\"T_a0955_level0_row17\" class=\"row_heading level0 row17\" >huber</th>\n",
       "      <td id=\"T_a0955_row17_col0\" class=\"data row17 col0\" >Huber Regressor</td>\n",
       "      <td id=\"T_a0955_row17_col1\" class=\"data row17 col1\" >4.4103</td>\n",
       "      <td id=\"T_a0955_row17_col2\" class=\"data row17 col2\" >57.4926</td>\n",
       "      <td id=\"T_a0955_row17_col3\" class=\"data row17 col3\" >5.0278</td>\n",
       "      <td id=\"T_a0955_row17_col4\" class=\"data row17 col4\" >-7.5280</td>\n",
       "      <td id=\"T_a0955_row17_col5\" class=\"data row17 col5\" >0.5978</td>\n",
       "      <td id=\"T_a0955_row17_col6\" class=\"data row17 col6\" >0.9551</td>\n",
       "      <td id=\"T_a0955_row17_col7\" class=\"data row17 col7\" >0.1160</td>\n",
       "    </tr>\n",
       "  </tbody>\n",
       "</table>\n"
      ],
      "text/plain": [
       "<pandas.io.formats.style.Styler at 0x1b5252066d0>"
      ]
     },
     "metadata": {},
     "output_type": "display_data"
    },
    {
     "data": {
      "application/vnd.jupyter.widget-view+json": {
       "model_id": "73ea2f22dde24e24a852d2ad7d4cc241",
       "version_major": 2,
       "version_minor": 0
      },
      "text/plain": [
       "Processing:   0%|          | 0/77 [00:00<?, ?it/s]"
      ]
     },
     "metadata": {},
     "output_type": "display_data"
    }
   ],
   "source": [
    "best = compare_models(sort = 'MSE')"
   ]
  },
  {
   "cell_type": "code",
   "execution_count": 11,
   "id": "8112d84d",
   "metadata": {},
   "outputs": [
    {
     "data": {
      "text/html": [],
      "text/plain": [
       "<IPython.core.display.HTML object>"
      ]
     },
     "metadata": {},
     "output_type": "display_data"
    }
   ],
   "source": [
    "prediction_holdout = predict_model(best);"
   ]
  },
  {
   "cell_type": "code",
   "execution_count": 12,
   "id": "a4896930",
   "metadata": {},
   "outputs": [
    {
     "data": {
      "text/html": [],
      "text/plain": [
       "<IPython.core.display.HTML object>"
      ]
     },
     "metadata": {},
     "output_type": "display_data"
    },
    {
     "data": {
      "application/vnd.plotly.v1+json": {
       "config": {
        "plotlyServerURL": "https://plot.ly"
       },
       "data": [
        {
         "hovertemplate": "variable=A2<br>Date=%{x}<br>value=%{y}<extra></extra>",
         "legendgroup": "A2",
         "line": {
          "color": "#636efa",
          "dash": "solid"
         },
         "marker": {
          "symbol": "circle"
         },
         "mode": "lines",
         "name": "A2",
         "orientation": "v",
         "showlegend": true,
         "type": "scatter",
         "x": [
          "2014-03-01T00:00:00",
          "2014-04-01T00:00:00",
          "2014-05-01T00:00:00",
          "2014-06-01T00:00:00",
          "2014-07-01T00:00:00",
          "2014-08-01T00:00:00",
          "2014-09-01T00:00:00",
          "2014-10-01T00:00:00",
          "2014-11-01T00:00:00",
          "2014-12-01T00:00:00",
          "2015-01-01T00:00:00",
          "2015-02-01T00:00:00",
          "2015-03-01T00:00:00",
          "2015-04-01T00:00:00",
          "2015-05-01T00:00:00",
          "2015-06-01T00:00:00",
          "2015-07-01T00:00:00",
          "2015-08-01T00:00:00",
          "2015-09-01T00:00:00",
          "2015-10-01T00:00:00",
          "2015-11-01T00:00:00",
          "2015-12-01T00:00:00",
          "2016-01-01T00:00:00",
          "2016-02-01T00:00:00",
          "2016-03-01T00:00:00",
          "2016-04-01T00:00:00",
          "2016-05-01T00:00:00",
          "2016-06-01T00:00:00",
          "2016-07-01T00:00:00",
          "2016-08-01T00:00:00",
          "2016-09-01T00:00:00",
          "2016-10-01T00:00:00",
          "2016-11-01T00:00:00",
          "2016-12-01T00:00:00",
          "2017-01-01T00:00:00",
          "2017-02-01T00:00:00",
          "2017-03-01T00:00:00",
          "2017-04-01T00:00:00",
          "2017-05-01T00:00:00",
          "2017-06-01T00:00:00",
          "2017-07-01T00:00:00",
          "2017-08-01T00:00:00",
          "2017-09-01T00:00:00",
          "2017-10-01T00:00:00",
          "2017-11-01T00:00:00",
          "2017-12-01T00:00:00",
          "2018-01-01T00:00:00",
          "2018-02-01T00:00:00",
          "2018-03-01T00:00:00",
          "2018-04-01T00:00:00",
          "2018-05-01T00:00:00",
          "2018-06-01T00:00:00",
          "2018-07-01T00:00:00",
          "2018-08-01T00:00:00",
          "2018-09-01T00:00:00",
          "2018-10-01T00:00:00",
          "2018-11-01T00:00:00",
          "2018-12-01T00:00:00",
          "2019-01-01T00:00:00",
          "2019-02-01T00:00:00",
          "2019-03-01T00:00:00",
          "2019-04-01T00:00:00",
          "2019-05-01T00:00:00",
          "2019-06-01T00:00:00",
          "2019-07-01T00:00:00",
          "2019-08-01T00:00:00",
          "2019-09-01T00:00:00",
          "2019-10-01T00:00:00",
          "2019-11-01T00:00:00",
          "2019-12-01T00:00:00",
          "2020-01-01T00:00:00",
          "2020-02-01T00:00:00",
          "2020-03-01T00:00:00",
          "2020-04-01T00:00:00",
          "2020-05-01T00:00:00",
          "2020-06-01T00:00:00",
          "2020-07-01T00:00:00",
          "2020-08-01T00:00:00",
          "2020-09-01T00:00:00",
          "2020-10-01T00:00:00",
          "2020-11-01T00:00:00",
          "2020-12-01T00:00:00",
          "2021-01-01T00:00:00",
          "2021-02-01T00:00:00",
          "2021-03-01T00:00:00",
          "2021-04-01T00:00:00",
          "2021-05-01T00:00:00",
          "2021-06-01T00:00:00",
          "2021-07-01T00:00:00",
          "2021-08-01T00:00:00",
          "2021-09-01T00:00:00",
          "2021-10-01T00:00:00",
          "2021-11-01T00:00:00",
          "2021-12-01T00:00:00",
          "2022-01-01T00:00:00",
          "2022-02-01T00:00:00",
          "2022-03-01T00:00:00",
          "2022-04-01T00:00:00",
          "2022-05-01T00:00:00",
          "2022-06-01T00:00:00",
          "2022-07-01T00:00:00",
          "2022-08-01T00:00:00",
          "2022-09-01T00:00:00",
          "2022-10-01T00:00:00",
          "2022-11-01T00:00:00",
          "2022-12-01T00:00:00",
          "2023-01-01T00:00:00",
          "2023-02-01T00:00:00",
          "2023-03-01T00:00:00",
          "2023-04-01T00:00:00",
          "2023-05-01T00:00:00"
         ],
         "xaxis": "x",
         "y": [
          1.2388830985698074,
          1.9222437583531238,
          1.6145008574014492,
          1.6145008574014492,
          1.9222437583531238,
          3.1355923059767967,
          2.807050664598854,
          2.4150504405209374,
          2.4150504405209374,
          2.184857439616388,
          3.6720427076814586,
          4.55614235317046,
          1.2388830985698074,
          2.9777845971720094,
          2.62069979836766,
          2.4150504405209374,
          2.4150504405209374,
          1.6145008574014492,
          3.4200937471290596,
          2.184857439616388,
          3.1355923059767967,
          2.4150504405209374,
          2.4150504405209374,
          3.1355923059767967,
          1.6145008574014492,
          2.62069979836766,
          1.9222437583531238,
          1.6145008574014492,
          3.1355923059767967,
          2.807050664598854,
          1.6145008574014492,
          1.9222437583531238,
          1.6145008574014492,
          1.6145008574014492,
          2.62069979836766,
          2.62069979836766,
          1.9222437583531238,
          1.9222437583531238,
          2.62069979836766,
          2.184857439616388,
          2.807050664598854,
          1.9222437583531238,
          2.807050664598854,
          1.2388830985698074,
          1.6145008574014492,
          2.184857439616388,
          1.2388830985698074,
          2.807050664598854,
          0.7473382616699348,
          2.62069979836766,
          2.184857439616388,
          2.807050664598854,
          1.6145008574014492,
          1.9222437583531238,
          2.184857439616388,
          2.62069979836766,
          2.184857439616388,
          2.807050664598854,
          3.4200937471290596,
          3.4200937471290596,
          0,
          2.807050664598854,
          2.807050664598854,
          1.9222437583531238,
          1.9222437583531238,
          2.62069979836766,
          2.184857439616388,
          1.6145008574014492,
          1.6145008574014492,
          2.62069979836766,
          2.807050664598854,
          1.6145008574014492,
          1.6145008574014492,
          2.807050664598854,
          1.9222437583531238,
          2.184857439616388,
          2.4150504405209374,
          2.62069979836766,
          1.9222437583531238,
          3.282504391673095,
          2.4150504405209374,
          1.9222437583531238,
          1.9222437583531238,
          3.4200937471290596,
          1.6145008574014492,
          1.2388830985698074,
          3.1355923059767967,
          2.184857439616388,
          1.6145008574014492,
          0.7473382616699348,
          2.4150504405209374,
          2.62069979836766,
          2.184857439616388,
          1.6145008574014492,
          2.62069979836766,
          2.4150504405209374,
          1.2388830985698074,
          2.4150504405209374,
          2.184857439616388,
          2.4150504405209374,
          3.549605342369203,
          1.2388830985698074,
          2.184857439616388,
          2.9777845971720094,
          1.9222437583531238,
          1.6145008574014492,
          0.7473382616699348,
          2.62069979836766,
          0.7473382616699348,
          2.184857439616388,
          1.2388830985698074
         ],
         "yaxis": "y"
        },
        {
         "hovertemplate": "variable=prediction_label<br>Date=%{x}<br>value=%{y}<extra></extra>",
         "legendgroup": "prediction_label",
         "line": {
          "color": "#EF553B",
          "dash": "solid"
         },
         "marker": {
          "symbol": "circle"
         },
         "mode": "lines",
         "name": "prediction_label",
         "orientation": "v",
         "showlegend": true,
         "type": "scatter",
         "x": [
          "2014-03-01T00:00:00",
          "2014-04-01T00:00:00",
          "2014-05-01T00:00:00",
          "2014-06-01T00:00:00",
          "2014-07-01T00:00:00",
          "2014-08-01T00:00:00",
          "2014-09-01T00:00:00",
          "2014-10-01T00:00:00",
          "2014-11-01T00:00:00",
          "2014-12-01T00:00:00",
          "2015-01-01T00:00:00",
          "2015-02-01T00:00:00",
          "2015-03-01T00:00:00",
          "2015-04-01T00:00:00",
          "2015-05-01T00:00:00",
          "2015-06-01T00:00:00",
          "2015-07-01T00:00:00",
          "2015-08-01T00:00:00",
          "2015-09-01T00:00:00",
          "2015-10-01T00:00:00",
          "2015-11-01T00:00:00",
          "2015-12-01T00:00:00",
          "2016-01-01T00:00:00",
          "2016-02-01T00:00:00",
          "2016-03-01T00:00:00",
          "2016-04-01T00:00:00",
          "2016-05-01T00:00:00",
          "2016-06-01T00:00:00",
          "2016-07-01T00:00:00",
          "2016-08-01T00:00:00",
          "2016-09-01T00:00:00",
          "2016-10-01T00:00:00",
          "2016-11-01T00:00:00",
          "2016-12-01T00:00:00",
          "2017-01-01T00:00:00",
          "2017-02-01T00:00:00",
          "2017-03-01T00:00:00",
          "2017-04-01T00:00:00",
          "2017-05-01T00:00:00",
          "2017-06-01T00:00:00",
          "2017-07-01T00:00:00",
          "2017-08-01T00:00:00",
          "2017-09-01T00:00:00",
          "2017-10-01T00:00:00",
          "2017-11-01T00:00:00",
          "2017-12-01T00:00:00",
          "2018-01-01T00:00:00",
          "2018-02-01T00:00:00",
          "2018-03-01T00:00:00",
          "2018-04-01T00:00:00",
          "2018-05-01T00:00:00",
          "2018-06-01T00:00:00",
          "2018-07-01T00:00:00",
          "2018-08-01T00:00:00",
          "2018-09-01T00:00:00",
          "2018-10-01T00:00:00",
          "2018-11-01T00:00:00",
          "2018-12-01T00:00:00",
          "2019-01-01T00:00:00",
          "2019-02-01T00:00:00",
          "2019-03-01T00:00:00",
          "2019-04-01T00:00:00",
          "2019-05-01T00:00:00",
          "2019-06-01T00:00:00",
          "2019-07-01T00:00:00",
          "2019-08-01T00:00:00",
          "2019-09-01T00:00:00",
          "2019-10-01T00:00:00",
          "2019-11-01T00:00:00",
          "2019-12-01T00:00:00",
          "2020-01-01T00:00:00",
          "2020-02-01T00:00:00",
          "2020-03-01T00:00:00",
          "2020-04-01T00:00:00",
          "2020-05-01T00:00:00",
          "2020-06-01T00:00:00",
          "2020-07-01T00:00:00",
          "2020-08-01T00:00:00",
          "2020-09-01T00:00:00",
          "2020-10-01T00:00:00",
          "2020-11-01T00:00:00",
          "2020-12-01T00:00:00",
          "2021-01-01T00:00:00",
          "2021-02-01T00:00:00",
          "2021-03-01T00:00:00",
          "2021-04-01T00:00:00",
          "2021-05-01T00:00:00",
          "2021-06-01T00:00:00",
          "2021-07-01T00:00:00",
          "2021-08-01T00:00:00",
          "2021-09-01T00:00:00",
          "2021-10-01T00:00:00",
          "2021-11-01T00:00:00",
          "2021-12-01T00:00:00",
          "2022-01-01T00:00:00",
          "2022-02-01T00:00:00",
          "2022-03-01T00:00:00",
          "2022-04-01T00:00:00",
          "2022-05-01T00:00:00",
          "2022-06-01T00:00:00",
          "2022-07-01T00:00:00",
          "2022-08-01T00:00:00",
          "2022-09-01T00:00:00",
          "2022-10-01T00:00:00",
          "2022-11-01T00:00:00",
          "2022-12-01T00:00:00",
          "2023-01-01T00:00:00",
          "2023-02-01T00:00:00",
          "2023-03-01T00:00:00",
          "2023-04-01T00:00:00",
          "2023-05-01T00:00:00"
         ],
         "xaxis": "x",
         "y": [
          5.2648523487282,
          5.2648523487282,
          5.2648523487282,
          5.2648523487282,
          5.2648523487282,
          5.2648523487282,
          5.2648523487282,
          5.2648523487282,
          5.2648523487282,
          5.2648523487282,
          5.2648523487282,
          5.2648523487282,
          5.2648523487282,
          5.2648523487282,
          5.2648523487282,
          5.2648523487282,
          5.2648523487282,
          5.2648523487282,
          5.2648523487282,
          5.2648523487282,
          5.2648523487282,
          5.2648523487282,
          5.2648523487282,
          5.2648523487282,
          5.2648523487282,
          5.2648523487282,
          5.2648523487282,
          5.2648523487282,
          5.2648523487282,
          5.2648523487282,
          5.2648523487282,
          5.2648523487282,
          5.2648523487282,
          5.2648523487282,
          5.2648523487282,
          5.2648523487282,
          5.2648523487282,
          5.2648523487282,
          5.2648523487282,
          5.2648523487282,
          5.2648523487282,
          5.2648523487282,
          5.2648523487282,
          5.2648523487282,
          5.2648523487282,
          5.2648523487282,
          5.2648523487282,
          5.2648523487282,
          5.2648523487282,
          5.2648523487282,
          5.2648523487282,
          5.2648523487282,
          5.2648523487282,
          5.2648523487282,
          5.2648523487282,
          5.2648523487282,
          5.2648523487282,
          5.2648523487282,
          5.2648523487282,
          5.2648523487282,
          5.2648523487282,
          5.2648523487282,
          5.2648523487282,
          5.2648523487282,
          5.2648523487282,
          5.2648523487282,
          5.2648523487282,
          5.2648523487282,
          5.2648523487282,
          5.2648523487282,
          5.2648523487282,
          5.2648523487282,
          5.2648523487282,
          5.2648523487282,
          5.2648523487282,
          5.2648523487282,
          5.2648523487282,
          5.2648523487282,
          5.2648523487282,
          5.2648523487282,
          5.2648523487282,
          5.2648523487282,
          5.2648523487282,
          5.2648523487282,
          5.2648523487282,
          5.2648523487282,
          5.2648523487282,
          5.2648523487282,
          5.2648523487282,
          5.2648523487282,
          5.2648523487282,
          5.2648523487282,
          5.2648523487282,
          5.2648523487282,
          5.2648523487282,
          5.2648523487282,
          5.2648523487282,
          5.2648523487282,
          5.2648523487282,
          5.2648523487282,
          5.2648523487282,
          5.2648523487282,
          5.2648523487282,
          5.2648523487282,
          5.2648523487282,
          5.2648523487282,
          5.2648523487282,
          5.2648523487282,
          5.2648523487282,
          5.2648523487282,
          5.2648523487282
         ],
         "yaxis": "y"
        }
       ],
       "layout": {
        "legend": {
         "title": {
          "text": "variable"
         },
         "tracegroupgap": 0
        },
        "margin": {
         "t": 60
        },
        "shapes": [
         {
          "fillcolor": "grey",
          "line": {
           "width": 0
          },
          "opacity": 0.25,
          "type": "rect",
          "x0": "2022-07-01",
          "x1": "2023-06-01",
          "xref": "x",
          "y0": 0,
          "y1": 1,
          "yref": "y domain"
         }
        ],
        "template": {
         "data": {
          "bar": [
           {
            "error_x": {
             "color": "#f2f5fa"
            },
            "error_y": {
             "color": "#f2f5fa"
            },
            "marker": {
             "line": {
              "color": "rgb(17,17,17)",
              "width": 0.5
             },
             "pattern": {
              "fillmode": "overlay",
              "size": 10,
              "solidity": 0.2
             }
            },
            "type": "bar"
           }
          ],
          "barpolar": [
           {
            "marker": {
             "line": {
              "color": "rgb(17,17,17)",
              "width": 0.5
             },
             "pattern": {
              "fillmode": "overlay",
              "size": 10,
              "solidity": 0.2
             }
            },
            "type": "barpolar"
           }
          ],
          "carpet": [
           {
            "aaxis": {
             "endlinecolor": "#A2B1C6",
             "gridcolor": "#506784",
             "linecolor": "#506784",
             "minorgridcolor": "#506784",
             "startlinecolor": "#A2B1C6"
            },
            "baxis": {
             "endlinecolor": "#A2B1C6",
             "gridcolor": "#506784",
             "linecolor": "#506784",
             "minorgridcolor": "#506784",
             "startlinecolor": "#A2B1C6"
            },
            "type": "carpet"
           }
          ],
          "choropleth": [
           {
            "colorbar": {
             "outlinewidth": 0,
             "ticks": ""
            },
            "type": "choropleth"
           }
          ],
          "contour": [
           {
            "colorbar": {
             "outlinewidth": 0,
             "ticks": ""
            },
            "colorscale": [
             [
              0,
              "#0d0887"
             ],
             [
              0.1111111111111111,
              "#46039f"
             ],
             [
              0.2222222222222222,
              "#7201a8"
             ],
             [
              0.3333333333333333,
              "#9c179e"
             ],
             [
              0.4444444444444444,
              "#bd3786"
             ],
             [
              0.5555555555555556,
              "#d8576b"
             ],
             [
              0.6666666666666666,
              "#ed7953"
             ],
             [
              0.7777777777777778,
              "#fb9f3a"
             ],
             [
              0.8888888888888888,
              "#fdca26"
             ],
             [
              1,
              "#f0f921"
             ]
            ],
            "type": "contour"
           }
          ],
          "contourcarpet": [
           {
            "colorbar": {
             "outlinewidth": 0,
             "ticks": ""
            },
            "type": "contourcarpet"
           }
          ],
          "heatmap": [
           {
            "colorbar": {
             "outlinewidth": 0,
             "ticks": ""
            },
            "colorscale": [
             [
              0,
              "#0d0887"
             ],
             [
              0.1111111111111111,
              "#46039f"
             ],
             [
              0.2222222222222222,
              "#7201a8"
             ],
             [
              0.3333333333333333,
              "#9c179e"
             ],
             [
              0.4444444444444444,
              "#bd3786"
             ],
             [
              0.5555555555555556,
              "#d8576b"
             ],
             [
              0.6666666666666666,
              "#ed7953"
             ],
             [
              0.7777777777777778,
              "#fb9f3a"
             ],
             [
              0.8888888888888888,
              "#fdca26"
             ],
             [
              1,
              "#f0f921"
             ]
            ],
            "type": "heatmap"
           }
          ],
          "heatmapgl": [
           {
            "colorbar": {
             "outlinewidth": 0,
             "ticks": ""
            },
            "colorscale": [
             [
              0,
              "#0d0887"
             ],
             [
              0.1111111111111111,
              "#46039f"
             ],
             [
              0.2222222222222222,
              "#7201a8"
             ],
             [
              0.3333333333333333,
              "#9c179e"
             ],
             [
              0.4444444444444444,
              "#bd3786"
             ],
             [
              0.5555555555555556,
              "#d8576b"
             ],
             [
              0.6666666666666666,
              "#ed7953"
             ],
             [
              0.7777777777777778,
              "#fb9f3a"
             ],
             [
              0.8888888888888888,
              "#fdca26"
             ],
             [
              1,
              "#f0f921"
             ]
            ],
            "type": "heatmapgl"
           }
          ],
          "histogram": [
           {
            "marker": {
             "pattern": {
              "fillmode": "overlay",
              "size": 10,
              "solidity": 0.2
             }
            },
            "type": "histogram"
           }
          ],
          "histogram2d": [
           {
            "colorbar": {
             "outlinewidth": 0,
             "ticks": ""
            },
            "colorscale": [
             [
              0,
              "#0d0887"
             ],
             [
              0.1111111111111111,
              "#46039f"
             ],
             [
              0.2222222222222222,
              "#7201a8"
             ],
             [
              0.3333333333333333,
              "#9c179e"
             ],
             [
              0.4444444444444444,
              "#bd3786"
             ],
             [
              0.5555555555555556,
              "#d8576b"
             ],
             [
              0.6666666666666666,
              "#ed7953"
             ],
             [
              0.7777777777777778,
              "#fb9f3a"
             ],
             [
              0.8888888888888888,
              "#fdca26"
             ],
             [
              1,
              "#f0f921"
             ]
            ],
            "type": "histogram2d"
           }
          ],
          "histogram2dcontour": [
           {
            "colorbar": {
             "outlinewidth": 0,
             "ticks": ""
            },
            "colorscale": [
             [
              0,
              "#0d0887"
             ],
             [
              0.1111111111111111,
              "#46039f"
             ],
             [
              0.2222222222222222,
              "#7201a8"
             ],
             [
              0.3333333333333333,
              "#9c179e"
             ],
             [
              0.4444444444444444,
              "#bd3786"
             ],
             [
              0.5555555555555556,
              "#d8576b"
             ],
             [
              0.6666666666666666,
              "#ed7953"
             ],
             [
              0.7777777777777778,
              "#fb9f3a"
             ],
             [
              0.8888888888888888,
              "#fdca26"
             ],
             [
              1,
              "#f0f921"
             ]
            ],
            "type": "histogram2dcontour"
           }
          ],
          "mesh3d": [
           {
            "colorbar": {
             "outlinewidth": 0,
             "ticks": ""
            },
            "type": "mesh3d"
           }
          ],
          "parcoords": [
           {
            "line": {
             "colorbar": {
              "outlinewidth": 0,
              "ticks": ""
             }
            },
            "type": "parcoords"
           }
          ],
          "pie": [
           {
            "automargin": true,
            "type": "pie"
           }
          ],
          "scatter": [
           {
            "marker": {
             "line": {
              "color": "#283442"
             }
            },
            "type": "scatter"
           }
          ],
          "scatter3d": [
           {
            "line": {
             "colorbar": {
              "outlinewidth": 0,
              "ticks": ""
             }
            },
            "marker": {
             "colorbar": {
              "outlinewidth": 0,
              "ticks": ""
             }
            },
            "type": "scatter3d"
           }
          ],
          "scattercarpet": [
           {
            "marker": {
             "colorbar": {
              "outlinewidth": 0,
              "ticks": ""
             }
            },
            "type": "scattercarpet"
           }
          ],
          "scattergeo": [
           {
            "marker": {
             "colorbar": {
              "outlinewidth": 0,
              "ticks": ""
             }
            },
            "type": "scattergeo"
           }
          ],
          "scattergl": [
           {
            "marker": {
             "line": {
              "color": "#283442"
             }
            },
            "type": "scattergl"
           }
          ],
          "scattermapbox": [
           {
            "marker": {
             "colorbar": {
              "outlinewidth": 0,
              "ticks": ""
             }
            },
            "type": "scattermapbox"
           }
          ],
          "scatterpolar": [
           {
            "marker": {
             "colorbar": {
              "outlinewidth": 0,
              "ticks": ""
             }
            },
            "type": "scatterpolar"
           }
          ],
          "scatterpolargl": [
           {
            "marker": {
             "colorbar": {
              "outlinewidth": 0,
              "ticks": ""
             }
            },
            "type": "scatterpolargl"
           }
          ],
          "scatterternary": [
           {
            "marker": {
             "colorbar": {
              "outlinewidth": 0,
              "ticks": ""
             }
            },
            "type": "scatterternary"
           }
          ],
          "surface": [
           {
            "colorbar": {
             "outlinewidth": 0,
             "ticks": ""
            },
            "colorscale": [
             [
              0,
              "#0d0887"
             ],
             [
              0.1111111111111111,
              "#46039f"
             ],
             [
              0.2222222222222222,
              "#7201a8"
             ],
             [
              0.3333333333333333,
              "#9c179e"
             ],
             [
              0.4444444444444444,
              "#bd3786"
             ],
             [
              0.5555555555555556,
              "#d8576b"
             ],
             [
              0.6666666666666666,
              "#ed7953"
             ],
             [
              0.7777777777777778,
              "#fb9f3a"
             ],
             [
              0.8888888888888888,
              "#fdca26"
             ],
             [
              1,
              "#f0f921"
             ]
            ],
            "type": "surface"
           }
          ],
          "table": [
           {
            "cells": {
             "fill": {
              "color": "#506784"
             },
             "line": {
              "color": "rgb(17,17,17)"
             }
            },
            "header": {
             "fill": {
              "color": "#2a3f5f"
             },
             "line": {
              "color": "rgb(17,17,17)"
             }
            },
            "type": "table"
           }
          ]
         },
         "layout": {
          "annotationdefaults": {
           "arrowcolor": "#f2f5fa",
           "arrowhead": 0,
           "arrowwidth": 1
          },
          "autotypenumbers": "strict",
          "coloraxis": {
           "colorbar": {
            "outlinewidth": 0,
            "ticks": ""
           }
          },
          "colorscale": {
           "diverging": [
            [
             0,
             "#8e0152"
            ],
            [
             0.1,
             "#c51b7d"
            ],
            [
             0.2,
             "#de77ae"
            ],
            [
             0.3,
             "#f1b6da"
            ],
            [
             0.4,
             "#fde0ef"
            ],
            [
             0.5,
             "#f7f7f7"
            ],
            [
             0.6,
             "#e6f5d0"
            ],
            [
             0.7,
             "#b8e186"
            ],
            [
             0.8,
             "#7fbc41"
            ],
            [
             0.9,
             "#4d9221"
            ],
            [
             1,
             "#276419"
            ]
           ],
           "sequential": [
            [
             0,
             "#0d0887"
            ],
            [
             0.1111111111111111,
             "#46039f"
            ],
            [
             0.2222222222222222,
             "#7201a8"
            ],
            [
             0.3333333333333333,
             "#9c179e"
            ],
            [
             0.4444444444444444,
             "#bd3786"
            ],
            [
             0.5555555555555556,
             "#d8576b"
            ],
            [
             0.6666666666666666,
             "#ed7953"
            ],
            [
             0.7777777777777778,
             "#fb9f3a"
            ],
            [
             0.8888888888888888,
             "#fdca26"
            ],
            [
             1,
             "#f0f921"
            ]
           ],
           "sequentialminus": [
            [
             0,
             "#0d0887"
            ],
            [
             0.1111111111111111,
             "#46039f"
            ],
            [
             0.2222222222222222,
             "#7201a8"
            ],
            [
             0.3333333333333333,
             "#9c179e"
            ],
            [
             0.4444444444444444,
             "#bd3786"
            ],
            [
             0.5555555555555556,
             "#d8576b"
            ],
            [
             0.6666666666666666,
             "#ed7953"
            ],
            [
             0.7777777777777778,
             "#fb9f3a"
            ],
            [
             0.8888888888888888,
             "#fdca26"
            ],
            [
             1,
             "#f0f921"
            ]
           ]
          },
          "colorway": [
           "#636efa",
           "#EF553B",
           "#00cc96",
           "#ab63fa",
           "#FFA15A",
           "#19d3f3",
           "#FF6692",
           "#B6E880",
           "#FF97FF",
           "#FECB52"
          ],
          "font": {
           "color": "#f2f5fa"
          },
          "geo": {
           "bgcolor": "rgb(17,17,17)",
           "lakecolor": "rgb(17,17,17)",
           "landcolor": "rgb(17,17,17)",
           "showlakes": true,
           "showland": true,
           "subunitcolor": "#506784"
          },
          "hoverlabel": {
           "align": "left"
          },
          "hovermode": "closest",
          "mapbox": {
           "style": "dark"
          },
          "paper_bgcolor": "rgb(17,17,17)",
          "plot_bgcolor": "rgb(17,17,17)",
          "polar": {
           "angularaxis": {
            "gridcolor": "#506784",
            "linecolor": "#506784",
            "ticks": ""
           },
           "bgcolor": "rgb(17,17,17)",
           "radialaxis": {
            "gridcolor": "#506784",
            "linecolor": "#506784",
            "ticks": ""
           }
          },
          "scene": {
           "xaxis": {
            "backgroundcolor": "rgb(17,17,17)",
            "gridcolor": "#506784",
            "gridwidth": 2,
            "linecolor": "#506784",
            "showbackground": true,
            "ticks": "",
            "zerolinecolor": "#C8D4E3"
           },
           "yaxis": {
            "backgroundcolor": "rgb(17,17,17)",
            "gridcolor": "#506784",
            "gridwidth": 2,
            "linecolor": "#506784",
            "showbackground": true,
            "ticks": "",
            "zerolinecolor": "#C8D4E3"
           },
           "zaxis": {
            "backgroundcolor": "rgb(17,17,17)",
            "gridcolor": "#506784",
            "gridwidth": 2,
            "linecolor": "#506784",
            "showbackground": true,
            "ticks": "",
            "zerolinecolor": "#C8D4E3"
           }
          },
          "shapedefaults": {
           "line": {
            "color": "#f2f5fa"
           }
          },
          "sliderdefaults": {
           "bgcolor": "#C8D4E3",
           "bordercolor": "rgb(17,17,17)",
           "borderwidth": 1,
           "tickwidth": 0
          },
          "ternary": {
           "aaxis": {
            "gridcolor": "#506784",
            "linecolor": "#506784",
            "ticks": ""
           },
           "baxis": {
            "gridcolor": "#506784",
            "linecolor": "#506784",
            "ticks": ""
           },
           "bgcolor": "rgb(17,17,17)",
           "caxis": {
            "gridcolor": "#506784",
            "linecolor": "#506784",
            "ticks": ""
           }
          },
          "title": {
           "x": 0.05
          },
          "updatemenudefaults": {
           "bgcolor": "#506784",
           "borderwidth": 0
          },
          "xaxis": {
           "automargin": true,
           "gridcolor": "#283442",
           "linecolor": "#506784",
           "ticks": "",
           "title": {
            "standoff": 15
           },
           "zerolinecolor": "#283442",
           "zerolinewidth": 2
          },
          "yaxis": {
           "automargin": true,
           "gridcolor": "#283442",
           "linecolor": "#506784",
           "ticks": "",
           "title": {
            "standoff": 15
           },
           "zerolinecolor": "#283442",
           "zerolinewidth": 2
          }
         }
        },
        "xaxis": {
         "anchor": "y",
         "domain": [
          0,
          1
         ],
         "title": {
          "text": "Date"
         }
        },
        "yaxis": {
         "anchor": "x",
         "domain": [
          0,
          1
         ],
         "title": {
          "text": "value"
         }
        }
       }
      }
     },
     "metadata": {},
     "output_type": "display_data"
    }
   ],
   "source": [
    "# generate predictions on the original dataset**\n",
    "predictions = predict_model(best, data=sell_data)\n",
    "\n",
    "# add a date column in the dataset**\n",
    "predictions['Date'] = pd.date_range(start='2014-03-01', end = '2023-05-01', freq = 'MS')\n",
    "\n",
    "# line plot**\n",
    "fig = px.line(predictions, x='Date', y=[\"A2\", \"prediction_label\"], template = 'plotly_dark')\n",
    "\n",
    "# add a vertical rectange for test-set separation**\n",
    "fig.add_vrect(x0=\"2022-07-01\", x1=\"2023-06-01\", fillcolor=\"grey\", opacity=0.25, line_width=0)\n",
    "\n",
    "fig.show()"
   ]
  },
  {
   "cell_type": "code",
   "execution_count": 13,
   "id": "29d437aa",
   "metadata": {},
   "outputs": [
    {
     "data": {
      "text/html": [
       "<div>\n",
       "<style scoped>\n",
       "    .dataframe tbody tr th:only-of-type {\n",
       "        vertical-align: middle;\n",
       "    }\n",
       "\n",
       "    .dataframe tbody tr th {\n",
       "        vertical-align: top;\n",
       "    }\n",
       "\n",
       "    .dataframe thead th {\n",
       "        text-align: right;\n",
       "    }\n",
       "</style>\n",
       "<table border=\"1\" class=\"dataframe\">\n",
       "  <thead>\n",
       "    <tr style=\"text-align: right;\">\n",
       "      <th></th>\n",
       "      <th>Series</th>\n",
       "      <th>Year</th>\n",
       "      <th>Month</th>\n",
       "      <th>A2</th>\n",
       "      <th>prediction_label</th>\n",
       "      <th>Date</th>\n",
       "    </tr>\n",
       "  </thead>\n",
       "  <tbody>\n",
       "    <tr>\n",
       "      <th>0</th>\n",
       "      <td>1</td>\n",
       "      <td>2014</td>\n",
       "      <td>3</td>\n",
       "      <td>1.238883</td>\n",
       "      <td>5.264852</td>\n",
       "      <td>2014-03-01</td>\n",
       "    </tr>\n",
       "    <tr>\n",
       "      <th>1</th>\n",
       "      <td>2</td>\n",
       "      <td>2014</td>\n",
       "      <td>4</td>\n",
       "      <td>1.922244</td>\n",
       "      <td>5.264852</td>\n",
       "      <td>2014-04-01</td>\n",
       "    </tr>\n",
       "    <tr>\n",
       "      <th>2</th>\n",
       "      <td>3</td>\n",
       "      <td>2014</td>\n",
       "      <td>5</td>\n",
       "      <td>1.614501</td>\n",
       "      <td>5.264852</td>\n",
       "      <td>2014-05-01</td>\n",
       "    </tr>\n",
       "    <tr>\n",
       "      <th>3</th>\n",
       "      <td>4</td>\n",
       "      <td>2014</td>\n",
       "      <td>6</td>\n",
       "      <td>1.614501</td>\n",
       "      <td>5.264852</td>\n",
       "      <td>2014-06-01</td>\n",
       "    </tr>\n",
       "    <tr>\n",
       "      <th>4</th>\n",
       "      <td>5</td>\n",
       "      <td>2014</td>\n",
       "      <td>7</td>\n",
       "      <td>1.922244</td>\n",
       "      <td>5.264852</td>\n",
       "      <td>2014-07-01</td>\n",
       "    </tr>\n",
       "    <tr>\n",
       "      <th>...</th>\n",
       "      <td>...</td>\n",
       "      <td>...</td>\n",
       "      <td>...</td>\n",
       "      <td>...</td>\n",
       "      <td>...</td>\n",
       "      <td>...</td>\n",
       "    </tr>\n",
       "    <tr>\n",
       "      <th>106</th>\n",
       "      <td>107</td>\n",
       "      <td>2023</td>\n",
       "      <td>1</td>\n",
       "      <td>0.747338</td>\n",
       "      <td>5.264852</td>\n",
       "      <td>2023-01-01</td>\n",
       "    </tr>\n",
       "    <tr>\n",
       "      <th>107</th>\n",
       "      <td>108</td>\n",
       "      <td>2023</td>\n",
       "      <td>2</td>\n",
       "      <td>2.620700</td>\n",
       "      <td>5.264852</td>\n",
       "      <td>2023-02-01</td>\n",
       "    </tr>\n",
       "    <tr>\n",
       "      <th>108</th>\n",
       "      <td>109</td>\n",
       "      <td>2023</td>\n",
       "      <td>3</td>\n",
       "      <td>0.747338</td>\n",
       "      <td>5.264852</td>\n",
       "      <td>2023-03-01</td>\n",
       "    </tr>\n",
       "    <tr>\n",
       "      <th>109</th>\n",
       "      <td>110</td>\n",
       "      <td>2023</td>\n",
       "      <td>4</td>\n",
       "      <td>2.184857</td>\n",
       "      <td>5.264852</td>\n",
       "      <td>2023-04-01</td>\n",
       "    </tr>\n",
       "    <tr>\n",
       "      <th>110</th>\n",
       "      <td>111</td>\n",
       "      <td>2023</td>\n",
       "      <td>5</td>\n",
       "      <td>1.238883</td>\n",
       "      <td>5.264852</td>\n",
       "      <td>2023-05-01</td>\n",
       "    </tr>\n",
       "  </tbody>\n",
       "</table>\n",
       "<p>111 rows × 6 columns</p>\n",
       "</div>"
      ],
      "text/plain": [
       "     Series  Year  Month        A2  prediction_label       Date\n",
       "0         1  2014      3  1.238883          5.264852 2014-03-01\n",
       "1         2  2014      4  1.922244          5.264852 2014-04-01\n",
       "2         3  2014      5  1.614501          5.264852 2014-05-01\n",
       "3         4  2014      6  1.614501          5.264852 2014-06-01\n",
       "4         5  2014      7  1.922244          5.264852 2014-07-01\n",
       "..      ...   ...    ...       ...               ...        ...\n",
       "106     107  2023      1  0.747338          5.264852 2023-01-01\n",
       "107     108  2023      2  2.620700          5.264852 2023-02-01\n",
       "108     109  2023      3  0.747338          5.264852 2023-03-01\n",
       "109     110  2023      4  2.184857          5.264852 2023-04-01\n",
       "110     111  2023      5  1.238883          5.264852 2023-05-01\n",
       "\n",
       "[111 rows x 6 columns]"
      ]
     },
     "execution_count": 13,
     "metadata": {},
     "output_type": "execute_result"
    }
   ],
   "source": [
    "predictions"
   ]
  },
  {
   "cell_type": "code",
   "execution_count": 14,
   "id": "86b21804",
   "metadata": {},
   "outputs": [],
   "source": [
    "final_best = finalize_model(best)"
   ]
  },
  {
   "cell_type": "code",
   "execution_count": 15,
   "id": "719a7650",
   "metadata": {},
   "outputs": [
    {
     "data": {
      "text/html": [
       "<div>\n",
       "<style scoped>\n",
       "    .dataframe tbody tr th:only-of-type {\n",
       "        vertical-align: middle;\n",
       "    }\n",
       "\n",
       "    .dataframe tbody tr th {\n",
       "        vertical-align: top;\n",
       "    }\n",
       "\n",
       "    .dataframe thead th {\n",
       "        text-align: right;\n",
       "    }\n",
       "</style>\n",
       "<table border=\"1\" class=\"dataframe\">\n",
       "  <thead>\n",
       "    <tr style=\"text-align: right;\">\n",
       "      <th></th>\n",
       "      <th>Month</th>\n",
       "      <th>Year</th>\n",
       "      <th>Series</th>\n",
       "    </tr>\n",
       "  </thead>\n",
       "  <tbody>\n",
       "    <tr>\n",
       "      <th>0</th>\n",
       "      <td>6</td>\n",
       "      <td>2023</td>\n",
       "      <td>112</td>\n",
       "    </tr>\n",
       "    <tr>\n",
       "      <th>1</th>\n",
       "      <td>7</td>\n",
       "      <td>2023</td>\n",
       "      <td>113</td>\n",
       "    </tr>\n",
       "    <tr>\n",
       "      <th>2</th>\n",
       "      <td>8</td>\n",
       "      <td>2023</td>\n",
       "      <td>114</td>\n",
       "    </tr>\n",
       "    <tr>\n",
       "      <th>3</th>\n",
       "      <td>9</td>\n",
       "      <td>2023</td>\n",
       "      <td>115</td>\n",
       "    </tr>\n",
       "    <tr>\n",
       "      <th>4</th>\n",
       "      <td>10</td>\n",
       "      <td>2023</td>\n",
       "      <td>116</td>\n",
       "    </tr>\n",
       "  </tbody>\n",
       "</table>\n",
       "</div>"
      ],
      "text/plain": [
       "   Month  Year  Series\n",
       "0      6  2023     112\n",
       "1      7  2023     113\n",
       "2      8  2023     114\n",
       "3      9  2023     115\n",
       "4     10  2023     116"
      ]
     },
     "execution_count": 15,
     "metadata": {},
     "output_type": "execute_result"
    }
   ],
   "source": [
    "future_dates = pd.date_range(start = '2023-06-01', end = '2024-05-01', freq = 'MS')\n",
    "\n",
    "future_df = pd.DataFrame()\n",
    "\n",
    "future_df['Month'] = [i.month for i in future_dates]\n",
    "future_df['Year'] = [i.year for i in future_dates]    \n",
    "future_df['Series'] = np.arange(112,(112+len(future_dates)))\n",
    "\n",
    "future_df.head()"
   ]
  },
  {
   "cell_type": "code",
   "execution_count": 16,
   "id": "4d248758",
   "metadata": {},
   "outputs": [
    {
     "data": {
      "text/html": [],
      "text/plain": [
       "<IPython.core.display.HTML object>"
      ]
     },
     "metadata": {},
     "output_type": "display_data"
    },
    {
     "data": {
      "text/html": [
       "<div>\n",
       "<style scoped>\n",
       "    .dataframe tbody tr th:only-of-type {\n",
       "        vertical-align: middle;\n",
       "    }\n",
       "\n",
       "    .dataframe tbody tr th {\n",
       "        vertical-align: top;\n",
       "    }\n",
       "\n",
       "    .dataframe thead th {\n",
       "        text-align: right;\n",
       "    }\n",
       "</style>\n",
       "<table border=\"1\" class=\"dataframe\">\n",
       "  <thead>\n",
       "    <tr style=\"text-align: right;\">\n",
       "      <th></th>\n",
       "      <th>Month</th>\n",
       "      <th>Year</th>\n",
       "      <th>Series</th>\n",
       "      <th>prediction_label</th>\n",
       "    </tr>\n",
       "  </thead>\n",
       "  <tbody>\n",
       "    <tr>\n",
       "      <th>0</th>\n",
       "      <td>6</td>\n",
       "      <td>2023</td>\n",
       "      <td>112</td>\n",
       "      <td>5.12933</td>\n",
       "    </tr>\n",
       "    <tr>\n",
       "      <th>1</th>\n",
       "      <td>7</td>\n",
       "      <td>2023</td>\n",
       "      <td>113</td>\n",
       "      <td>5.12933</td>\n",
       "    </tr>\n",
       "    <tr>\n",
       "      <th>2</th>\n",
       "      <td>8</td>\n",
       "      <td>2023</td>\n",
       "      <td>114</td>\n",
       "      <td>5.12933</td>\n",
       "    </tr>\n",
       "    <tr>\n",
       "      <th>3</th>\n",
       "      <td>9</td>\n",
       "      <td>2023</td>\n",
       "      <td>115</td>\n",
       "      <td>5.12933</td>\n",
       "    </tr>\n",
       "    <tr>\n",
       "      <th>4</th>\n",
       "      <td>10</td>\n",
       "      <td>2023</td>\n",
       "      <td>116</td>\n",
       "      <td>5.12933</td>\n",
       "    </tr>\n",
       "  </tbody>\n",
       "</table>\n",
       "</div>"
      ],
      "text/plain": [
       "   Month  Year  Series  prediction_label\n",
       "0      6  2023     112           5.12933\n",
       "1      7  2023     113           5.12933\n",
       "2      8  2023     114           5.12933\n",
       "3      9  2023     115           5.12933\n",
       "4     10  2023     116           5.12933"
      ]
     },
     "execution_count": 16,
     "metadata": {},
     "output_type": "execute_result"
    }
   ],
   "source": [
    "predictions_future = predict_model(final_best, data=future_df)\n",
    "predictions_future.head()"
   ]
  },
  {
   "cell_type": "code",
   "execution_count": 17,
   "id": "aa35da1f",
   "metadata": {},
   "outputs": [
    {
     "data": {
      "application/vnd.plotly.v1+json": {
       "config": {
        "plotlyServerURL": "https://plot.ly"
       },
       "data": [
        {
         "hovertemplate": "variable=A2<br>index=%{x}<br>value=%{y}<extra></extra>",
         "legendgroup": "A2",
         "line": {
          "color": "#636efa",
          "dash": "solid"
         },
         "marker": {
          "symbol": "circle"
         },
         "mode": "lines",
         "name": "A2",
         "orientation": "v",
         "showlegend": true,
         "type": "scatter",
         "x": [
          "2014-03-01T00:00:00",
          "2014-04-01T00:00:00",
          "2014-05-01T00:00:00",
          "2014-06-01T00:00:00",
          "2014-07-01T00:00:00",
          "2014-08-01T00:00:00",
          "2014-09-01T00:00:00",
          "2014-10-01T00:00:00",
          "2014-11-01T00:00:00",
          "2014-12-01T00:00:00",
          "2015-01-01T00:00:00",
          "2015-02-01T00:00:00",
          "2015-03-01T00:00:00",
          "2015-04-01T00:00:00",
          "2015-05-01T00:00:00",
          "2015-06-01T00:00:00",
          "2015-07-01T00:00:00",
          "2015-08-01T00:00:00",
          "2015-09-01T00:00:00",
          "2015-10-01T00:00:00",
          "2015-11-01T00:00:00",
          "2015-12-01T00:00:00",
          "2016-01-01T00:00:00",
          "2016-02-01T00:00:00",
          "2016-03-01T00:00:00",
          "2016-04-01T00:00:00",
          "2016-05-01T00:00:00",
          "2016-06-01T00:00:00",
          "2016-07-01T00:00:00",
          "2016-08-01T00:00:00",
          "2016-09-01T00:00:00",
          "2016-10-01T00:00:00",
          "2016-11-01T00:00:00",
          "2016-12-01T00:00:00",
          "2017-01-01T00:00:00",
          "2017-02-01T00:00:00",
          "2017-03-01T00:00:00",
          "2017-04-01T00:00:00",
          "2017-05-01T00:00:00",
          "2017-06-01T00:00:00",
          "2017-07-01T00:00:00",
          "2017-08-01T00:00:00",
          "2017-09-01T00:00:00",
          "2017-10-01T00:00:00",
          "2017-11-01T00:00:00",
          "2017-12-01T00:00:00",
          "2018-01-01T00:00:00",
          "2018-02-01T00:00:00",
          "2018-03-01T00:00:00",
          "2018-04-01T00:00:00",
          "2018-05-01T00:00:00",
          "2018-06-01T00:00:00",
          "2018-07-01T00:00:00",
          "2018-08-01T00:00:00",
          "2018-09-01T00:00:00",
          "2018-10-01T00:00:00",
          "2018-11-01T00:00:00",
          "2018-12-01T00:00:00",
          "2019-01-01T00:00:00",
          "2019-02-01T00:00:00",
          "2019-03-01T00:00:00",
          "2019-04-01T00:00:00",
          "2019-05-01T00:00:00",
          "2019-06-01T00:00:00",
          "2019-07-01T00:00:00",
          "2019-08-01T00:00:00",
          "2019-09-01T00:00:00",
          "2019-10-01T00:00:00",
          "2019-11-01T00:00:00",
          "2019-12-01T00:00:00",
          "2020-01-01T00:00:00",
          "2020-02-01T00:00:00",
          "2020-03-01T00:00:00",
          "2020-04-01T00:00:00",
          "2020-05-01T00:00:00",
          "2020-06-01T00:00:00",
          "2020-07-01T00:00:00",
          "2020-08-01T00:00:00",
          "2020-09-01T00:00:00",
          "2020-10-01T00:00:00",
          "2020-11-01T00:00:00",
          "2020-12-01T00:00:00",
          "2021-01-01T00:00:00",
          "2021-02-01T00:00:00",
          "2021-03-01T00:00:00",
          "2021-04-01T00:00:00",
          "2021-05-01T00:00:00",
          "2021-06-01T00:00:00",
          "2021-07-01T00:00:00",
          "2021-08-01T00:00:00",
          "2021-09-01T00:00:00",
          "2021-10-01T00:00:00",
          "2021-11-01T00:00:00",
          "2021-12-01T00:00:00",
          "2022-01-01T00:00:00",
          "2022-02-01T00:00:00",
          "2022-03-01T00:00:00",
          "2022-04-01T00:00:00",
          "2022-05-01T00:00:00",
          "2022-06-01T00:00:00",
          "2022-07-01T00:00:00",
          "2022-08-01T00:00:00",
          "2022-09-01T00:00:00",
          "2022-10-01T00:00:00",
          "2022-11-01T00:00:00",
          "2022-12-01T00:00:00",
          "2023-01-01T00:00:00",
          "2023-02-01T00:00:00",
          "2023-03-01T00:00:00",
          "2023-04-01T00:00:00",
          "2023-05-01T00:00:00",
          "2023-06-01T00:00:00",
          "2023-07-01T00:00:00",
          "2023-08-01T00:00:00",
          "2023-09-01T00:00:00",
          "2023-10-01T00:00:00",
          "2023-11-01T00:00:00",
          "2023-12-01T00:00:00",
          "2024-01-01T00:00:00",
          "2024-02-01T00:00:00",
          "2024-03-01T00:00:00",
          "2024-04-01T00:00:00",
          "2024-05-01T00:00:00"
         ],
         "xaxis": "x",
         "y": [
          2,
          4,
          3,
          3,
          4,
          10,
          8,
          6,
          6,
          5,
          14,
          23,
          2,
          9,
          7,
          6,
          6,
          3,
          12,
          5,
          10,
          6,
          6,
          10,
          3,
          7,
          4,
          3,
          10,
          8,
          3,
          4,
          3,
          3,
          7,
          7,
          4,
          4,
          7,
          5,
          8,
          4,
          8,
          2,
          3,
          5,
          2,
          8,
          1,
          7,
          5,
          8,
          3,
          4,
          5,
          7,
          5,
          8,
          12,
          12,
          0,
          8,
          8,
          4,
          4,
          7,
          5,
          3,
          3,
          7,
          8,
          3,
          3,
          8,
          4,
          5,
          6,
          7,
          4,
          11,
          6,
          4,
          4,
          12,
          3,
          2,
          10,
          5,
          3,
          1,
          6,
          7,
          5,
          3,
          7,
          6,
          2,
          6,
          5,
          6,
          13,
          2,
          5,
          9,
          4,
          3,
          1,
          7,
          1,
          5,
          2,
          null,
          null,
          null,
          null,
          null,
          null,
          null,
          null,
          null,
          null,
          null,
          null
         ],
         "yaxis": "y"
        },
        {
         "hovertemplate": "variable=prediction_label<br>index=%{x}<br>value=%{y}<extra></extra>",
         "legendgroup": "prediction_label",
         "line": {
          "color": "#EF553B",
          "dash": "solid"
         },
         "marker": {
          "symbol": "circle"
         },
         "mode": "lines",
         "name": "prediction_label",
         "orientation": "v",
         "showlegend": true,
         "type": "scatter",
         "x": [
          "2014-03-01T00:00:00",
          "2014-04-01T00:00:00",
          "2014-05-01T00:00:00",
          "2014-06-01T00:00:00",
          "2014-07-01T00:00:00",
          "2014-08-01T00:00:00",
          "2014-09-01T00:00:00",
          "2014-10-01T00:00:00",
          "2014-11-01T00:00:00",
          "2014-12-01T00:00:00",
          "2015-01-01T00:00:00",
          "2015-02-01T00:00:00",
          "2015-03-01T00:00:00",
          "2015-04-01T00:00:00",
          "2015-05-01T00:00:00",
          "2015-06-01T00:00:00",
          "2015-07-01T00:00:00",
          "2015-08-01T00:00:00",
          "2015-09-01T00:00:00",
          "2015-10-01T00:00:00",
          "2015-11-01T00:00:00",
          "2015-12-01T00:00:00",
          "2016-01-01T00:00:00",
          "2016-02-01T00:00:00",
          "2016-03-01T00:00:00",
          "2016-04-01T00:00:00",
          "2016-05-01T00:00:00",
          "2016-06-01T00:00:00",
          "2016-07-01T00:00:00",
          "2016-08-01T00:00:00",
          "2016-09-01T00:00:00",
          "2016-10-01T00:00:00",
          "2016-11-01T00:00:00",
          "2016-12-01T00:00:00",
          "2017-01-01T00:00:00",
          "2017-02-01T00:00:00",
          "2017-03-01T00:00:00",
          "2017-04-01T00:00:00",
          "2017-05-01T00:00:00",
          "2017-06-01T00:00:00",
          "2017-07-01T00:00:00",
          "2017-08-01T00:00:00",
          "2017-09-01T00:00:00",
          "2017-10-01T00:00:00",
          "2017-11-01T00:00:00",
          "2017-12-01T00:00:00",
          "2018-01-01T00:00:00",
          "2018-02-01T00:00:00",
          "2018-03-01T00:00:00",
          "2018-04-01T00:00:00",
          "2018-05-01T00:00:00",
          "2018-06-01T00:00:00",
          "2018-07-01T00:00:00",
          "2018-08-01T00:00:00",
          "2018-09-01T00:00:00",
          "2018-10-01T00:00:00",
          "2018-11-01T00:00:00",
          "2018-12-01T00:00:00",
          "2019-01-01T00:00:00",
          "2019-02-01T00:00:00",
          "2019-03-01T00:00:00",
          "2019-04-01T00:00:00",
          "2019-05-01T00:00:00",
          "2019-06-01T00:00:00",
          "2019-07-01T00:00:00",
          "2019-08-01T00:00:00",
          "2019-09-01T00:00:00",
          "2019-10-01T00:00:00",
          "2019-11-01T00:00:00",
          "2019-12-01T00:00:00",
          "2020-01-01T00:00:00",
          "2020-02-01T00:00:00",
          "2020-03-01T00:00:00",
          "2020-04-01T00:00:00",
          "2020-05-01T00:00:00",
          "2020-06-01T00:00:00",
          "2020-07-01T00:00:00",
          "2020-08-01T00:00:00",
          "2020-09-01T00:00:00",
          "2020-10-01T00:00:00",
          "2020-11-01T00:00:00",
          "2020-12-01T00:00:00",
          "2021-01-01T00:00:00",
          "2021-02-01T00:00:00",
          "2021-03-01T00:00:00",
          "2021-04-01T00:00:00",
          "2021-05-01T00:00:00",
          "2021-06-01T00:00:00",
          "2021-07-01T00:00:00",
          "2021-08-01T00:00:00",
          "2021-09-01T00:00:00",
          "2021-10-01T00:00:00",
          "2021-11-01T00:00:00",
          "2021-12-01T00:00:00",
          "2022-01-01T00:00:00",
          "2022-02-01T00:00:00",
          "2022-03-01T00:00:00",
          "2022-04-01T00:00:00",
          "2022-05-01T00:00:00",
          "2022-06-01T00:00:00",
          "2022-07-01T00:00:00",
          "2022-08-01T00:00:00",
          "2022-09-01T00:00:00",
          "2022-10-01T00:00:00",
          "2022-11-01T00:00:00",
          "2022-12-01T00:00:00",
          "2023-01-01T00:00:00",
          "2023-02-01T00:00:00",
          "2023-03-01T00:00:00",
          "2023-04-01T00:00:00",
          "2023-05-01T00:00:00",
          "2023-06-01T00:00:00",
          "2023-07-01T00:00:00",
          "2023-08-01T00:00:00",
          "2023-09-01T00:00:00",
          "2023-10-01T00:00:00",
          "2023-11-01T00:00:00",
          "2023-12-01T00:00:00",
          "2024-01-01T00:00:00",
          "2024-02-01T00:00:00",
          "2024-03-01T00:00:00",
          "2024-04-01T00:00:00",
          "2024-05-01T00:00:00"
         ],
         "xaxis": "x",
         "y": [
          null,
          null,
          null,
          null,
          null,
          null,
          null,
          null,
          null,
          null,
          null,
          null,
          null,
          null,
          null,
          null,
          null,
          null,
          null,
          null,
          null,
          null,
          null,
          null,
          null,
          null,
          null,
          null,
          null,
          null,
          null,
          null,
          null,
          null,
          null,
          null,
          null,
          null,
          null,
          null,
          null,
          null,
          null,
          null,
          null,
          null,
          null,
          null,
          null,
          null,
          null,
          null,
          null,
          null,
          null,
          null,
          null,
          null,
          null,
          null,
          null,
          null,
          null,
          null,
          null,
          null,
          null,
          null,
          null,
          null,
          null,
          null,
          null,
          null,
          null,
          null,
          null,
          null,
          null,
          null,
          null,
          null,
          null,
          null,
          null,
          null,
          null,
          null,
          null,
          null,
          null,
          null,
          null,
          null,
          null,
          null,
          null,
          null,
          null,
          null,
          null,
          null,
          null,
          null,
          null,
          null,
          null,
          null,
          null,
          null,
          null,
          5.129329798853415,
          5.129329798853415,
          5.129329798853415,
          5.129329798853415,
          5.129329798853415,
          5.129329798853415,
          5.129329798853415,
          5.129329798853415,
          5.129329798853415,
          5.129329798853415,
          5.129329798853415,
          5.129329798853415
         ],
         "yaxis": "y"
        }
       ],
       "layout": {
        "legend": {
         "title": {
          "text": "variable"
         },
         "tracegroupgap": 0
        },
        "margin": {
         "t": 60
        },
        "template": {
         "data": {
          "bar": [
           {
            "error_x": {
             "color": "#f2f5fa"
            },
            "error_y": {
             "color": "#f2f5fa"
            },
            "marker": {
             "line": {
              "color": "rgb(17,17,17)",
              "width": 0.5
             },
             "pattern": {
              "fillmode": "overlay",
              "size": 10,
              "solidity": 0.2
             }
            },
            "type": "bar"
           }
          ],
          "barpolar": [
           {
            "marker": {
             "line": {
              "color": "rgb(17,17,17)",
              "width": 0.5
             },
             "pattern": {
              "fillmode": "overlay",
              "size": 10,
              "solidity": 0.2
             }
            },
            "type": "barpolar"
           }
          ],
          "carpet": [
           {
            "aaxis": {
             "endlinecolor": "#A2B1C6",
             "gridcolor": "#506784",
             "linecolor": "#506784",
             "minorgridcolor": "#506784",
             "startlinecolor": "#A2B1C6"
            },
            "baxis": {
             "endlinecolor": "#A2B1C6",
             "gridcolor": "#506784",
             "linecolor": "#506784",
             "minorgridcolor": "#506784",
             "startlinecolor": "#A2B1C6"
            },
            "type": "carpet"
           }
          ],
          "choropleth": [
           {
            "colorbar": {
             "outlinewidth": 0,
             "ticks": ""
            },
            "type": "choropleth"
           }
          ],
          "contour": [
           {
            "colorbar": {
             "outlinewidth": 0,
             "ticks": ""
            },
            "colorscale": [
             [
              0,
              "#0d0887"
             ],
             [
              0.1111111111111111,
              "#46039f"
             ],
             [
              0.2222222222222222,
              "#7201a8"
             ],
             [
              0.3333333333333333,
              "#9c179e"
             ],
             [
              0.4444444444444444,
              "#bd3786"
             ],
             [
              0.5555555555555556,
              "#d8576b"
             ],
             [
              0.6666666666666666,
              "#ed7953"
             ],
             [
              0.7777777777777778,
              "#fb9f3a"
             ],
             [
              0.8888888888888888,
              "#fdca26"
             ],
             [
              1,
              "#f0f921"
             ]
            ],
            "type": "contour"
           }
          ],
          "contourcarpet": [
           {
            "colorbar": {
             "outlinewidth": 0,
             "ticks": ""
            },
            "type": "contourcarpet"
           }
          ],
          "heatmap": [
           {
            "colorbar": {
             "outlinewidth": 0,
             "ticks": ""
            },
            "colorscale": [
             [
              0,
              "#0d0887"
             ],
             [
              0.1111111111111111,
              "#46039f"
             ],
             [
              0.2222222222222222,
              "#7201a8"
             ],
             [
              0.3333333333333333,
              "#9c179e"
             ],
             [
              0.4444444444444444,
              "#bd3786"
             ],
             [
              0.5555555555555556,
              "#d8576b"
             ],
             [
              0.6666666666666666,
              "#ed7953"
             ],
             [
              0.7777777777777778,
              "#fb9f3a"
             ],
             [
              0.8888888888888888,
              "#fdca26"
             ],
             [
              1,
              "#f0f921"
             ]
            ],
            "type": "heatmap"
           }
          ],
          "heatmapgl": [
           {
            "colorbar": {
             "outlinewidth": 0,
             "ticks": ""
            },
            "colorscale": [
             [
              0,
              "#0d0887"
             ],
             [
              0.1111111111111111,
              "#46039f"
             ],
             [
              0.2222222222222222,
              "#7201a8"
             ],
             [
              0.3333333333333333,
              "#9c179e"
             ],
             [
              0.4444444444444444,
              "#bd3786"
             ],
             [
              0.5555555555555556,
              "#d8576b"
             ],
             [
              0.6666666666666666,
              "#ed7953"
             ],
             [
              0.7777777777777778,
              "#fb9f3a"
             ],
             [
              0.8888888888888888,
              "#fdca26"
             ],
             [
              1,
              "#f0f921"
             ]
            ],
            "type": "heatmapgl"
           }
          ],
          "histogram": [
           {
            "marker": {
             "pattern": {
              "fillmode": "overlay",
              "size": 10,
              "solidity": 0.2
             }
            },
            "type": "histogram"
           }
          ],
          "histogram2d": [
           {
            "colorbar": {
             "outlinewidth": 0,
             "ticks": ""
            },
            "colorscale": [
             [
              0,
              "#0d0887"
             ],
             [
              0.1111111111111111,
              "#46039f"
             ],
             [
              0.2222222222222222,
              "#7201a8"
             ],
             [
              0.3333333333333333,
              "#9c179e"
             ],
             [
              0.4444444444444444,
              "#bd3786"
             ],
             [
              0.5555555555555556,
              "#d8576b"
             ],
             [
              0.6666666666666666,
              "#ed7953"
             ],
             [
              0.7777777777777778,
              "#fb9f3a"
             ],
             [
              0.8888888888888888,
              "#fdca26"
             ],
             [
              1,
              "#f0f921"
             ]
            ],
            "type": "histogram2d"
           }
          ],
          "histogram2dcontour": [
           {
            "colorbar": {
             "outlinewidth": 0,
             "ticks": ""
            },
            "colorscale": [
             [
              0,
              "#0d0887"
             ],
             [
              0.1111111111111111,
              "#46039f"
             ],
             [
              0.2222222222222222,
              "#7201a8"
             ],
             [
              0.3333333333333333,
              "#9c179e"
             ],
             [
              0.4444444444444444,
              "#bd3786"
             ],
             [
              0.5555555555555556,
              "#d8576b"
             ],
             [
              0.6666666666666666,
              "#ed7953"
             ],
             [
              0.7777777777777778,
              "#fb9f3a"
             ],
             [
              0.8888888888888888,
              "#fdca26"
             ],
             [
              1,
              "#f0f921"
             ]
            ],
            "type": "histogram2dcontour"
           }
          ],
          "mesh3d": [
           {
            "colorbar": {
             "outlinewidth": 0,
             "ticks": ""
            },
            "type": "mesh3d"
           }
          ],
          "parcoords": [
           {
            "line": {
             "colorbar": {
              "outlinewidth": 0,
              "ticks": ""
             }
            },
            "type": "parcoords"
           }
          ],
          "pie": [
           {
            "automargin": true,
            "type": "pie"
           }
          ],
          "scatter": [
           {
            "marker": {
             "line": {
              "color": "#283442"
             }
            },
            "type": "scatter"
           }
          ],
          "scatter3d": [
           {
            "line": {
             "colorbar": {
              "outlinewidth": 0,
              "ticks": ""
             }
            },
            "marker": {
             "colorbar": {
              "outlinewidth": 0,
              "ticks": ""
             }
            },
            "type": "scatter3d"
           }
          ],
          "scattercarpet": [
           {
            "marker": {
             "colorbar": {
              "outlinewidth": 0,
              "ticks": ""
             }
            },
            "type": "scattercarpet"
           }
          ],
          "scattergeo": [
           {
            "marker": {
             "colorbar": {
              "outlinewidth": 0,
              "ticks": ""
             }
            },
            "type": "scattergeo"
           }
          ],
          "scattergl": [
           {
            "marker": {
             "line": {
              "color": "#283442"
             }
            },
            "type": "scattergl"
           }
          ],
          "scattermapbox": [
           {
            "marker": {
             "colorbar": {
              "outlinewidth": 0,
              "ticks": ""
             }
            },
            "type": "scattermapbox"
           }
          ],
          "scatterpolar": [
           {
            "marker": {
             "colorbar": {
              "outlinewidth": 0,
              "ticks": ""
             }
            },
            "type": "scatterpolar"
           }
          ],
          "scatterpolargl": [
           {
            "marker": {
             "colorbar": {
              "outlinewidth": 0,
              "ticks": ""
             }
            },
            "type": "scatterpolargl"
           }
          ],
          "scatterternary": [
           {
            "marker": {
             "colorbar": {
              "outlinewidth": 0,
              "ticks": ""
             }
            },
            "type": "scatterternary"
           }
          ],
          "surface": [
           {
            "colorbar": {
             "outlinewidth": 0,
             "ticks": ""
            },
            "colorscale": [
             [
              0,
              "#0d0887"
             ],
             [
              0.1111111111111111,
              "#46039f"
             ],
             [
              0.2222222222222222,
              "#7201a8"
             ],
             [
              0.3333333333333333,
              "#9c179e"
             ],
             [
              0.4444444444444444,
              "#bd3786"
             ],
             [
              0.5555555555555556,
              "#d8576b"
             ],
             [
              0.6666666666666666,
              "#ed7953"
             ],
             [
              0.7777777777777778,
              "#fb9f3a"
             ],
             [
              0.8888888888888888,
              "#fdca26"
             ],
             [
              1,
              "#f0f921"
             ]
            ],
            "type": "surface"
           }
          ],
          "table": [
           {
            "cells": {
             "fill": {
              "color": "#506784"
             },
             "line": {
              "color": "rgb(17,17,17)"
             }
            },
            "header": {
             "fill": {
              "color": "#2a3f5f"
             },
             "line": {
              "color": "rgb(17,17,17)"
             }
            },
            "type": "table"
           }
          ]
         },
         "layout": {
          "annotationdefaults": {
           "arrowcolor": "#f2f5fa",
           "arrowhead": 0,
           "arrowwidth": 1
          },
          "autotypenumbers": "strict",
          "coloraxis": {
           "colorbar": {
            "outlinewidth": 0,
            "ticks": ""
           }
          },
          "colorscale": {
           "diverging": [
            [
             0,
             "#8e0152"
            ],
            [
             0.1,
             "#c51b7d"
            ],
            [
             0.2,
             "#de77ae"
            ],
            [
             0.3,
             "#f1b6da"
            ],
            [
             0.4,
             "#fde0ef"
            ],
            [
             0.5,
             "#f7f7f7"
            ],
            [
             0.6,
             "#e6f5d0"
            ],
            [
             0.7,
             "#b8e186"
            ],
            [
             0.8,
             "#7fbc41"
            ],
            [
             0.9,
             "#4d9221"
            ],
            [
             1,
             "#276419"
            ]
           ],
           "sequential": [
            [
             0,
             "#0d0887"
            ],
            [
             0.1111111111111111,
             "#46039f"
            ],
            [
             0.2222222222222222,
             "#7201a8"
            ],
            [
             0.3333333333333333,
             "#9c179e"
            ],
            [
             0.4444444444444444,
             "#bd3786"
            ],
            [
             0.5555555555555556,
             "#d8576b"
            ],
            [
             0.6666666666666666,
             "#ed7953"
            ],
            [
             0.7777777777777778,
             "#fb9f3a"
            ],
            [
             0.8888888888888888,
             "#fdca26"
            ],
            [
             1,
             "#f0f921"
            ]
           ],
           "sequentialminus": [
            [
             0,
             "#0d0887"
            ],
            [
             0.1111111111111111,
             "#46039f"
            ],
            [
             0.2222222222222222,
             "#7201a8"
            ],
            [
             0.3333333333333333,
             "#9c179e"
            ],
            [
             0.4444444444444444,
             "#bd3786"
            ],
            [
             0.5555555555555556,
             "#d8576b"
            ],
            [
             0.6666666666666666,
             "#ed7953"
            ],
            [
             0.7777777777777778,
             "#fb9f3a"
            ],
            [
             0.8888888888888888,
             "#fdca26"
            ],
            [
             1,
             "#f0f921"
            ]
           ]
          },
          "colorway": [
           "#636efa",
           "#EF553B",
           "#00cc96",
           "#ab63fa",
           "#FFA15A",
           "#19d3f3",
           "#FF6692",
           "#B6E880",
           "#FF97FF",
           "#FECB52"
          ],
          "font": {
           "color": "#f2f5fa"
          },
          "geo": {
           "bgcolor": "rgb(17,17,17)",
           "lakecolor": "rgb(17,17,17)",
           "landcolor": "rgb(17,17,17)",
           "showlakes": true,
           "showland": true,
           "subunitcolor": "#506784"
          },
          "hoverlabel": {
           "align": "left"
          },
          "hovermode": "closest",
          "mapbox": {
           "style": "dark"
          },
          "paper_bgcolor": "rgb(17,17,17)",
          "plot_bgcolor": "rgb(17,17,17)",
          "polar": {
           "angularaxis": {
            "gridcolor": "#506784",
            "linecolor": "#506784",
            "ticks": ""
           },
           "bgcolor": "rgb(17,17,17)",
           "radialaxis": {
            "gridcolor": "#506784",
            "linecolor": "#506784",
            "ticks": ""
           }
          },
          "scene": {
           "xaxis": {
            "backgroundcolor": "rgb(17,17,17)",
            "gridcolor": "#506784",
            "gridwidth": 2,
            "linecolor": "#506784",
            "showbackground": true,
            "ticks": "",
            "zerolinecolor": "#C8D4E3"
           },
           "yaxis": {
            "backgroundcolor": "rgb(17,17,17)",
            "gridcolor": "#506784",
            "gridwidth": 2,
            "linecolor": "#506784",
            "showbackground": true,
            "ticks": "",
            "zerolinecolor": "#C8D4E3"
           },
           "zaxis": {
            "backgroundcolor": "rgb(17,17,17)",
            "gridcolor": "#506784",
            "gridwidth": 2,
            "linecolor": "#506784",
            "showbackground": true,
            "ticks": "",
            "zerolinecolor": "#C8D4E3"
           }
          },
          "shapedefaults": {
           "line": {
            "color": "#f2f5fa"
           }
          },
          "sliderdefaults": {
           "bgcolor": "#C8D4E3",
           "bordercolor": "rgb(17,17,17)",
           "borderwidth": 1,
           "tickwidth": 0
          },
          "ternary": {
           "aaxis": {
            "gridcolor": "#506784",
            "linecolor": "#506784",
            "ticks": ""
           },
           "baxis": {
            "gridcolor": "#506784",
            "linecolor": "#506784",
            "ticks": ""
           },
           "bgcolor": "rgb(17,17,17)",
           "caxis": {
            "gridcolor": "#506784",
            "linecolor": "#506784",
            "ticks": ""
           }
          },
          "title": {
           "x": 0.05
          },
          "updatemenudefaults": {
           "bgcolor": "#506784",
           "borderwidth": 0
          },
          "xaxis": {
           "automargin": true,
           "gridcolor": "#283442",
           "linecolor": "#506784",
           "ticks": "",
           "title": {
            "standoff": 15
           },
           "zerolinecolor": "#283442",
           "zerolinewidth": 2
          },
          "yaxis": {
           "automargin": true,
           "gridcolor": "#283442",
           "linecolor": "#506784",
           "ticks": "",
           "title": {
            "standoff": 15
           },
           "zerolinecolor": "#283442",
           "zerolinewidth": 2
          }
         }
        },
        "xaxis": {
         "anchor": "y",
         "domain": [
          0,
          1
         ],
         "title": {
          "text": "index"
         }
        },
        "yaxis": {
         "anchor": "x",
         "domain": [
          0,
          1
         ],
         "title": {
          "text": "value"
         }
        }
       }
      }
     },
     "metadata": {},
     "output_type": "display_data"
    }
   ],
   "source": [
    "concat_df = pd.concat([sell_data, predictions_future], axis=0)\n",
    "concat_df_i = pd.date_range(start='2014-03-01', end = '2024-05-01', freq = 'MS')\n",
    "concat_df.set_index(concat_df_i, inplace=True)\n",
    "\n",
    "fig = px.line(concat_df, x=concat_df.index, y=[\"A2\", \"prediction_label\"], template = 'plotly_dark')\n",
    "fig.show()"
   ]
  }
 ],
 "metadata": {
  "kernelspec": {
   "display_name": "Python 3 (ipykernel)",
   "language": "python",
   "name": "python3"
  },
  "language_info": {
   "codemirror_mode": {
    "name": "ipython",
    "version": 3
   },
   "file_extension": ".py",
   "mimetype": "text/x-python",
   "name": "python",
   "nbconvert_exporter": "python",
   "pygments_lexer": "ipython3",
   "version": "3.9.10"
  }
 },
 "nbformat": 4,
 "nbformat_minor": 5
}
